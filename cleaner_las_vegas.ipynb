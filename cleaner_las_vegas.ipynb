{
 "cells": [
  {
   "cell_type": "code",
   "execution_count": 1,
   "metadata": {
    "collapsed": true
   },
   "outputs": [],
   "source": [
    "las_vegas_osm = 'LV_truncated.osm'"
   ]
  },
  {
   "cell_type": "code",
   "execution_count": 2,
   "metadata": {
    "collapsed": false
   },
   "outputs": [],
   "source": [
    "import xml.etree.cElementTree as ET\n",
    "import pprint\n",
    "import re\n",
    "\n",
    "#street_types = defaultdict(set)\n",
    "\n",
    "def audit_street_type(street_types, expected, street_name):\n",
    "    street_type_re = re.compile(r'\\b\\S+\\.?$', re.IGNORECASE)\n",
    "    found = street_type_re.search(street_name)\n",
    "    if found:\n",
    "        street_type = found.group()\n",
    "        if street_type not in expected:\n",
    "            if street_type not in street_types:\n",
    "                street_types[street_type] = [street_name]\n",
    "            else:\n",
    "                street_types[street_type].append(street_name)\n",
    "\n",
    "def collect_way_types(expected_types):\n",
    "    street_types = {}\n",
    "    for event, elem in ET.iterparse(las_vegas_osm, events=('start',)):\n",
    "        flag = False\n",
    "        if elem.tag == 'way':\n",
    "            for tag in elem.iter('tag'):\n",
    "                if tag.attrib['k'] == 'building':\n",
    "                    flag = True\n",
    "                elif tag.attrib['k'] == 'amenity':\n",
    "                    flag = True\n",
    "                elif tag.attrib['k'] == 'golf':\n",
    "                    flag = True\n",
    "            if flag == False:\n",
    "                for tag in elem.iter('tag'):\n",
    "                    if tag.attrib['k'] == 'name':\n",
    "                        street_name = tag.attrib['v']\n",
    "                        audit_street_type(street_types, expected_types, street_name)\n",
    "    return street_types"
   ]
  },
  {
   "cell_type": "code",
   "execution_count": 3,
   "metadata": {
    "collapsed": false
   },
   "outputs": [
    {
     "data": {
      "text/plain": [
       "194"
      ]
     },
     "execution_count": 3,
     "metadata": {},
     "output_type": "execute_result"
    }
   ],
   "source": [
    "street_types = collect_way_types([])\n",
    "len(street_types)"
   ]
  },
  {
   "cell_type": "code",
   "execution_count": 4,
   "metadata": {
    "collapsed": false
   },
   "outputs": [],
   "source": [
    "common_types = []\n",
    "for key, value in street_types.items():\n",
    "    if len(value) > 5:\n",
    "        common_types.append(key)"
   ]
  },
  {
   "cell_type": "code",
   "execution_count": 5,
   "metadata": {
    "collapsed": false
   },
   "outputs": [
    {
     "name": "stdout",
     "output_type": "stream",
     "text": [
      "['Beltway',\n",
      " 'Circle',\n",
      " 'Park',\n",
      " 'Railroad',\n",
      " 'Place',\n",
      " 'Boulevard',\n",
      " 'Way',\n",
      " 'Trail',\n",
      " 'Lane',\n",
      " 'Parkway',\n",
      " 'Road',\n",
      " 'Avenue',\n",
      " 'Court',\n",
      " 'Drive',\n",
      " 'Freeway',\n",
      " 'Street',\n",
      " 'Terrace']\n"
     ]
    }
   ],
   "source": [
    "pprint.pprint(common_types)"
   ]
  },
  {
   "cell_type": "markdown",
   "metadata": {},
   "source": [
    "'Terrace' I'll still take a closer look at."
   ]
  },
  {
   "cell_type": "code",
   "execution_count": 6,
   "metadata": {
    "collapsed": false
   },
   "outputs": [],
   "source": [
    "check_out = ['Terrace']\n",
    "for i in check_out:\n",
    "    common_types.remove(i)        "
   ]
  },
  {
   "cell_type": "code",
   "execution_count": 7,
   "metadata": {
    "collapsed": false
   },
   "outputs": [
    {
     "data": {
      "text/plain": [
       "['Beltway',\n",
       " 'Circle',\n",
       " 'Park',\n",
       " 'Railroad',\n",
       " 'Place',\n",
       " 'Boulevard',\n",
       " 'Way',\n",
       " 'Trail',\n",
       " 'Lane',\n",
       " 'Parkway',\n",
       " 'Road',\n",
       " 'Avenue',\n",
       " 'Court',\n",
       " 'Drive',\n",
       " 'Freeway',\n",
       " 'Street']"
      ]
     },
     "execution_count": 7,
     "metadata": {},
     "output_type": "execute_result"
    }
   ],
   "source": [
    "common_types"
   ]
  },
  {
   "cell_type": "code",
   "execution_count": 8,
   "metadata": {
    "collapsed": false
   },
   "outputs": [
    {
     "data": {
      "text/plain": [
       "{'113': ['NPS 113'],\n",
       " '15': ['Interstate 15'],\n",
       " '16th': ['16th'],\n",
       " '41A': ['State Route 41A'],\n",
       " '6th': ['6th'],\n",
       " '8': ['Bird Viewing Pond #8'],\n",
       " '93': ['Old US 93',\n",
       "  'Old US 93',\n",
       "  'Future I-11 / I-515 / US 93',\n",
       "  'Future I-11 / US 93'],\n",
       " 'Access': ['CSN Access'],\n",
       " 'Aisle': ['Life Time Athletic Parking Aisle'],\n",
       " 'Alex': ['Villa Alex'],\n",
       " 'Alley': ['Ira Alley'],\n",
       " 'Almond': ['Almond'],\n",
       " 'Alto': ['Cerchio Alto'],\n",
       " 'Apartments': ['Bella Terra Luxury Apartments'],\n",
       " 'Arenas': ['Avenida Arenas'],\n",
       " 'Arrow': ['Straight Arrow'],\n",
       " 'Ave': ['Condo Villa Ave'],\n",
       " 'Avenmue': ['West Fenway Park Avenmue'],\n",
       " 'B': ['Avenue B'],\n",
       " 'Barberini': ['Via Barberini'],\n",
       " 'Bay': ['Kahala Bay'],\n",
       " 'Bullring': ['The Bullring'],\n",
       " 'Bypass': ['Hoover Dam Bypass', 'Hoover Dam Bypass', 'Hoover Dam Bypass'],\n",
       " 'Campground': ['Willow Beach Campground', 'Willow Beach Campground'],\n",
       " 'Celina': ['Donna Celina'],\n",
       " 'Center': ['Trails Center'],\n",
       " 'Channel': ['Rawhide Channel'],\n",
       " 'Chelmsford': ['Chelmsford'],\n",
       " 'Cima': ['La Cima'],\n",
       " 'Cividino': ['Via Cividino'],\n",
       " 'Clark': ['Rue Clark'],\n",
       " 'Cliff': ['Cliff'],\n",
       " 'Club': ['Green Valley Country Club'],\n",
       " 'Concord': ['Concord'],\n",
       " 'Cottage': ['Cozy Cottage'],\n",
       " 'Course': ['Shadow Creek Golf Course'],\n",
       " 'Cove': ['Hemenway Cove'],\n",
       " 'Creek': ['Twin Creek'],\n",
       " 'Crest': ['Huntington Crest'],\n",
       " 'Crossing': ['The Crossing'],\n",
       " 'Denali': ['Denali'],\n",
       " 'Desert': ['Red Desert'],\n",
       " 'Difficult)': ['3 Amigos (Difficult)', 'Hurl (Difficult)'],\n",
       " 'Driive': ['Wonderful Day Driive'],\n",
       " 'East': ['Park Way East', 'Three Crowns Drive East'],\n",
       " 'Easy)': ['Mustang (Easy)', 'Inner Loop (Easy);Latenight Loop (Easy)'],\n",
       " 'Estates': ['Castle Rock Estates',\n",
       "  'River Mountain View Estates',\n",
       "  'Arrowhead Estates'],\n",
       " 'Falls': ['Brown Bear Falls'],\n",
       " 'Fiesta': ['Avenida Fiesta'],\n",
       " 'Firenze': ['Via Firenze', 'Via Firenze', 'Via Firenze'],\n",
       " 'Flippin': ['Flippin'],\n",
       " 'Forest': ['Yucca Forest'],\n",
       " 'Francisco': ['Camino Francisco'],\n",
       " 'Gambler': ['Gambler'],\n",
       " 'Hills': ['The Commons at Seven Hills', 'Carnegie Hills', 'South Hills'],\n",
       " 'Homes': ['Andiamo Apartment Homes'],\n",
       " 'Homestretch': ['Homestretch'],\n",
       " 'Hwy': ['Great Basin Hwy'],\n",
       " 'Inspirada': ['Via Inspirada'],\n",
       " 'Interconnect': ['Paradise - Maryland Interconnect',\n",
       "  'Pecos-McLeod Interconnect'],\n",
       " 'Ironside': ['Ironside'],\n",
       " 'Island': ['Black Island'],\n",
       " 'Islandia': ['Islandia'],\n",
       " 'Jet': ['Strato Jet'],\n",
       " 'L': ['Avenue L'],\n",
       " 'Lacoste': ['Lacoste'],\n",
       " 'Lake': ['Cottonwood Lake', 'Dry Lake'],\n",
       " 'Lanes': ['I-15 Express Lanes'],\n",
       " 'Larey': ['Larey'],\n",
       " 'Laterna': ['Via Laterna'],\n",
       " 'Lauri': ['Lauri'],\n",
       " 'Lawana': ['Lawana'],\n",
       " 'Legato': ['Legato'],\n",
       " 'Line': ['Terminal 1-C Gate Line'],\n",
       " 'Loop': ['Kittansett Loop', 'Heart of Henderson Loop'],\n",
       " 'Lot': ['Empty Lot'],\n",
       " 'Lounge': ['VIP Lounge'],\n",
       " 'Lower': ['Las Vegas Wash Trail, Lower'],\n",
       " 'Luz': ['Calle de Luz'],\n",
       " 'Mancinni': ['Via Mancinni'],\n",
       " 'Mandy': ['Mandy'],\n",
       " 'Mantova': ['Via Mantova'],\n",
       " 'Maple': ['Silver Maple'],\n",
       " 'Marsala': ['Villa Marsala'],\n",
       " 'Matteo': ['Via San Matteo'],\n",
       " 'Mhp': ['Las Vegas Jaycees Mhp'],\n",
       " 'Moderate)': ['East Leg (Moderate)'],\n",
       " 'Monorail': ['Las Vegas Monorail'],\n",
       " 'Montiano': ['Montiano'],\n",
       " 'Moss': ['Valley Moss'],\n",
       " 'Mountain': ['Villas at Black Mountain'],\n",
       " 'Nord': ['Via del Nord'],\n",
       " 'North': ['Las Vegas Boulevard North', 'Las Vegas Boulevard North'],\n",
       " 'Oak': ['Cork Oak'],\n",
       " 'Oaks': ['Seven Oaks'],\n",
       " 'Oasis': ['Nellis Oasis'],\n",
       " 'P': ['Love G & P'],\n",
       " 'Pacific': ['Union Pacific'],\n",
       " 'Padero': ['Padero'],\n",
       " 'Padre': ['Plaza del Padre'],\n",
       " 'Palmero': ['Via Casa Palmero'],\n",
       " 'Paradise': ['Paradise'],\n",
       " 'Paseo': ['LeBaron Paseo'],\n",
       " 'Pastini': ['Via Pastini'],\n",
       " 'Path': ['Calico Basin Walking Path', 'Calico Basin Walking Path'],\n",
       " 'Paths': ['Cornerstone Park Paths'],\n",
       " 'Paz': ['Camino la Paz'],\n",
       " 'Pines': ['Fairway Pines'],\n",
       " 'Plaza': ['Spanish Court Plaza',\n",
       "  'Jackie Gaughan Plaza',\n",
       "  'East Windmill Shopping Plaza',\n",
       "  'John Helter Plaza'],\n",
       " 'Point': ['Sunset Point'],\n",
       " 'Pool': ['Moorea Beach Club Pool'],\n",
       " 'Portico': ['Portico'],\n",
       " 'Rafael': ['Plaza de Rafael'],\n",
       " 'Ray': ['Camino del Ray'],\n",
       " 'Rd': ['El Camino Rd'],\n",
       " 'Reef': ['Whisper Reef'],\n",
       " 'Renaldo': ['Via Renaldo'],\n",
       " 'Resort': ['Red Rock Resort'],\n",
       " 'Ridge': ['Mission Ridge'],\n",
       " 'River': ['Muddy River'],\n",
       " 'Rosa': ['Plaza de Rosa'],\n",
       " 'Route': ['Fortification Hill Trail: Wash Route'],\n",
       " 'S': ['Las Vegas Boulevard S'],\n",
       " 'Sawtooth': ['Sawtooth'],\n",
       " 'Scottyboy': ['Scottyboy'],\n",
       " 'Scula': ['South Via Scula'],\n",
       " 'Seashore': ['Seashore'],\n",
       " 'Serene': ['West Serene'],\n",
       " 'Services': ['Access Republic Services'],\n",
       " 'Shore': ['Silver Shore', 'Sage Shore'],\n",
       " 'Sierra': ['Grand Sierra'],\n",
       " 'Sol': ['S FLore del Sol'],\n",
       " 'Solano': ['Solano'],\n",
       " 'Somerset': ['Somerset'],\n",
       " 'South': ['Symphony Park Avenue South',\n",
       "  'Las Vegas Boulevard South',\n",
       "  'Las Vegas Boulevard South'],\n",
       " 'Speedway': ['Las Vegas Motor Speedway'],\n",
       " 'Spillway': ['Arizona Spillway'],\n",
       " 'Spur': ['Nlv Industl Spur', 'Nlv Industl Spur'],\n",
       " 'Star': ['Rising Star'],\n",
       " 'Station': ['Palace Station'],\n",
       " 'Stream': ['Gold Stream'],\n",
       " 'Substation': ['Northwest Substation'],\n",
       " 'Sutton': ['Sutton'],\n",
       " 'Swapp': ['Swapp'],\n",
       " 'Swim': ['Night Swim'],\n",
       " 'Switch': ['Nevada Industrial Switch'],\n",
       " 'Tampico': ['Avenida Tampico'],\n",
       " 'Tartaruga': ['Via de Tartaruga'],\n",
       " 'Terrace': ['Ashley Rose Terrace',\n",
       "  'Sandy Hook Terrace',\n",
       "  'Curio Terrace',\n",
       "  'Pretty Sunset Terrace',\n",
       "  'Arroya Vista Terrace',\n",
       "  'Franklin Chase Terrace',\n",
       "  'Willow Wisp Terrace',\n",
       "  'Calanques Terrace',\n",
       "  'Hayden Creek Terrace',\n",
       "  'Lavender Moon Terrace',\n",
       "  'Copilico Terrace',\n",
       "  'Hidden Ranch Terrace',\n",
       "  'Cattlebaron Terrace',\n",
       "  'Sonic Terrace',\n",
       "  'Claremont Cove Terrace'],\n",
       " 'Thrust': ['Keystone Thrust'],\n",
       " 'Time': ['Old Time'],\n",
       " 'Tomsik': ['South Tomsik'],\n",
       " 'Town': [\"Las Vegas KOA at Sam's Town\"],\n",
       " 'Townhomes': ['Eagle Crest Townhomes'],\n",
       " 'Trace': ['Pacific Trace'],\n",
       " 'Trango': ['Trango'],\n",
       " 'Tripoli': ['Tripoli'],\n",
       " 'Tucson': ['Tucson'],\n",
       " 'Tunnel': ['Infield Tunnel'],\n",
       " 'Vega': ['Calle de Vega'],\n",
       " 'Vegas': ['Sky Las Vegas'],\n",
       " 'Vehicles': ['Nevada Department of Motor Vehicles'],\n",
       " 'Verselles': ['Private Chateau Verselles'],\n",
       " 'Vicchio': ['Via Vicchio'],\n",
       " 'Vista': ['South Bonita Vista'],\n",
       " 'Wagenen': ['East Van Wagenen'],\n",
       " 'Walk': ['Color Blending Walk', 'Florindo Walk'],\n",
       " 'Walkingstick': ['Walkingstick'],\n",
       " 'Wanderlust': ['Wanderlust'],\n",
       " 'Wash': ['Flamingo Wash',\n",
       "  'Tropicana Wash',\n",
       "  'Las Vegas Wash',\n",
       "  'Petroglyph Wash',\n",
       "  'Pittman Wash'],\n",
       " 'Waters': ['Perfect Waters', 'Falling Waters'],\n",
       " 'West': ['Monte Carlo West', 'Seal Cay West'],\n",
       " 'Wilderness': ['Eldorado Wilderness'],\n",
       " 'Wing': ['Red Wing'],\n",
       " 'overpass': ['Bighorn sheep overpass'],\n",
       " 'parking': ['Route parking', u'Acc\\xe8s parking', u'Acc\\xe8s parking'],\n",
       " 'spur': ['Coca Cola spur'],\n",
       " 'trail': ['Boulder Highway trail']}"
      ]
     },
     "execution_count": 8,
     "metadata": {},
     "output_type": "execute_result"
    }
   ],
   "source": [
    "street_types = collect_way_types(common_types)\n",
    "street_types"
   ]
  },
  {
   "cell_type": "code",
   "execution_count": 298,
   "metadata": {
    "collapsed": false
   },
   "outputs": [],
   "source": [
    "def find_something(regex):\n",
    "    '''Prints all XML elements matching the specified regex somewhere in their tags. Returns None.'''\n",
    "    import re\n",
    "    for event, elem in ET.iterparse(las_vegas_osm, events=('start',)):\n",
    "        if elem.tag == 'way':\n",
    "            for tag in elem.iter('tag'):\n",
    "                if tag.attrib['k'] == 'name':\n",
    "                    if re.search(regex, ET.tostring(tag)):\n",
    "                        print \"Check ID online at: http://www.openstreetmap.org/way/\" + elem.attrib['id'] + '\\n'\n",
    "                        ET.dump(elem)"
   ]
  },
  {
   "cell_type": "code",
   "execution_count": 299,
   "metadata": {
    "collapsed": false
   },
   "outputs": [
    {
     "name": "stdout",
     "output_type": "stream",
     "text": [
      "Check ID online at: http://www.openstreetmap.org/way/30393936\n",
      "\n",
      "<way changeset=\"31276823\" id=\"30393936\" timestamp=\"2015-05-19T08:50:05Z\" uid=\"496923\" user=\"abellaofernandez\" version=\"5\">\n",
      "\t\t<nd ref=\"335493071\" />\n",
      "\t\t<nd ref=\"1496000601\" />\n",
      "\t\t<nd ref=\"335493076\" />\n",
      "\t\t<nd ref=\"335493081\" />\n",
      "\t\t<nd ref=\"335493084\" />\n",
      "\t\t<nd ref=\"335493085\" />\n",
      "\t\t<nd ref=\"335493087\" />\n",
      "\t\t<nd ref=\"335493093\" />\n",
      "\t\t<nd ref=\"335493097\" />\n",
      "\t\t<nd ref=\"335493099\" />\n",
      "\t\t<nd ref=\"335493102\" />\n",
      "\t\t<nd ref=\"335493107\" />\n",
      "\t\t<nd ref=\"335493111\" />\n",
      "\t\t<nd ref=\"335493115\" />\n",
      "\t\t<nd ref=\"335493120\" />\n",
      "\t\t<nd ref=\"335493071\" />\n",
      "\t\t<tag k=\"name\" v=\"Parking Area 13\" />\n",
      "\t\t<tag k=\"amenity\" v=\"parking\" />\n",
      "\t\t<tag k=\"parking\" v=\"surface\" />\n",
      "\t</way>\n",
      "\t\n"
     ]
    }
   ],
   "source": [
    "find_something('Parking Area 13')"
   ]
  },
  {
   "cell_type": "markdown",
   "metadata": {},
   "source": [
    "It's next to Hoover Dam!!!! :D"
   ]
  },
  {
   "cell_type": "code",
   "execution_count": 11,
   "metadata": {
    "collapsed": false
   },
   "outputs": [
    {
     "name": "stdout",
     "output_type": "stream",
     "text": [
      "<way changeset=\"14227278\" id=\"195569712\" timestamp=\"2012-12-10T15:16:06Z\" uid=\"78871\" user=\"ocotillo\" version=\"2\">\n",
      "\t\t<nd ref=\"2059903088\" />\n",
      "\t\t<nd ref=\"2059903119\" />\n",
      "\t\t<nd ref=\"2059903121\" />\n",
      "\t\t<nd ref=\"2059903123\" />\n",
      "\t\t<nd ref=\"2059903124\" />\n",
      "\t\t<nd ref=\"2059903125\" />\n",
      "\t\t<nd ref=\"2059903126\" />\n",
      "\t\t<nd ref=\"2059903127\" />\n",
      "\t\t<nd ref=\"2059903128\" />\n",
      "\t\t<nd ref=\"2059903129\" />\n",
      "\t\t<nd ref=\"2059903130\" />\n",
      "\t\t<nd ref=\"2059903131\" />\n",
      "\t\t<nd ref=\"2059903133\" />\n",
      "\t\t<nd ref=\"2059903135\" />\n",
      "\t\t<nd ref=\"2059903137\" />\n",
      "\t\t<nd ref=\"2059903139\" />\n",
      "\t\t<nd ref=\"2059903141\" />\n",
      "\t\t<nd ref=\"2059903148\" />\n",
      "\t\t<nd ref=\"2059903150\" />\n",
      "\t\t<nd ref=\"2059903152\" />\n",
      "\t\t<nd ref=\"2059903154\" />\n",
      "\t\t<nd ref=\"2059903156\" />\n",
      "\t\t<nd ref=\"2059903158\" />\n",
      "\t\t<nd ref=\"2059903160\" />\n",
      "\t\t<nd ref=\"2059903162\" />\n",
      "\t\t<nd ref=\"2059903164\" />\n",
      "\t\t<nd ref=\"2059903166\" />\n",
      "\t\t<nd ref=\"2059903169\" />\n",
      "\t\t<nd ref=\"2059903171\" />\n",
      "\t\t<nd ref=\"2059903173\" />\n",
      "\t\t<nd ref=\"2059903175\" />\n",
      "\t\t<nd ref=\"2059903177\" />\n",
      "\t\t<nd ref=\"2059903179\" />\n",
      "\t\t<nd ref=\"2059903181\" />\n",
      "\t\t<nd ref=\"2059903183\" />\n",
      "\t\t<nd ref=\"2059903185\" />\n",
      "\t\t<nd ref=\"2059903187\" />\n",
      "\t\t<nd ref=\"2059903189\" />\n",
      "\t\t<nd ref=\"2059903191\" />\n",
      "\t\t<nd ref=\"2059903193\" />\n",
      "\t\t<nd ref=\"2059903195\" />\n",
      "\t\t<nd ref=\"2059903196\" />\n",
      "\t\t<nd ref=\"2059903199\" />\n",
      "\t\t<nd ref=\"2059903200\" />\n",
      "\t\t<nd ref=\"2059903202\" />\n",
      "\t\t<nd ref=\"2059903205\" />\n",
      "\t\t<nd ref=\"2059903207\" />\n",
      "\t\t<nd ref=\"2059903208\" />\n",
      "\t\t<nd ref=\"2059903209\" />\n",
      "\t\t<nd ref=\"2059903210\" />\n",
      "\t\t<nd ref=\"2059903211\" />\n",
      "\t\t<nd ref=\"2059903212\" />\n",
      "\t\t<nd ref=\"2059903213\" />\n",
      "\t\t<nd ref=\"2059903214\" />\n",
      "\t\t<nd ref=\"2059903216\" />\n",
      "\t\t<nd ref=\"2059903218\" />\n",
      "\t\t<nd ref=\"2059903220\" />\n",
      "\t\t<nd ref=\"2059903227\" />\n",
      "\t\t<nd ref=\"2059903229\" />\n",
      "\t\t<nd ref=\"2059903231\" />\n",
      "\t\t<nd ref=\"2059903233\" />\n",
      "\t\t<nd ref=\"2059903235\" />\n",
      "\t\t<nd ref=\"2059903237\" />\n",
      "\t\t<nd ref=\"2059903239\" />\n",
      "\t\t<nd ref=\"2059903241\" />\n",
      "\t\t<nd ref=\"2059903243\" />\n",
      "\t\t<nd ref=\"2059840801\" />\n",
      "\t\t<tag k=\"name\" v=\"NPS 113\" />\n",
      "\t\t<tag k=\"source\" v=\"Bing\" />\n",
      "\t\t<tag k=\"highway\" v=\"track\" />\n",
      "\t\t<tag k=\"tracktype\" v=\"grade4\" />\n",
      "\t\t<tag k=\"tiger:cfcc\" v=\"A41\" />\n",
      "\t\t<tag k=\"tiger:tlid\" v=\"201844503\" />\n",
      "\t\t<tag k=\"tiger:county\" v=\"Clark, NV\" />\n",
      "\t\t<tag k=\"tiger:source\" v=\"tiger_import_dch_v0.6_20070813\" />\n",
      "\t\t<tag k=\"tiger:reviewed\" v=\"no\" />\n",
      "\t\t<tag k=\"tiger:separated\" v=\"no\" />\n",
      "\t\t<tag k=\"tiger:upload_uuid\" v=\"bulk_upload.pl-fa98df75-5974-4c49-9081-f3ca4b3c7383\" />\n",
      "\t</way>\n",
      "\t\n"
     ]
    }
   ],
   "source": [
    "find_something('NPS 113')"
   ]
  },
  {
   "cell_type": "code",
   "execution_count": 12,
   "metadata": {
    "collapsed": false
   },
   "outputs": [
    {
     "name": "stdout",
     "output_type": "stream",
     "text": [
      "<way changeset=\"32278499\" id=\"357088431\" timestamp=\"2015-06-29T07:57:20Z\" uid=\"1709189\" user=\"THIRRY\" version=\"1\">\n",
      "\t\t<nd ref=\"3624593903\" />\n",
      "\t\t<nd ref=\"3624593901\" />\n",
      "\t\t<nd ref=\"3624593902\" />\n",
      "\t\t<nd ref=\"3624593900\" />\n",
      "\t\t<nd ref=\"3624593903\" />\n",
      "\t\t<tag k=\"name\" v=\"Ferguson Motel Bldg 1\" />\n",
      "\t\t<tag k=\"source\" v=\"Google Maps\" />\n",
      "\t\t<tag k=\"building\" v=\"public\" />\n",
      "\t</way>\n",
      "\t\n"
     ]
    }
   ],
   "source": [
    "find_something('Ferguson Motel Bldg 1')"
   ]
  },
  {
   "cell_type": "code",
   "execution_count": 13,
   "metadata": {
    "collapsed": false
   },
   "outputs": [
    {
     "name": "stdout",
     "output_type": "stream",
     "text": [
      "<way changeset=\"9707081\" id=\"135466065\" timestamp=\"2011-10-31T21:30:08Z\" uid=\"336460\" user=\"robgeb\" version=\"1\">\n",
      "\t\t<nd ref=\"1487791748\" />\n",
      "\t\t<nd ref=\"1487791747\" />\n",
      "\t\t<nd ref=\"1487791735\" />\n",
      "\t\t<nd ref=\"1487791741\" />\n",
      "\t\t<nd ref=\"1487791761\" />\n",
      "\t\t<nd ref=\"1487791737\" />\n",
      "\t\t<nd ref=\"1487791746\" />\n",
      "\t\t<nd ref=\"1487791733\" />\n",
      "\t\t<nd ref=\"1487791763\" />\n",
      "\t\t<nd ref=\"1487791762\" />\n",
      "\t\t<nd ref=\"1487791749\" />\n",
      "\t\t<nd ref=\"1487791734\" />\n",
      "\t\t<nd ref=\"1487791757\" />\n",
      "\t\t<nd ref=\"1487791742\" />\n",
      "\t\t<nd ref=\"1487791759\" />\n",
      "\t\t<nd ref=\"1487791758\" />\n",
      "\t\t<nd ref=\"1487791736\" />\n",
      "\t\t<nd ref=\"1487791764\" />\n",
      "\t\t<nd ref=\"1487791765\" />\n",
      "\t\t<nd ref=\"1487791743\" />\n",
      "\t\t<nd ref=\"1487791752\" />\n",
      "\t\t<nd ref=\"1487791753\" />\n",
      "\t\t<nd ref=\"1487791739\" />\n",
      "\t\t<nd ref=\"1487791755\" />\n",
      "\t\t<nd ref=\"1487791750\" />\n",
      "\t\t<nd ref=\"1487791751\" />\n",
      "\t\t<nd ref=\"1487791760\" />\n",
      "\t\t<nd ref=\"1487791744\" />\n",
      "\t\t<nd ref=\"1487791738\" />\n",
      "\t\t<nd ref=\"1487791740\" />\n",
      "\t\t<nd ref=\"1487791748\" />\n",
      "\t\t<tag k=\"golf\" v=\"hole\" />\n",
      "\t\t<tag k=\"name\" v=\"10th\" />\n",
      "\t\t<tag k=\"landuse\" v=\"grass\" />\n",
      "\t</way>\n",
      "\t\n"
     ]
    }
   ],
   "source": [
    "find_something('10th')"
   ]
  },
  {
   "cell_type": "markdown",
   "metadata": {},
   "source": [
    "Oh! These things are golf holes..."
   ]
  },
  {
   "cell_type": "code",
   "execution_count": 14,
   "metadata": {
    "collapsed": false
   },
   "outputs": [
    {
     "name": "stdout",
     "output_type": "stream",
     "text": [
      "<way changeset=\"4250464\" id=\"14295489\" timestamp=\"2010-03-27T23:04:54Z\" uid=\"20587\" user=\"balrog-kun\" version=\"2\">\n",
      "\t\t<nd ref=\"137296094\" />\n",
      "\t\t<nd ref=\"137296097\" />\n",
      "\t\t<nd ref=\"137296099\" />\n",
      "\t\t<nd ref=\"137296100\" />\n",
      "\t\t<nd ref=\"137296103\" />\n",
      "\t\t<nd ref=\"137296106\" />\n",
      "\t\t<nd ref=\"137296109\" />\n",
      "\t\t<nd ref=\"137296112\" />\n",
      "\t\t<nd ref=\"137296115\" />\n",
      "\t\t<nd ref=\"137296118\" />\n",
      "\t\t<nd ref=\"137296121\" />\n",
      "\t\t<nd ref=\"137296125\" />\n",
      "\t\t<nd ref=\"137296128\" />\n",
      "\t\t<tag k=\"name\" v=\"North 12th Street\" />\n",
      "\t\t<tag k=\"highway\" v=\"residential\" />\n",
      "\t\t<tag k=\"tiger:cfcc\" v=\"A41\" />\n",
      "\t\t<tag k=\"tiger:tlid\" v=\"201897435\" />\n",
      "\t\t<tag k=\"tiger:county\" v=\"Clark, NV\" />\n",
      "\t\t<tag k=\"tiger:source\" v=\"tiger_import_dch_v0.6_20070813\" />\n",
      "\t\t<tag k=\"tiger:reviewed\" v=\"no\" />\n",
      "\t\t<tag k=\"tiger:zip_left\" v=\"89101\" />\n",
      "\t\t<tag k=\"tiger:name_base\" v=\"12th\" />\n",
      "\t\t<tag k=\"tiger:name_type\" v=\"St\" />\n",
      "\t\t<tag k=\"tiger:separated\" v=\"no\" />\n",
      "\t\t<tag k=\"tiger:zip_right\" v=\"89101\" />\n",
      "\t\t<tag k=\"tiger:name_direction_prefix\" v=\"N\" />\n",
      "\t</way>\n",
      "\t\n",
      "<way changeset=\"22651465\" id=\"285374536\" timestamp=\"2014-05-31T08:10:00Z\" uid=\"550560\" user=\"Seandebasti\" version=\"3\">\n",
      "\t\t<nd ref=\"2890512419\" />\n",
      "\t\t<nd ref=\"2890512420\" />\n",
      "\t\t<nd ref=\"2890512421\" />\n",
      "\t\t<tag k=\"ref\" v=\"12\" />\n",
      "\t\t<tag k=\"golf\" v=\"hole\" />\n",
      "\t\t<tag k=\"name\" v=\"12\" />\n",
      "\t</way>\n",
      "\t\n"
     ]
    }
   ],
   "source": [
    "find_something('12')"
   ]
  },
  {
   "cell_type": "markdown",
   "metadata": {},
   "source": [
    "And this one is a golf hole too, but needs some polishing (make it \"12th\")"
   ]
  },
  {
   "cell_type": "code",
   "execution_count": 15,
   "metadata": {
    "collapsed": false
   },
   "outputs": [
    {
     "name": "stdout",
     "output_type": "stream",
     "text": [
      "{'113': ['NPS 113'],\n",
      " '15': ['Interstate 15'],\n",
      " '16th': ['16th'],\n",
      " '41A': ['State Route 41A'],\n",
      " '6th': ['6th'],\n",
      " '8': ['Bird Viewing Pond #8'],\n",
      " '93': ['Old US 93',\n",
      "        'Old US 93',\n",
      "        'Future I-11 / I-515 / US 93',\n",
      "        'Future I-11 / US 93'],\n",
      " 'Access': ['CSN Access'],\n",
      " 'Aisle': ['Life Time Athletic Parking Aisle'],\n",
      " 'Alex': ['Villa Alex'],\n",
      " 'Alley': ['Ira Alley'],\n",
      " 'Almond': ['Almond'],\n",
      " 'Alto': ['Cerchio Alto'],\n",
      " 'Apartments': ['Bella Terra Luxury Apartments'],\n",
      " 'Arenas': ['Avenida Arenas'],\n",
      " 'Arrow': ['Straight Arrow'],\n",
      " 'Ave': ['Condo Villa Ave'],\n",
      " 'Avenmue': ['West Fenway Park Avenmue'],\n",
      " 'B': ['Avenue B'],\n",
      " 'Barberini': ['Via Barberini'],\n",
      " 'Bay': ['Kahala Bay'],\n",
      " 'Bullring': ['The Bullring'],\n",
      " 'Bypass': ['Hoover Dam Bypass', 'Hoover Dam Bypass', 'Hoover Dam Bypass'],\n",
      " 'Campground': ['Willow Beach Campground', 'Willow Beach Campground'],\n",
      " 'Celina': ['Donna Celina'],\n",
      " 'Center': ['Trails Center'],\n",
      " 'Channel': ['Rawhide Channel'],\n",
      " 'Chelmsford': ['Chelmsford'],\n",
      " 'Cima': ['La Cima'],\n",
      " 'Cividino': ['Via Cividino'],\n",
      " 'Clark': ['Rue Clark'],\n",
      " 'Cliff': ['Cliff'],\n",
      " 'Club': ['Green Valley Country Club'],\n",
      " 'Concord': ['Concord'],\n",
      " 'Cottage': ['Cozy Cottage'],\n",
      " 'Course': ['Shadow Creek Golf Course'],\n",
      " 'Cove': ['Hemenway Cove'],\n",
      " 'Creek': ['Twin Creek'],\n",
      " 'Crest': ['Huntington Crest'],\n",
      " 'Crossing': ['The Crossing'],\n",
      " 'Denali': ['Denali'],\n",
      " 'Desert': ['Red Desert'],\n",
      " 'Difficult)': ['3 Amigos (Difficult)', 'Hurl (Difficult)'],\n",
      " 'Driive': ['Wonderful Day Driive'],\n",
      " 'East': ['Park Way East', 'Three Crowns Drive East'],\n",
      " 'Easy)': ['Mustang (Easy)', 'Inner Loop (Easy);Latenight Loop (Easy)'],\n",
      " 'Estates': ['Castle Rock Estates',\n",
      "             'River Mountain View Estates',\n",
      "             'Arrowhead Estates'],\n",
      " 'Falls': ['Brown Bear Falls'],\n",
      " 'Fiesta': ['Avenida Fiesta'],\n",
      " 'Firenze': ['Via Firenze', 'Via Firenze', 'Via Firenze'],\n",
      " 'Flippin': ['Flippin'],\n",
      " 'Forest': ['Yucca Forest'],\n",
      " 'Francisco': ['Camino Francisco'],\n",
      " 'Gambler': ['Gambler'],\n",
      " 'Hills': ['The Commons at Seven Hills', 'Carnegie Hills', 'South Hills'],\n",
      " 'Homes': ['Andiamo Apartment Homes'],\n",
      " 'Homestretch': ['Homestretch'],\n",
      " 'Hwy': ['Great Basin Hwy'],\n",
      " 'Inspirada': ['Via Inspirada'],\n",
      " 'Interconnect': ['Paradise - Maryland Interconnect',\n",
      "                  'Pecos-McLeod Interconnect'],\n",
      " 'Ironside': ['Ironside'],\n",
      " 'Island': ['Black Island'],\n",
      " 'Islandia': ['Islandia'],\n",
      " 'Jet': ['Strato Jet'],\n",
      " 'L': ['Avenue L'],\n",
      " 'Lacoste': ['Lacoste'],\n",
      " 'Lake': ['Cottonwood Lake', 'Dry Lake'],\n",
      " 'Lanes': ['I-15 Express Lanes'],\n",
      " 'Larey': ['Larey'],\n",
      " 'Laterna': ['Via Laterna'],\n",
      " 'Lauri': ['Lauri'],\n",
      " 'Lawana': ['Lawana'],\n",
      " 'Legato': ['Legato'],\n",
      " 'Line': ['Terminal 1-C Gate Line'],\n",
      " 'Loop': ['Kittansett Loop', 'Heart of Henderson Loop'],\n",
      " 'Lot': ['Empty Lot'],\n",
      " 'Lounge': ['VIP Lounge'],\n",
      " 'Lower': ['Las Vegas Wash Trail, Lower'],\n",
      " 'Luz': ['Calle de Luz'],\n",
      " 'Mancinni': ['Via Mancinni'],\n",
      " 'Mandy': ['Mandy'],\n",
      " 'Mantova': ['Via Mantova'],\n",
      " 'Maple': ['Silver Maple'],\n",
      " 'Marsala': ['Villa Marsala'],\n",
      " 'Matteo': ['Via San Matteo'],\n",
      " 'Mhp': ['Las Vegas Jaycees Mhp'],\n",
      " 'Moderate)': ['East Leg (Moderate)'],\n",
      " 'Monorail': ['Las Vegas Monorail'],\n",
      " 'Montiano': ['Montiano'],\n",
      " 'Moss': ['Valley Moss'],\n",
      " 'Mountain': ['Villas at Black Mountain'],\n",
      " 'Nord': ['Via del Nord'],\n",
      " 'North': ['Las Vegas Boulevard North', 'Las Vegas Boulevard North'],\n",
      " 'Oak': ['Cork Oak'],\n",
      " 'Oaks': ['Seven Oaks'],\n",
      " 'Oasis': ['Nellis Oasis'],\n",
      " 'P': ['Love G & P'],\n",
      " 'Pacific': ['Union Pacific'],\n",
      " 'Padero': ['Padero'],\n",
      " 'Padre': ['Plaza del Padre'],\n",
      " 'Palmero': ['Via Casa Palmero'],\n",
      " 'Paradise': ['Paradise'],\n",
      " 'Paseo': ['LeBaron Paseo'],\n",
      " 'Pastini': ['Via Pastini'],\n",
      " 'Path': ['Calico Basin Walking Path', 'Calico Basin Walking Path'],\n",
      " 'Paths': ['Cornerstone Park Paths'],\n",
      " 'Paz': ['Camino la Paz'],\n",
      " 'Pines': ['Fairway Pines'],\n",
      " 'Plaza': ['Spanish Court Plaza',\n",
      "           'Jackie Gaughan Plaza',\n",
      "           'East Windmill Shopping Plaza',\n",
      "           'John Helter Plaza'],\n",
      " 'Point': ['Sunset Point'],\n",
      " 'Pool': ['Moorea Beach Club Pool'],\n",
      " 'Portico': ['Portico'],\n",
      " 'Rafael': ['Plaza de Rafael'],\n",
      " 'Ray': ['Camino del Ray'],\n",
      " 'Rd': ['El Camino Rd'],\n",
      " 'Reef': ['Whisper Reef'],\n",
      " 'Renaldo': ['Via Renaldo'],\n",
      " 'Resort': ['Red Rock Resort'],\n",
      " 'Ridge': ['Mission Ridge'],\n",
      " 'River': ['Muddy River'],\n",
      " 'Rosa': ['Plaza de Rosa'],\n",
      " 'Route': ['Fortification Hill Trail: Wash Route'],\n",
      " 'S': ['Las Vegas Boulevard S'],\n",
      " 'Sawtooth': ['Sawtooth'],\n",
      " 'Scottyboy': ['Scottyboy'],\n",
      " 'Scula': ['South Via Scula'],\n",
      " 'Seashore': ['Seashore'],\n",
      " 'Serene': ['West Serene'],\n",
      " 'Services': ['Access Republic Services'],\n",
      " 'Shore': ['Silver Shore', 'Sage Shore'],\n",
      " 'Sierra': ['Grand Sierra'],\n",
      " 'Sol': ['S FLore del Sol'],\n",
      " 'Solano': ['Solano'],\n",
      " 'Somerset': ['Somerset'],\n",
      " 'South': ['Symphony Park Avenue South',\n",
      "           'Las Vegas Boulevard South',\n",
      "           'Las Vegas Boulevard South'],\n",
      " 'Speedway': ['Las Vegas Motor Speedway'],\n",
      " 'Spillway': ['Arizona Spillway'],\n",
      " 'Spur': ['Nlv Industl Spur', 'Nlv Industl Spur'],\n",
      " 'Star': ['Rising Star'],\n",
      " 'Station': ['Palace Station'],\n",
      " 'Stream': ['Gold Stream'],\n",
      " 'Substation': ['Northwest Substation'],\n",
      " 'Sutton': ['Sutton'],\n",
      " 'Swapp': ['Swapp'],\n",
      " 'Swim': ['Night Swim'],\n",
      " 'Switch': ['Nevada Industrial Switch'],\n",
      " 'Tampico': ['Avenida Tampico'],\n",
      " 'Tartaruga': ['Via de Tartaruga'],\n",
      " 'Terrace': ['Ashley Rose Terrace',\n",
      "             'Sandy Hook Terrace',\n",
      "             'Curio Terrace',\n",
      "             'Pretty Sunset Terrace',\n",
      "             'Arroya Vista Terrace',\n",
      "             'Franklin Chase Terrace',\n",
      "             'Willow Wisp Terrace',\n",
      "             'Calanques Terrace',\n",
      "             'Hayden Creek Terrace',\n",
      "             'Lavender Moon Terrace',\n",
      "             'Copilico Terrace',\n",
      "             'Hidden Ranch Terrace',\n",
      "             'Cattlebaron Terrace',\n",
      "             'Sonic Terrace',\n",
      "             'Claremont Cove Terrace'],\n",
      " 'Thrust': ['Keystone Thrust'],\n",
      " 'Time': ['Old Time'],\n",
      " 'Tomsik': ['South Tomsik'],\n",
      " 'Town': [\"Las Vegas KOA at Sam's Town\"],\n",
      " 'Townhomes': ['Eagle Crest Townhomes'],\n",
      " 'Trace': ['Pacific Trace'],\n",
      " 'Trango': ['Trango'],\n",
      " 'Tripoli': ['Tripoli'],\n",
      " 'Tucson': ['Tucson'],\n",
      " 'Tunnel': ['Infield Tunnel'],\n",
      " 'Vega': ['Calle de Vega'],\n",
      " 'Vegas': ['Sky Las Vegas'],\n",
      " 'Vehicles': ['Nevada Department of Motor Vehicles'],\n",
      " 'Verselles': ['Private Chateau Verselles'],\n",
      " 'Vicchio': ['Via Vicchio'],\n",
      " 'Vista': ['South Bonita Vista'],\n",
      " 'Wagenen': ['East Van Wagenen'],\n",
      " 'Walk': ['Color Blending Walk', 'Florindo Walk'],\n",
      " 'Walkingstick': ['Walkingstick'],\n",
      " 'Wanderlust': ['Wanderlust'],\n",
      " 'Wash': ['Flamingo Wash',\n",
      "          'Tropicana Wash',\n",
      "          'Las Vegas Wash',\n",
      "          'Petroglyph Wash',\n",
      "          'Pittman Wash'],\n",
      " 'Waters': ['Perfect Waters', 'Falling Waters'],\n",
      " 'West': ['Monte Carlo West', 'Seal Cay West'],\n",
      " 'Wilderness': ['Eldorado Wilderness'],\n",
      " 'Wing': ['Red Wing'],\n",
      " 'overpass': ['Bighorn sheep overpass'],\n",
      " 'parking': ['Route parking', u'Acc\\xe8s parking', u'Acc\\xe8s parking'],\n",
      " 'spur': ['Coca Cola spur'],\n",
      " 'trail': ['Boulder Highway trail']}\n"
     ]
    }
   ],
   "source": [
    "import pprint\n",
    "pprint.pprint(street_types)"
   ]
  },
  {
   "cell_type": "code",
   "execution_count": 16,
   "metadata": {
    "collapsed": false
   },
   "outputs": [
    {
     "name": "stdout",
     "output_type": "stream",
     "text": [
      "<way changeset=\"12309147\" id=\"172106101\" timestamp=\"2012-07-19T05:25:11Z\" uid=\"7213\" user=\"alimamo\" version=\"1\">\n",
      "\t\t<nd ref=\"1830425564\" />\n",
      "\t\t<nd ref=\"1830425558\" />\n",
      "\t\t<nd ref=\"1830425554\" />\n",
      "\t\t<tag k=\"ref\" v=\"14\" />\n",
      "\t\t<tag k=\"golf\" v=\"hole\" />\n",
      "\t\t<tag k=\"name\" v=\"Rio Secco Golf Club #14\" />\n",
      "\t</way>\n",
      "\t\n"
     ]
    }
   ],
   "source": [
    "find_something('Rio Secco Golf Club #14')"
   ]
  },
  {
   "cell_type": "markdown",
   "metadata": {},
   "source": [
    "could be maybe called \"14th\" for consistency? where to add which golf club it is?"
   ]
  },
  {
   "cell_type": "code",
   "execution_count": 17,
   "metadata": {
    "collapsed": false
   },
   "outputs": [
    {
     "name": "stdout",
     "output_type": "stream",
     "text": [
      "<way changeset=\"19849772\" id=\"255579488\" timestamp=\"2014-01-06T18:59:37Z\" uid=\"1707676\" user=\"scotlande\" version=\"1\">\n",
      "\t\t<nd ref=\"2612604920\" />\n",
      "\t\t<nd ref=\"2612604921\" />\n",
      "\t\t<nd ref=\"2612604922\" />\n",
      "\t\t<nd ref=\"2612604923\" />\n",
      "\t\t<nd ref=\"2612604924\" />\n",
      "\t\t<nd ref=\"2612604925\" />\n",
      "\t\t<nd ref=\"2612604926\" />\n",
      "\t\t<nd ref=\"2612604927\" />\n",
      "\t\t<nd ref=\"2612604928\" />\n",
      "\t\t<nd ref=\"2612604929\" />\n",
      "\t\t<nd ref=\"2612604930\" />\n",
      "\t\t<nd ref=\"2612604931\" />\n",
      "\t\t<nd ref=\"2612604932\" />\n",
      "\t\t<nd ref=\"2612604920\" />\n",
      "\t\t<tag k=\"name\" v=\"Regal Colonnade 14\" />\n",
      "\t\t<tag k=\"amenity\" v=\"cinema\" />\n",
      "\t\t<tag k=\"website\" v=\"https://www.regmovies.com/Theatres/Theatre-Folder/Regal-Colonnade-Stadium-14\" />\n",
      "\t\t<tag k=\"building\" v=\"yes\" />\n",
      "\t</way>\n",
      "\t\n"
     ]
    }
   ],
   "source": [
    "find_something('Regal Colonnade 14')"
   ]
  },
  {
   "cell_type": "markdown",
   "metadata": {},
   "source": [
    "This is a cinema, I don't think it should be a \"way\" but rather a \"node\".\n",
    "\n",
    "Just read here: http://wiki.openstreetmap.org/wiki/Relations/Proposed/Buildings that mapping a building as an **area** (a closed way) is appropriate. Additionally it should be labeled with `building=yes`.\n",
    "\n",
    "So now I understand why there are probably quite some buildings in my results and I'll be trying to take them out by adapting my function."
   ]
  },
  {
   "cell_type": "markdown",
   "metadata": {},
   "source": [
    "I edited my `collect_way_types()` function to check for whether the _way_ has a _building_ tag included - and if so, not to include it into the selection."
   ]
  },
  {
   "cell_type": "code",
   "execution_count": 18,
   "metadata": {
    "collapsed": false
   },
   "outputs": [
    {
     "name": "stdout",
     "output_type": "stream",
     "text": [
      "<way changeset=\"10304739\" id=\"144316065\" timestamp=\"2012-01-05T20:02:44Z\" uid=\"63936\" user=\"MojaveNC\" version=\"1\">\n",
      "\t\t<nd ref=\"366087838\" />\n",
      "\t\t<nd ref=\"1578630611\" />\n",
      "\t\t<nd ref=\"1578630600\" />\n",
      "\t\t<nd ref=\"1578630575\" />\n",
      "\t\t<nd ref=\"366087838\" />\n",
      "\t\t<tag k=\"ele\" v=\"431\" />\n",
      "\t\t<tag k=\"name\" v=\"Clark County Fire Station Number 73\" />\n",
      "\t\t<tag k=\"amenity\" v=\"fire_station\" />\n",
      "\t\t<tag k=\"addr:state\" v=\"NV\" />\n",
      "\t\t<tag k=\"gnis:feature_id\" v=\"2473039\" />\n",
      "\t\t<tag k=\"gnis:county_name\" v=\"Clark\" />\n",
      "\t</way>\n",
      "\t\n"
     ]
    }
   ],
   "source": [
    "find_something('Clark County Fire Station Number 73')"
   ]
  },
  {
   "cell_type": "markdown",
   "metadata": {},
   "source": [
    "Okay... Seems also `amenity` labels buildings, and there seem to be a few defined as _areas_ (that means: _ways_). Gotta remove those also from my list."
   ]
  },
  {
   "cell_type": "code",
   "execution_count": 19,
   "metadata": {
    "collapsed": false
   },
   "outputs": [
    {
     "name": "stdout",
     "output_type": "stream",
     "text": [
      "<way changeset=\"34484942\" id=\"374247121\" timestamp=\"2015-10-07T07:56:46Z\" uid=\"292665\" user=\"Dr Kludge\" version=\"1\">\n",
      "\t\t<nd ref=\"137161574\" />\n",
      "\t\t<nd ref=\"3776179864\" />\n",
      "\t\t<nd ref=\"3776179862\" />\n",
      "\t\t<tag k=\"name\" v=\"Access Republic Services\" />\n",
      "\t\t<tag k=\"lanes\" v=\"3\" />\n",
      "\t\t<tag k=\"access\" v=\"private\" />\n",
      "\t\t<tag k=\"oneway\" v=\"yes\" />\n",
      "\t\t<tag k=\"highway\" v=\"residential\" />\n",
      "\t\t<tag k=\"surface\" v=\"asphalt\" />\n",
      "\t\t<tag k=\"smoothness\" v=\"good\" />\n",
      "\t</way>\n",
      "\t\n"
     ]
    }
   ],
   "source": [
    "find_something('Access Republic Services')"
   ]
  },
  {
   "cell_type": "code",
   "execution_count": 20,
   "metadata": {
    "collapsed": false
   },
   "outputs": [
    {
     "name": "stdout",
     "output_type": "stream",
     "text": [
      "<way changeset=\"11360399\" id=\"160310467\" timestamp=\"2012-04-20T05:38:29Z\" uid=\"7213\" user=\"alimamo\" version=\"1\">\n",
      "\t\t<nd ref=\"1723618576\" />\n",
      "\t\t<nd ref=\"1723617998\" />\n",
      "\t\t<nd ref=\"1723617825\" />\n",
      "\t\t<tag k=\"ref\" v=\"6\" />\n",
      "\t\t<tag k=\"golf\" v=\"hole\" />\n",
      "\t\t<tag k=\"name\" v=\"Concord #6\" />\n",
      "\t</way>\n",
      "\t\n"
     ]
    }
   ],
   "source": [
    "find_something('Concord #6')"
   ]
  },
  {
   "cell_type": "markdown",
   "metadata": {},
   "source": [
    "I guess I'll also exclude golf holes for now...\n",
    "\n",
    "NOTE: there's one \"12\" that could get changed to \"12th\", and all could get the related golf course attached as information!"
   ]
  },
  {
   "cell_type": "markdown",
   "metadata": {},
   "source": [
    "# Making a new start"
   ]
  },
  {
   "cell_type": "code",
   "execution_count": 21,
   "metadata": {
    "collapsed": false
   },
   "outputs": [
    {
     "data": {
      "text/plain": [
       "{'113': ['NPS 113'],\n",
       " '15': ['Interstate 15'],\n",
       " '16th': ['16th'],\n",
       " '41A': ['State Route 41A'],\n",
       " '6th': ['6th'],\n",
       " '8': ['Bird Viewing Pond #8'],\n",
       " '93': ['Old US 93',\n",
       "  'Old US 93',\n",
       "  'Future I-11 / I-515 / US 93',\n",
       "  'Future I-11 / US 93'],\n",
       " 'Access': ['CSN Access'],\n",
       " 'Aisle': ['Life Time Athletic Parking Aisle'],\n",
       " 'Alex': ['Villa Alex'],\n",
       " 'Alley': ['Ira Alley'],\n",
       " 'Almond': ['Almond'],\n",
       " 'Alto': ['Cerchio Alto'],\n",
       " 'Apartments': ['Bella Terra Luxury Apartments'],\n",
       " 'Arenas': ['Avenida Arenas'],\n",
       " 'Arrow': ['Straight Arrow'],\n",
       " 'Ave': ['Condo Villa Ave'],\n",
       " 'Avenmue': ['West Fenway Park Avenmue'],\n",
       " 'B': ['Avenue B'],\n",
       " 'Bay': ['Kahala Bay'],\n",
       " 'Bullring': ['The Bullring'],\n",
       " 'Bypass': ['Hoover Dam Bypass', 'Hoover Dam Bypass', 'Hoover Dam Bypass'],\n",
       " 'Campground': ['Willow Beach Campground', 'Willow Beach Campground'],\n",
       " 'Celina': ['Donna Celina'],\n",
       " 'Center': ['Trails Center'],\n",
       " 'Channel': ['Rawhide Channel'],\n",
       " 'Chelmsford': ['Chelmsford'],\n",
       " 'Cima': ['La Cima'],\n",
       " 'Clark': ['Rue Clark'],\n",
       " 'Cliff': ['Cliff'],\n",
       " 'Club': ['Green Valley Country Club'],\n",
       " 'Concord': ['Concord'],\n",
       " 'Cottage': ['Cozy Cottage'],\n",
       " 'Course': ['Shadow Creek Golf Course'],\n",
       " 'Cove': ['Hemenway Cove'],\n",
       " 'Creek': ['Twin Creek'],\n",
       " 'Crest': ['Huntington Crest'],\n",
       " 'Crossing': ['The Crossing'],\n",
       " 'Denali': ['Denali'],\n",
       " 'Desert': ['Red Desert'],\n",
       " 'Difficult)': ['3 Amigos (Difficult)', 'Hurl (Difficult)'],\n",
       " 'Driive': ['Wonderful Day Driive'],\n",
       " 'East': ['Park Way East', 'Three Crowns Drive East'],\n",
       " 'Easy)': ['Mustang (Easy)', 'Inner Loop (Easy);Latenight Loop (Easy)'],\n",
       " 'Estates': ['Castle Rock Estates',\n",
       "  'River Mountain View Estates',\n",
       "  'Arrowhead Estates'],\n",
       " 'Falls': ['Brown Bear Falls'],\n",
       " 'Fiesta': ['Avenida Fiesta'],\n",
       " 'Flippin': ['Flippin'],\n",
       " 'Forest': ['Yucca Forest'],\n",
       " 'Francisco': ['Camino Francisco'],\n",
       " 'Gambler': ['Gambler'],\n",
       " 'Hills': ['The Commons at Seven Hills', 'Carnegie Hills', 'South Hills'],\n",
       " 'Homes': ['Andiamo Apartment Homes'],\n",
       " 'Homestretch': ['Homestretch'],\n",
       " 'Hwy': ['Great Basin Hwy'],\n",
       " 'Interconnect': ['Paradise - Maryland Interconnect',\n",
       "  'Pecos-McLeod Interconnect'],\n",
       " 'Ironside': ['Ironside'],\n",
       " 'Island': ['Black Island'],\n",
       " 'Islandia': ['Islandia'],\n",
       " 'Jet': ['Strato Jet'],\n",
       " 'L': ['Avenue L'],\n",
       " 'Lacoste': ['Lacoste'],\n",
       " 'Lake': ['Cottonwood Lake', 'Dry Lake'],\n",
       " 'Lanes': ['I-15 Express Lanes'],\n",
       " 'Larey': ['Larey'],\n",
       " 'Lauri': ['Lauri'],\n",
       " 'Lawana': ['Lawana'],\n",
       " 'Legato': ['Legato'],\n",
       " 'Line': ['Terminal 1-C Gate Line'],\n",
       " 'Loop': ['Kittansett Loop', 'Heart of Henderson Loop'],\n",
       " 'Lot': ['Empty Lot'],\n",
       " 'Lounge': ['VIP Lounge'],\n",
       " 'Lower': ['Las Vegas Wash Trail, Lower'],\n",
       " 'Luz': ['Calle de Luz'],\n",
       " 'Mandy': ['Mandy'],\n",
       " 'Maple': ['Silver Maple'],\n",
       " 'Marsala': ['Villa Marsala'],\n",
       " 'Mhp': ['Las Vegas Jaycees Mhp'],\n",
       " 'Moderate)': ['East Leg (Moderate)'],\n",
       " 'Monorail': ['Las Vegas Monorail'],\n",
       " 'Montiano': ['Montiano'],\n",
       " 'Moss': ['Valley Moss'],\n",
       " 'Mountain': ['Villas at Black Mountain'],\n",
       " 'North': ['Las Vegas Boulevard North', 'Las Vegas Boulevard North'],\n",
       " 'Oak': ['Cork Oak'],\n",
       " 'Oaks': ['Seven Oaks'],\n",
       " 'Oasis': ['Nellis Oasis'],\n",
       " 'P': ['Love G & P'],\n",
       " 'Pacific': ['Union Pacific'],\n",
       " 'Padero': ['Padero'],\n",
       " 'Padre': ['Plaza del Padre'],\n",
       " 'Paradise': ['Paradise'],\n",
       " 'Paseo': ['LeBaron Paseo'],\n",
       " 'Path': ['Calico Basin Walking Path', 'Calico Basin Walking Path'],\n",
       " 'Paths': ['Cornerstone Park Paths'],\n",
       " 'Paz': ['Camino la Paz'],\n",
       " 'Pines': ['Fairway Pines'],\n",
       " 'Plaza': ['Spanish Court Plaza',\n",
       "  'East Windmill Shopping Plaza',\n",
       "  'John Helter Plaza'],\n",
       " 'Point': ['Sunset Point'],\n",
       " 'Pool': ['Moorea Beach Club Pool'],\n",
       " 'Portico': ['Portico'],\n",
       " 'Rafael': ['Plaza de Rafael'],\n",
       " 'Ray': ['Camino del Ray'],\n",
       " 'Rd': ['El Camino Rd'],\n",
       " 'Reef': ['Whisper Reef'],\n",
       " 'Resort': ['Red Rock Resort'],\n",
       " 'Ridge': ['Mission Ridge'],\n",
       " 'River': ['Muddy River'],\n",
       " 'Rosa': ['Plaza de Rosa'],\n",
       " 'Route': ['Fortification Hill Trail: Wash Route'],\n",
       " 'S': ['Las Vegas Boulevard S'],\n",
       " 'Sawtooth': ['Sawtooth'],\n",
       " 'Scottyboy': ['Scottyboy'],\n",
       " 'Seashore': ['Seashore'],\n",
       " 'Serene': ['West Serene'],\n",
       " 'Services': ['Access Republic Services'],\n",
       " 'Shore': ['Silver Shore', 'Sage Shore'],\n",
       " 'Sierra': ['Grand Sierra'],\n",
       " 'Sol': ['S FLore del Sol'],\n",
       " 'Solano': ['Solano'],\n",
       " 'Somerset': ['Somerset'],\n",
       " 'South': ['Symphony Park Avenue South',\n",
       "  'Las Vegas Boulevard South',\n",
       "  'Las Vegas Boulevard South'],\n",
       " 'Speedway': ['Las Vegas Motor Speedway'],\n",
       " 'Spillway': ['Arizona Spillway'],\n",
       " 'Spur': ['Nlv Industl Spur', 'Nlv Industl Spur'],\n",
       " 'Star': ['Rising Star'],\n",
       " 'Station': ['Palace Station'],\n",
       " 'Stream': ['Gold Stream'],\n",
       " 'Substation': ['Northwest Substation'],\n",
       " 'Sutton': ['Sutton'],\n",
       " 'Swapp': ['Swapp'],\n",
       " 'Swim': ['Night Swim'],\n",
       " 'Switch': ['Nevada Industrial Switch'],\n",
       " 'Tampico': ['Avenida Tampico'],\n",
       " 'Terrace': ['Ashley Rose Terrace',\n",
       "  'Sandy Hook Terrace',\n",
       "  'Curio Terrace',\n",
       "  'Pretty Sunset Terrace',\n",
       "  'Arroya Vista Terrace',\n",
       "  'Franklin Chase Terrace',\n",
       "  'Willow Wisp Terrace',\n",
       "  'Calanques Terrace',\n",
       "  'Hayden Creek Terrace',\n",
       "  'Lavender Moon Terrace',\n",
       "  'Copilico Terrace',\n",
       "  'Hidden Ranch Terrace',\n",
       "  'Cattlebaron Terrace',\n",
       "  'Sonic Terrace',\n",
       "  'Claremont Cove Terrace'],\n",
       " 'Thrust': ['Keystone Thrust'],\n",
       " 'Time': ['Old Time'],\n",
       " 'Tomsik': ['South Tomsik'],\n",
       " 'Town': [\"Las Vegas KOA at Sam's Town\"],\n",
       " 'Townhomes': ['Eagle Crest Townhomes'],\n",
       " 'Trace': ['Pacific Trace'],\n",
       " 'Trango': ['Trango'],\n",
       " 'Tripoli': ['Tripoli'],\n",
       " 'Tucson': ['Tucson'],\n",
       " 'Tunnel': ['Infield Tunnel'],\n",
       " 'Vega': ['Calle de Vega'],\n",
       " 'Vegas': ['Sky Las Vegas'],\n",
       " 'Verselles': ['Private Chateau Verselles'],\n",
       " 'Vista': ['South Bonita Vista'],\n",
       " 'Wagenen': ['East Van Wagenen'],\n",
       " 'Walk': ['Color Blending Walk', 'Florindo Walk'],\n",
       " 'Walkingstick': ['Walkingstick'],\n",
       " 'Wanderlust': ['Wanderlust'],\n",
       " 'Wash': ['Flamingo Wash',\n",
       "  'Tropicana Wash',\n",
       "  'Las Vegas Wash',\n",
       "  'Petroglyph Wash',\n",
       "  'Pittman Wash'],\n",
       " 'Waters': ['Perfect Waters', 'Falling Waters'],\n",
       " 'West': ['Monte Carlo West', 'Seal Cay West'],\n",
       " 'Wilderness': ['Eldorado Wilderness'],\n",
       " 'Wing': ['Red Wing'],\n",
       " 'overpass': ['Bighorn sheep overpass'],\n",
       " 'parking': ['Route parking', u'Acc\\xe8s parking', u'Acc\\xe8s parking'],\n",
       " 'spur': ['Coca Cola spur'],\n",
       " 'trail': ['Boulder Highway trail']}"
      ]
     },
     "execution_count": 21,
     "metadata": {},
     "output_type": "execute_result"
    }
   ],
   "source": [
    "import xml.etree.cElementTree as ET\n",
    "import pprint\n",
    "import re\n",
    "\n",
    "#street_types = defaultdict(set)\n",
    "\n",
    "def audit_street_type(street_types, expected, street_name):\n",
    "    street_type_re = re.compile(r'\\b\\S+\\.?$', re.IGNORECASE)\n",
    "    found = street_type_re.search(street_name)\n",
    "    if found:\n",
    "        street_type = found.group()\n",
    "        if street_type not in expected:\n",
    "            if street_type not in street_types:\n",
    "                street_types[street_type] = [street_name]\n",
    "            else:\n",
    "                street_types[street_type].append(street_name)\n",
    "\n",
    "def collect_way_types(expected_types):\n",
    "    street_types = {}\n",
    "    for event, elem in ET.iterparse(las_vegas_osm, events=('start',)):\n",
    "        flag = False\n",
    "        if elem.tag == 'way':\n",
    "            for tag in elem.iter('tag'):\n",
    "                if ((tag.attrib['k'] == 'area' and tag.attrib['v'] == 'yes') or\n",
    "                    # some buildings are mapped as closed ways (areas)\n",
    "                    tag.attrib['k'] == 'building' or\n",
    "                    tag.attrib['k'] == 'amenity' or\n",
    "                    # removing golf course holes from the ways\n",
    "                    tag.attrib['k'] == 'golf' or\n",
    "                    # quite some streets have the prefix \"Via\" instead of a suffix street name.\n",
    "                    (tag.attrib['k'] == 'name' and re.search(r'Via', tag.attrib['v']) != None)):\n",
    "                        flag = True\n",
    "                \n",
    "            if flag == False:\n",
    "                for tag in elem.iter('tag'):\n",
    "                    if tag.attrib['k'] == 'name':\n",
    "                        street_name = tag.attrib['v']\n",
    "                        audit_street_type(street_types, expected_types, street_name)\n",
    "    return street_types\n",
    "\n",
    "common_types = []\n",
    "street_types = collect_way_types(common_types)\n",
    "\n",
    "for key, value in street_types.items():\n",
    "    if len(value) > 5:\n",
    "        common_types.append(key)\n",
    "        \n",
    "check_out = ['Terrace']\n",
    "for i in check_out:\n",
    "    common_types.remove(i)     \n",
    "    \n",
    "street_types = collect_way_types(common_types)\n",
    "street_types"
   ]
  },
  {
   "cell_type": "code",
   "execution_count": 22,
   "metadata": {
    "collapsed": false
   },
   "outputs": [
    {
     "data": {
      "text/plain": [
       "162"
      ]
     },
     "execution_count": 22,
     "metadata": {},
     "output_type": "execute_result"
    }
   ],
   "source": [
    "len(street_types)"
   ]
  },
  {
   "cell_type": "code",
   "execution_count": 23,
   "metadata": {
    "collapsed": false
   },
   "outputs": [
    {
     "name": "stdout",
     "output_type": "stream",
     "text": [
      "['Beltway', 'Circle', 'Park', 'Railroad', 'Place', 'Boulevard', 'Way', 'Trail', 'Lane', 'Parkway', 'Road', 'Avenue', 'Court', 'Drive', 'Freeway', 'Street']\n"
     ]
    }
   ],
   "source": [
    "print common_types"
   ]
  },
  {
   "cell_type": "code",
   "execution_count": 297,
   "metadata": {
    "collapsed": false
   },
   "outputs": [
    {
     "name": "stdout",
     "output_type": "stream",
     "text": [
      "<way changeset=\"4250871\" id=\"14323787\" timestamp=\"2010-03-27T21:39:18Z\" uid=\"20587\" user=\"balrog-kun\" version=\"2\">\n",
      "\t\t<nd ref=\"137746077\" />\n",
      "\t\t<nd ref=\"137746080\" />\n",
      "\t\t<nd ref=\"137481005\" />\n",
      "\t\t<nd ref=\"137549843\" />\n",
      "\t\t<tag k=\"name\" v=\"Willow Wisp Terrace\" />\n",
      "\t\t<tag k=\"name_1\" v=\"Willow Whisper Terrace\" />\n",
      "\t\t<tag k=\"name_2\" v=\"Willow Wisp\" />\n",
      "\t\t<tag k=\"highway\" v=\"residential\" />\n",
      "\t\t<tag k=\"tiger:cfcc\" v=\"A41\" />\n",
      "\t\t<tag k=\"tiger:tlid\" v=\"201911334:201911336\" />\n",
      "\t\t<tag k=\"tiger:county\" v=\"Clark, NV\" />\n",
      "\t\t<tag k=\"tiger:source\" v=\"tiger_import_dch_v0.6_20070813\" />\n",
      "\t\t<tag k=\"tiger:reviewed\" v=\"no\" />\n",
      "\t\t<tag k=\"tiger:zip_left\" v=\"89074\" />\n",
      "\t\t<tag k=\"tiger:name_base\" v=\"Willow Wisp\" />\n",
      "\t\t<tag k=\"tiger:name_type\" v=\"Ter\" />\n",
      "\t\t<tag k=\"tiger:separated\" v=\"no\" />\n",
      "\t\t<tag k=\"tiger:zip_right\" v=\"89074\" />\n",
      "\t\t<tag k=\"tiger:name_base_1\" v=\"Willow Whisper\" />\n",
      "\t\t<tag k=\"tiger:name_base_2\" v=\"Willow Wisp\" />\n",
      "\t\t<tag k=\"tiger:name_type_1\" v=\"Ter\" />\n",
      "\t</way>\n",
      "\t\n"
     ]
    }
   ],
   "source": [
    "find_something('Willow Wisp Terrace')"
   ]
  },
  {
   "cell_type": "markdown",
   "metadata": {},
   "source": [
    "Checked a few terraces, they seem to be valid ways in the sense that I am using them (street names).\n",
    "So 'Terrace' can be excluded, too."
   ]
  },
  {
   "cell_type": "code",
   "execution_count": 24,
   "metadata": {
    "collapsed": false
   },
   "outputs": [
    {
     "name": "stdout",
     "output_type": "stream",
     "text": [
      "<way changeset=\"22104258\" id=\"216335250\" timestamp=\"2014-05-03T13:05:48Z\" uid=\"12434\" user=\"nm7s9\" version=\"2\">\n",
      "\t\t<nd ref=\"2833595645\" />\n",
      "\t\t<nd ref=\"2833595647\" />\n",
      "\t\t<nd ref=\"2256945027\" />\n",
      "\t\t<tag k=\"name\" v=\"Homestretch Drive\" />\n",
      "\t\t<tag k=\"oneway\" v=\"yes\" />\n",
      "\t\t<tag k=\"source\" v=\"Bing\" />\n",
      "\t\t<tag k=\"highway\" v=\"residential\" />\n",
      "\t</way>\n",
      "\t\n",
      "<way changeset=\"16261340\" id=\"222851965\" timestamp=\"2013-05-24T07:15:26Z\" uid=\"7213\" user=\"alimamo\" version=\"1\">\n",
      "\t\t<nd ref=\"2317975927\" />\n",
      "\t\t<nd ref=\"2317975925\" />\n",
      "\t\t<nd ref=\"1538494357\" />\n",
      "\t\t<nd ref=\"2313991606\" />\n",
      "\t\t<nd ref=\"2313991579\" />\n",
      "\t\t<nd ref=\"137269706\" />\n",
      "\t\t<nd ref=\"2313991525\" />\n",
      "\t\t<nd ref=\"2313991481\" />\n",
      "\t\t<nd ref=\"1786400365\" />\n",
      "\t\t<nd ref=\"1450089775\" />\n",
      "\t\t<nd ref=\"2313991370\" />\n",
      "\t\t<nd ref=\"2313991366\" />\n",
      "\t\t<nd ref=\"2313991361\" />\n",
      "\t\t<nd ref=\"1450089633\" />\n",
      "\t\t<nd ref=\"1450089814\" />\n",
      "\t\t<nd ref=\"2313991326\" />\n",
      "\t\t<nd ref=\"2313991316\" />\n",
      "\t\t<nd ref=\"2313991274\" />\n",
      "\t\t<nd ref=\"1450089657\" />\n",
      "\t\t<nd ref=\"2313991217\" />\n",
      "\t\t<nd ref=\"2317975407\" />\n",
      "\t\t<nd ref=\"2317974895\" />\n",
      "\t\t<nd ref=\"2317974892\" />\n",
      "\t\t<nd ref=\"2317974889\" />\n",
      "\t\t<nd ref=\"2317975401\" />\n",
      "\t\t<nd ref=\"2317975440\" />\n",
      "\t\t<nd ref=\"2317975449\" />\n",
      "\t\t<nd ref=\"2317975927\" />\n",
      "\t\t<tag k=\"name\" v=\"Homestretch\" />\n",
      "\t\t<tag k=\"review\" v=\"no\" />\n",
      "\t\t<tag k=\"source\" v=\"Bing\" />\n",
      "\t\t<tag k=\"landuse\" v=\"residential\" />\n",
      "\t</way>\n",
      "\t\n"
     ]
    }
   ],
   "source": [
    "find_something('Homestretch')"
   ]
  },
  {
   "cell_type": "markdown",
   "metadata": {},
   "source": [
    "`Homestretch` seems to be a residential area. A living quarter. hm. However, there is nothing really in the tags that would distinguish it as such!\n",
    "Gonna go online to check :)\n",
    "\n",
    "Seems that those could be tagged as `place=suburb`: http://wiki.openstreetmap.org/wiki/Tag:place%3Dsuburb This is maybe a tag I can add here (and to others?)"
   ]
  },
  {
   "cell_type": "code",
   "execution_count": 25,
   "metadata": {
    "collapsed": false
   },
   "outputs": [
    {
     "name": "stdout",
     "output_type": "stream",
     "text": [
      "<way changeset=\"14397251\" id=\"180776994\" timestamp=\"2012-12-25T03:16:53Z\" uid=\"838709\" user=\"AMY-jin\" version=\"8\">\n",
      "\t\t<nd ref=\"1912436093\" />\n",
      "\t\t<nd ref=\"1912436091\" />\n",
      "\t\t<nd ref=\"1916212646\" />\n",
      "\t\t<nd ref=\"1912436071\" />\n",
      "\t\t<nd ref=\"1916270259\" />\n",
      "\t\t<nd ref=\"1912436069\" />\n",
      "\t\t<nd ref=\"1912436068\" />\n",
      "\t\t<nd ref=\"1912436067\" />\n",
      "\t\t<nd ref=\"1916856234\" />\n",
      "\t\t<nd ref=\"1916270252\" />\n",
      "\t\t<nd ref=\"1912436065\" />\n",
      "\t\t<nd ref=\"1912436087\" />\n",
      "\t\t<nd ref=\"1912436096\" />\n",
      "\t\t<nd ref=\"1912436093\" />\n",
      "\t\t<tag k=\"name\" v=\"Love G &amp; P\" />\n",
      "\t\t<tag k=\"level\" v=\"2\" />\n",
      "\t\t<tag k=\"indoor\" v=\"yes\" />\n",
      "\t\t<tag k=\"source\" v=\"Map of the Shopping Centre\" />\n",
      "\t\t<tag k=\"barrier\" v=\"wall\" />\n",
      "\t</way>\n",
      "\t\n"
     ]
    }
   ],
   "source": [
    "find_something('Love G')"
   ]
  },
  {
   "cell_type": "markdown",
   "metadata": {},
   "source": [
    "uh-lala... It's **one store** inside a shopping center... Mapped as a _way_ without defining `area=yes`. Messy humans... I think I'm getting the point of this : )"
   ]
  },
  {
   "cell_type": "code",
   "execution_count": 26,
   "metadata": {
    "collapsed": false
   },
   "outputs": [
    {
     "name": "stdout",
     "output_type": "stream",
     "text": [
      "<way changeset=\"13795401\" id=\"67145830\" timestamp=\"2012-11-08T09:55:39Z\" uid=\"57158\" user=\"kay_D\" version=\"2\">\n",
      "\t\t<nd ref=\"811038204\" />\n",
      "\t\t<nd ref=\"2002366438\" />\n",
      "\t\t<nd ref=\"811038186\" />\n",
      "\t\t<tag k=\"name\" v=\"Villa Alex\" />\n",
      "\t\t<tag k=\"highway\" v=\"residential\" />\n",
      "\t</way>\n",
      "\t\n"
     ]
    }
   ],
   "source": [
    "find_something('Villa Alex')"
   ]
  },
  {
   "cell_type": "markdown",
   "metadata": {},
   "source": [
    "what are these things prefixed 'Villa' ways?\n",
    "\n",
    "This one should be called 'Villa Alex Avenue'...\n",
    "https://www.google.com/maps/place/Villa+Alex+Ave,+Las+Vegas,+NV+89147/@36.1066831,-115.2835762,19z/data=!4m2!3m1!1s0x80c8c758701c136f:0xbb8cc4a036a75710"
   ]
  },
  {
   "cell_type": "code",
   "execution_count": 27,
   "metadata": {
    "collapsed": false
   },
   "outputs": [
    {
     "name": "stdout",
     "output_type": "stream",
     "text": [
      "Villas at Black Mountain\n",
      "Villa Marsala\n",
      "Condo Villa Ave\n",
      "Villa Alex\n"
     ]
    }
   ],
   "source": [
    "for i in street_types.values():\n",
    "    for j in i:\n",
    "        if 'villa' in j.lower():\n",
    "            print j"
   ]
  },
  {
   "cell_type": "code",
   "execution_count": 28,
   "metadata": {
    "collapsed": false
   },
   "outputs": [
    {
     "name": "stdout",
     "output_type": "stream",
     "text": [
      "<way changeset=\"15086489\" id=\"206231290\" timestamp=\"2013-02-19T08:51:46Z\" uid=\"7213\" user=\"alimamo\" version=\"1\">\n",
      "\t\t<nd ref=\"2162351532\" />\n",
      "\t\t<nd ref=\"2162351529\" />\n",
      "\t\t<nd ref=\"2162351530\" />\n",
      "\t\t<nd ref=\"2162351526\" />\n",
      "\t\t<nd ref=\"2162351527\" />\n",
      "\t\t<nd ref=\"2162351525\" />\n",
      "\t\t<nd ref=\"2162351593\" />\n",
      "\t\t<nd ref=\"2162351965\" />\n",
      "\t\t<nd ref=\"2162351955\" />\n",
      "\t\t<nd ref=\"2162351594\" />\n",
      "\t\t<nd ref=\"2162351532\" />\n",
      "\t\t<tag k=\"name\" v=\"Villas at Black Mountain\" />\n",
      "\t\t<tag k=\"review\" v=\"no\" /></way>\n"
     ]
    }
   ],
   "source": [
    "find_something('Villas at Black Mountain')"
   ]
  },
  {
   "cell_type": "markdown",
   "metadata": {},
   "source": [
    "These should be city areas. I read something about suburbs somewhere."
   ]
  },
  {
   "cell_type": "code",
   "execution_count": 29,
   "metadata": {
    "collapsed": false,
    "scrolled": true
   },
   "outputs": [
    {
     "name": "stdout",
     "output_type": "stream",
     "text": [
      "<way changeset=\"32397475\" id=\"358409810\" timestamp=\"2015-07-03T19:36:49Z\" uid=\"2377377\" user=\"abel801\" version=\"1\">\n",
      "\t\t<nd ref=\"3633329350\" />\n",
      "\t\t<nd ref=\"3633329349\" />\n",
      "\t\t<nd ref=\"3633329347\" />\n",
      "\t\t<nd ref=\"3633329346\" />\n",
      "\t\t<nd ref=\"3633329344\" />\n",
      "\t\t<nd ref=\"3633329342\" />\n",
      "\t\t<nd ref=\"3633329343\" />\n",
      "\t\t<nd ref=\"3633329345\" />\n",
      "\t\t<nd ref=\"3633329348\" />\n",
      "\t\t<tag k=\"name\" v=\"Villa Marsala\" />\n",
      "\t\t<tag k=\"highway\" v=\"residential\" />\n",
      "\t</way>\n",
      "\t\n"
     ]
    }
   ],
   "source": [
    "find_something('Villa Marsala')"
   ]
  },
  {
   "cell_type": "markdown",
   "metadata": {},
   "source": [
    "Checking here: http://www.openstreetmap.org/way/358409810\n",
    "and here: https://www.google.com/maps/place/Villa+Marsala+Ct,+Henderson,+NV+89011/@36.1119779,-114.9404987,17z/data=!3m1!4b1!4m2!3m1!1s0x80c8d788670fc999:0xdfdbb7c73076ccac\n",
    "I can see that this is indeed a street and should be called 'Villa Marsala Court'!"
   ]
  },
  {
   "cell_type": "code",
   "execution_count": 30,
   "metadata": {
    "collapsed": false
   },
   "outputs": [
    {
     "name": "stdout",
     "output_type": "stream",
     "text": [
      "<way changeset=\"28045746\" id=\"321333610\" timestamp=\"2015-01-10T17:47:03Z\" uid=\"1694880\" user=\"sandhill\" version=\"1\">\n",
      "\t\t<nd ref=\"3280748803\" />\n",
      "\t\t<nd ref=\"3280748804\" />\n",
      "\t\t<nd ref=\"3280748805\" />\n",
      "\t\t<tag k=\"name\" v=\"Condo Villa Ave\" />\n",
      "\t\t<tag k=\"highway\" v=\"residential\" />\n",
      "\t</way>\n",
      "\t\n"
     ]
    }
   ],
   "source": [
    "find_something('Condo Villa Ave')"
   ]
  },
  {
   "cell_type": "markdown",
   "metadata": {},
   "source": [
    "well, half of them look strange, and should maybe be either _nodes_ or tagged as `building`. Have to check up on their IDs when I'll be with internet."
   ]
  },
  {
   "cell_type": "code",
   "execution_count": 31,
   "metadata": {
    "collapsed": false
   },
   "outputs": [
    {
     "name": "stdout",
     "output_type": "stream",
     "text": [
      "<way changeset=\"4250871\" id=\"14315255\" timestamp=\"2010-03-27T21:18:18Z\" uid=\"20587\" user=\"balrog-kun\" version=\"2\">\n",
      "\t\t<nd ref=\"137349084\" />\n",
      "\t\t<nd ref=\"137616983\" />\n",
      "\t\t<nd ref=\"137616986\" />\n",
      "\t\t<nd ref=\"137616988\" />\n",
      "\t\t<tag k=\"name\" v=\"Almondwood Drive\" />\n",
      "\t\t<tag k=\"highway\" v=\"residential\" />\n",
      "\t\t<tag k=\"tiger:cfcc\" v=\"A41\" />\n",
      "\t\t<tag k=\"tiger:tlid\" v=\"201877937:201877940\" />\n",
      "\t\t<tag k=\"tiger:county\" v=\"Clark, NV\" />\n",
      "\t\t<tag k=\"tiger:source\" v=\"tiger_import_dch_v0.6_20070813\" />\n",
      "\t\t<tag k=\"tiger:reviewed\" v=\"no\" />\n",
      "\t\t<tag k=\"tiger:zip_left\" v=\"89120\" />\n",
      "\t\t<tag k=\"tiger:name_base\" v=\"Almondwood\" />\n",
      "\t\t<tag k=\"tiger:name_type\" v=\"Dr\" />\n",
      "\t\t<tag k=\"tiger:separated\" v=\"no\" />\n",
      "\t\t<tag k=\"tiger:zip_right\" v=\"89120\" />\n",
      "\t</way>\n",
      "\t\n",
      "<way changeset=\"14895321\" id=\"98977287\" timestamp=\"2013-02-03T12:33:26Z\" uid=\"12434\" user=\"nm7s9\" version=\"2\">\n",
      "\t\t<nd ref=\"1145117979\" />\n",
      "\t\t<nd ref=\"1145117980\" />\n",
      "\t\t<nd ref=\"1145117954\" />\n",
      "\t\t<nd ref=\"1145117981\" />\n",
      "\t\t<nd ref=\"1145117982\" />\n",
      "\t\t<nd ref=\"1145117953\" />\n",
      "\t\t<tag k=\"name\" v=\"Toasted Almond Avenue\" />\n",
      "\t\t<tag k=\"source\" v=\"Bing;Tiger 2012\" />\n",
      "\t\t<tag k=\"highway\" v=\"residential\" />\n",
      "\t</way>\n",
      "\t\n",
      "<way changeset=\"17695616\" id=\"236789472\" timestamp=\"2013-09-05T22:36:23Z\" uid=\"595221\" user=\"matthieun\" version=\"1\">\n",
      "\t\t<nd ref=\"2447637247\" />\n",
      "\t\t<nd ref=\"2447637220\" />\n",
      "\t\t<tag k=\"name\" v=\"Almond\" />\n",
      "\t\t<tag k=\"highway\" v=\"residential\" />\n",
      "\t</way>\n",
      "\t\n"
     ]
    }
   ],
   "source": [
    "find_something('Almond')"
   ]
  },
  {
   "cell_type": "markdown",
   "metadata": {},
   "source": [
    "hm...\n",
    "i like almonds, though..."
   ]
  },
  {
   "cell_type": "markdown",
   "metadata": {},
   "source": [
    "---"
   ]
  },
  {
   "cell_type": "code",
   "execution_count": 32,
   "metadata": {
    "collapsed": true
   },
   "outputs": [],
   "source": [
    "# these can be safely excluded, because they represent (most probably) valid ways\n",
    "valid_ways = ['Aisle', 'Alley', 'Bypass', 'Channel', 'Interconnect', 'Loop', 'Monorail', 'Path', 'Paths',\n",
    "             'Route', 'Speedway', 'Walk', ]\n",
    "other_langs = ['Avenida', 'Via', 'Camino', 'Calle', 'Plaza', 'Calle', 'Vista', ]\n",
    "nature_ways = ['Falls', 'Forest', 'Lake', 'Shore', 'Spillway', 'Stream', 'Thrust', 'Wash', 'Wilderness']\n",
    "\n",
    "# the following should be checked out\n",
    "buildings = ['Station', 'Substation', 'Townhomes', 'Town', 'Vegas', 'Vehicles', 'Verselles']\n",
    "pretty = ['Swim', 'Waters']\n",
    "\n",
    "# the following have to be corrected:\n",
    "misspelled = ['Avenmue', 'Driive']\n",
    "shortenings = ['Hwy', 'Mhp', 'Rd']\n",
    "prefixed = ['Avenue']\n",
    "wrong_suffixed = ['North', '(Difficult)', ', Lower', 'S', 'South']\n",
    "# Lower': ['Las Vegas Wash Trail, Lower']\n",
    "# things including 'Trail' somewhere"
   ]
  },
  {
   "cell_type": "code",
   "execution_count": 33,
   "metadata": {
    "collapsed": false
   },
   "outputs": [],
   "source": [
    "exclude = common_types + valid_ways + nature_ways"
   ]
  },
  {
   "cell_type": "code",
   "execution_count": 34,
   "metadata": {
    "collapsed": false
   },
   "outputs": [
    {
     "data": {
      "text/plain": [
       "162"
      ]
     },
     "execution_count": 34,
     "metadata": {},
     "output_type": "execute_result"
    }
   ],
   "source": [
    "len(street_types)"
   ]
  },
  {
   "cell_type": "code",
   "execution_count": 35,
   "metadata": {
    "collapsed": true
   },
   "outputs": [],
   "source": [
    "street_types =  collect_way_types(exclude)"
   ]
  },
  {
   "cell_type": "code",
   "execution_count": 36,
   "metadata": {
    "collapsed": false
   },
   "outputs": [
    {
     "data": {
      "text/plain": [
       "141"
      ]
     },
     "execution_count": 36,
     "metadata": {},
     "output_type": "execute_result"
    }
   ],
   "source": [
    "len(street_types)"
   ]
  },
  {
   "cell_type": "markdown",
   "metadata": {},
   "source": [
    "Could check for what are official (TIGER) namings for ways in the US - and then simply exclude those."
   ]
  },
  {
   "cell_type": "code",
   "execution_count": 37,
   "metadata": {
    "collapsed": true
   },
   "outputs": [],
   "source": [
    "# if last word = Suffix ['North', 'South', 'East', 'West']\n",
    "\n",
    "# get the word that is one before that word"
   ]
  },
  {
   "cell_type": "markdown",
   "metadata": {},
   "source": [
    "I guess my code should be iterable and scalable - meaning that I should be able to do one run through the code that cleans something specific of the data.\n",
    "\n",
    "Then I should be able to apply a different checking algorithm that performs another task.\n",
    "\n",
    "---\n",
    "\n",
    "either:\n",
    "\n",
    "1. run through the original dataset and exclude common types\n",
    "2. create a new dataset from that query\n",
    "3. continue working with that dataset, running another algorithm on it\n",
    "4. creating a new dataset from the results\n",
    "5. etc. (iterate until clean)\n",
    "6. write cleaned data back into the original dataset (combine)\n",
    " - it's necessary to keep the IDs stored for this!\n",
    " - iterate over the new dataset\n",
    " - find the fitting ID in the old dataset\n",
    " - replace the (changed information of the) old element with the (changed information of the) new element\n",
    " \n",
    "### +\n",
    "Through the decreasing data size and examples I'd be able to discover problems that I might not have thought about before.\n",
    "\n",
    "---\n",
    "\n",
    "or:\n",
    "\n",
    "1. run through the original dataset performing one cleaning task\n",
    "2. run through the original dataset performing the next cleaning task\n",
    "3. etc.\n",
    "\n",
    "this means:\n",
    "\n",
    "- each task would have to audit and clean a specific simple situation\n",
    "- might be less work to code\n",
    "- probably slower in performance\n",
    "- could write a \"cleaning suite\" that would perform one task after another\n",
    "- issues that I don't know exist will slip my attention and remain uncaught and uncleaned"
   ]
  },
  {
   "cell_type": "markdown",
   "metadata": {},
   "source": [
    "I think I will do version #1 in order to make a thorough cleaning!\n",
    "\n",
    "Also, I kind of know how to write an ET into a new file, so I could practice by applying.\n",
    "And it'd be interesting to learn how to re-combine new data into old data."
   ]
  },
  {
   "cell_type": "markdown",
   "metadata": {
    "collapsed": true
   },
   "source": [
    "# Reducing to 'way' tags"
   ]
  },
  {
   "cell_type": "code",
   "execution_count": 41,
   "metadata": {
    "collapsed": true
   },
   "outputs": [],
   "source": [
    "#!/usr/bin/env python\n",
    "# -*- coding: utf-8 -*-\n",
    "from pprint import pprint\n",
    "import xml.etree.cElementTree as ET\n",
    "import re\n",
    "import codecs\n",
    "\n",
    "OSM_FILE = \"LV_truncated.osm\"\n",
    "NEW_FILE = \"first.osm\"\n",
    "\n",
    "def get_ways(osm_file, tags=('node', 'way', 'relation')):\n",
    "    \"\"\"\n",
    "    \"\"\"\n",
    "    context = ET.iterparse(osm_file, events=('start', 'end'))\n",
    "    _, root = next(context)\n",
    "    for event, elem in context:\n",
    "        if event == 'end' and elem.tag in tags:\n",
    "            if elem.tag == 'way':\n",
    "                yield elem\n",
    "                root.clear()\n",
    "\n",
    "with open(NEW_FILE, 'w') as output:\n",
    "    output.write('<?xml version=\"1.0\" encoding=\"UTF-8\"?>\\n')\n",
    "    output.write('<osm>\\n  ')\n",
    "\n",
    "    # this is where the output of yield is called on the\n",
    "    for i, element in enumerate(get_ways(OSM_FILE)):\n",
    "        output.write(ET.tostring(element, encoding='utf-8'))\n",
    "\n",
    "    output.write('</osm>')"
   ]
  },
  {
   "cell_type": "code",
   "execution_count": 42,
   "metadata": {
    "collapsed": false
   },
   "outputs": [
    {
     "data": {
      "text/plain": [
       "['Beltway',\n",
       " 'Circle',\n",
       " 'Park',\n",
       " 'Railroad',\n",
       " 'Place',\n",
       " 'Boulevard',\n",
       " 'Way',\n",
       " 'Trail',\n",
       " 'Lane',\n",
       " 'Parkway',\n",
       " 'Road',\n",
       " 'Avenue',\n",
       " 'Court',\n",
       " 'Drive',\n",
       " 'Freeway',\n",
       " 'Street',\n",
       " 'Aisle',\n",
       " 'Alley',\n",
       " 'Bypass',\n",
       " 'Channel',\n",
       " 'Interconnect',\n",
       " 'Loop',\n",
       " 'Monorail',\n",
       " 'Path',\n",
       " 'Paths',\n",
       " 'Route',\n",
       " 'Speedway',\n",
       " 'Walk',\n",
       " 'Falls',\n",
       " 'Forest',\n",
       " 'Lake',\n",
       " 'Shore',\n",
       " 'Spillway',\n",
       " 'Stream',\n",
       " 'Thrust',\n",
       " 'Wash',\n",
       " 'Wilderness']"
      ]
     },
     "execution_count": 42,
     "metadata": {},
     "output_type": "execute_result"
    }
   ],
   "source": [
    "exclude"
   ]
  },
  {
   "cell_type": "markdown",
   "metadata": {},
   "source": [
    "# Excluding common street types"
   ]
  },
  {
   "cell_type": "code",
   "execution_count": 235,
   "metadata": {
    "collapsed": false
   },
   "outputs": [],
   "source": [
    "OSM_FILE = 'first.osm'\n",
    "NEW_FILE = 'second.osm'\n",
    "common = exclude\n",
    "\n",
    "def remove_common(osm_file, common):\n",
    "    import re\n",
    "    street_type_re = re.compile(r'\\b\\S+\\.?$', re.IGNORECASE)\n",
    "    \n",
    "    context = ET.iterparse(osm_file, events=('start', 'end'))\n",
    "    _, root = next(context)\n",
    "    for event, elem in context:\n",
    "        # because iterparse iterates over every element (no matter on which level)\n",
    "        # i need to add that it should do all this only when it's a 'way' tag!\n",
    "        if elem.tag == 'way':\n",
    "            if event == 'end':\n",
    "                for tag in elem.iter():\n",
    "                    try:\n",
    "                        if tag.attrib['k'] == 'name':\n",
    "                            street_name = tag.attrib['v'] \n",
    "                            found = street_type_re.search(street_name)\n",
    "                            street_type = found.group()\n",
    "                            if street_type not in common:\n",
    "                                yield elem\n",
    "                                root.clear()\n",
    "                    except:\n",
    "                        continue\n",
    "\n",
    "with open(NEW_FILE, 'w') as output:\n",
    "    output.write('<?xml version=\"1.0\" encoding=\"UTF-8\"?>\\n')\n",
    "    output.write('<osm>\\n  ')\n",
    "\n",
    "    for i, element in enumerate(remove_common(OSM_FILE, common)):\n",
    "        output.write(ET.tostring(element, encoding='utf-8'))\n",
    "\n",
    "    output.write('</osm>')"
   ]
  },
  {
   "cell_type": "markdown",
   "metadata": {},
   "source": [
    "# Cleaning the street names"
   ]
  },
  {
   "cell_type": "code",
   "execution_count": 281,
   "metadata": {
    "collapsed": true
   },
   "outputs": [],
   "source": [
    "def modify_file(filename, function, *args):\n",
    "    '''Modifies a file according to the output of a function.\n",
    "    \n",
    "    Takes as input a file name, a function and its arguments.\n",
    "    Runs the (cleaning) function and writes the output back into the file,\n",
    "    using a temporary file object as intermediate step.\n",
    "    Reference:\n",
    "    http://stackoverflow.com/questions/17646680/writing-back-into-the-same-file-after-reading-from-the-file\n",
    "    '''\n",
    "    import tempfile\n",
    "    import sys\n",
    "    temp_file = tempfile.NamedTemporaryFile(mode = 'r+')\n",
    "    input_file = open(filename, 'r')\n",
    "    for i, element in enumerate(function(*args)):\n",
    "        temp_file.write(ET.tostring(element, encoding='utf-8'))\n",
    "    input_file.close()\n",
    "    temp_file.seek(0)\n",
    "    with open(filename, 'w') as f:\n",
    "        f.write('<?xml version=\"1.0\" encoding=\"UTF-8\"?>\\n')\n",
    "        f.write('<osm>\\n  ')\n",
    "        for line in temp_file:\n",
    "            f.write(line)\n",
    "        f.write('</osm>')\n",
    "    temp_file.close() "
   ]
  },
  {
   "cell_type": "code",
   "execution_count": 282,
   "metadata": {
    "collapsed": true
   },
   "outputs": [],
   "source": [
    "def substitute_attrib_value(osm_file, before, after, attrib_key, tags=('way', 'node', 'relation')):\n",
    "    '''Changes text in an attribute to a string defined in 'after'.\n",
    "\n",
    "    Changes the text in a specified attribute of a 'way' tag \n",
    "    that contains the string variable defined in 'before' for a new string defined in 'after'.\n",
    "    Reference:\n",
    "    https://discussions.udacity.com/t/changing-attribute-value-in-xml/44575/6\n",
    "    '''\n",
    "    context = ET.iterparse(osm_file, events=('start', 'end'))\n",
    "    _, root = next(context)\n",
    "    for event, elem in context:\n",
    "        if event == 'end' and elem.tag in tags:\n",
    "            if elem.tag == 'way':\n",
    "                for tag in elem.iter('tag'):\n",
    "                    if re.search(before, ET.tostring(tag)):\n",
    "                        tag.set(attrib_key, after)\n",
    "            yield elem\n",
    "            root.clear()"
   ]
  },
  {
   "cell_type": "code",
   "execution_count": 283,
   "metadata": {
    "collapsed": false
   },
   "outputs": [],
   "source": [
    "OSM_FILE = 'second.osm'\n",
    "\n",
    "def substitute_smth(osm_file, before, after, attrib_key):\n",
    "    '''Wrapper function: Calls substitute_attrib_value() and modify_file().\n",
    "    \n",
    "    Substitutes a 'way' tag attribute for another and writes the changes back.\n",
    "    '''\n",
    "    substitute_attrib_value(osm_file, before, after, attrib_key, tags=('way', 'node', 'relation'))\n",
    "    modify_file(osm_file, substitute, osm_file, before, after, attrib_key)"
   ]
  },
  {
   "cell_type": "code",
   "execution_count": 285,
   "metadata": {
    "collapsed": false
   },
   "outputs": [],
   "source": [
    "substitute_smth(OSM_FILE, 'Industl', 'North Las Vegas Industrial Spur', 'v')"
   ]
  },
  {
   "cell_type": "code",
   "execution_count": 284,
   "metadata": {
    "collapsed": false
   },
   "outputs": [],
   "source": [
    "substitute_smth(OSM_FILE, 'Wonderful Day Driive', 'Wonderful Day Drive', 'v')"
   ]
  },
  {
   "cell_type": "code",
   "execution_count": 290,
   "metadata": {
    "collapsed": false
   },
   "outputs": [],
   "source": [
    "def add_attribute(osm_file, elem_id, attrib_key, attrib_value, tags=('way', 'node', 'relation')):\n",
    "    '''Adds a tag Element with attribute and value to a 'way' Element specified through an ID.\n",
    "\n",
    "    Reference:\n",
    "    https://discussions.udacity.com/t/changing-attribute-value-in-xml/44575/6\n",
    "    '''\n",
    "    context = ET.iterparse(osm_file, events=('start', 'end'))\n",
    "    _, root = next(context)\n",
    "    for event, elem in context:\n",
    "        if event == 'end' and elem.tag in tags:\n",
    "            if elem.attrib['id'] == elem_id:\n",
    "                ET.SubElement(elem, 'tag', k=attrib_key, v=attrib_value)\n",
    "            yield elem\n",
    "            root.clear()"
   ]
  },
  {
   "cell_type": "code",
   "execution_count": 291,
   "metadata": {
    "collapsed": true
   },
   "outputs": [],
   "source": [
    "def add_smth(osm_file, elem_id, attrib_key, attrib_value):\n",
    "    '''Wrapper function: Calls add_attribute() and modify_file().\n",
    "    \n",
    "    Adds an attribute with value to an existing \"way\" tag, writes the changed ET back to the file.'''\n",
    "    \n",
    "    add_attribute(osm_file, elem_id, attrib_key, attrib_value, tags=('way', 'node', 'relation'))\n",
    "    modify_file(osm_file, add_attribute, osm_file, elem_id, attrib_key, attrib_value)"
   ]
  },
  {
   "cell_type": "code",
   "execution_count": 292,
   "metadata": {
    "collapsed": false,
    "scrolled": true
   },
   "outputs": [],
   "source": [
    "OSM_FILE = 'second.osm'\n",
    "\n",
    "add_smth(OSM_FILE, '133879585', 'building', 'yes')"
   ]
  },
  {
   "cell_type": "markdown",
   "metadata": {},
   "source": [
    "YAY!!!! this is functioning! :D\n",
    "\n",
    "finally!\n",
    "\n",
    "---"
   ]
  },
  {
   "cell_type": "code",
   "execution_count": 221,
   "metadata": {
    "collapsed": false
   },
   "outputs": [],
   "source": [
    "def count_way_tags(file_name):\n",
    "    count = 0\n",
    "    for event, elem in ET.iterparse(file_name):\n",
    "        if elem.tag == 'way':\n",
    "            count += 1\n",
    "    return count"
   ]
  },
  {
   "cell_type": "markdown",
   "metadata": {},
   "source": [
    "Here's what my gradual reduction of tag amounts does to the length of the file:"
   ]
  },
  {
   "cell_type": "code",
   "execution_count": 114,
   "metadata": {
    "collapsed": false
   },
   "outputs": [
    {
     "data": {
      "text/plain": [
       "9187"
      ]
     },
     "execution_count": 114,
     "metadata": {},
     "output_type": "execute_result"
    }
   ],
   "source": [
    "count_way_tags('first.osm')"
   ]
  },
  {
   "cell_type": "code",
   "execution_count": 115,
   "metadata": {
    "collapsed": false
   },
   "outputs": [
    {
     "data": {
      "text/plain": [
       "324"
      ]
     },
     "execution_count": 115,
     "metadata": {},
     "output_type": "execute_result"
    }
   ],
   "source": [
    "count_way_tags('second.osm')"
   ]
  },
  {
   "cell_type": "markdown",
   "metadata": {},
   "source": [
    "Okay, this is working :D - so now I can write back to the same file:"
   ]
  },
  {
   "cell_type": "code",
   "execution_count": 117,
   "metadata": {
    "collapsed": true
   },
   "outputs": [],
   "source": [
    "substitute_smth(OSM_FILE, 'Nlv Industl Spur', 'Nlv Industrial Spur', 'v')"
   ]
  },
  {
   "cell_type": "markdown",
   "metadata": {},
   "source": [
    "Now I need to collect all the strangies and make this function run for all of them!\n",
    "But I'll go outside for this : )"
   ]
  },
  {
   "cell_type": "markdown",
   "metadata": {},
   "source": [
    "# Merging changes with original XML"
   ]
  },
  {
   "cell_type": "markdown",
   "metadata": {},
   "source": [
    "Maybe I'll first try to write back into the original file. If I can do this, then all should be well : )"
   ]
  },
  {
   "cell_type": "markdown",
   "metadata": {},
   "source": [
    "## Recording the changes made"
   ]
  },
  {
   "cell_type": "code",
   "execution_count": 214,
   "metadata": {
    "collapsed": false
   },
   "outputs": [],
   "source": [
    "tree_changes = ET.ElementTree(file='second.osm')\n",
    "chang_root = tree_changes.getroot()\n",
    "changed_elems = chang_root.findall('way')"
   ]
  },
  {
   "cell_type": "code",
   "execution_count": 215,
   "metadata": {
    "collapsed": false
   },
   "outputs": [
    {
     "data": {
      "text/plain": [
       "[<Element 'way' at 0x119d63b10>,\n",
       " <Element 'way' at 0x11b3698a0>,\n",
       " <Element 'way' at 0x11e5af060>,\n",
       " <Element 'way' at 0x11e5af660>,\n",
       " <Element 'way' at 0x11e5afdb0>,\n",
       " <Element 'way' at 0x11cfcd090>,\n",
       " <Element 'way' at 0x11cfcd600>,\n",
       " <Element 'way' at 0x12304f330>,\n",
       " <Element 'way' at 0x12304f210>,\n",
       " <Element 'way' at 0x1214cd3f0>,\n",
       " <Element 'way' at 0x1214cd990>,\n",
       " <Element 'way' at 0x122a8f930>,\n",
       " <Element 'way' at 0x122a8f960>,\n",
       " <Element 'way' at 0x122a8f8a0>,\n",
       " <Element 'way' at 0x110948960>,\n",
       " <Element 'way' at 0x1109487b0>,\n",
       " <Element 'way' at 0x103cab8a0>,\n",
       " <Element 'way' at 0x11f943120>,\n",
       " <Element 'way' at 0x11f943ae0>,\n",
       " <Element 'way' at 0x10a04d1b0>,\n",
       " <Element 'way' at 0x10a04df60>,\n",
       " <Element 'way' at 0x1052ba2a0>,\n",
       " <Element 'way' at 0x1052ba4e0>,\n",
       " <Element 'way' at 0x117181060>,\n",
       " <Element 'way' at 0x117181510>,\n",
       " <Element 'way' at 0x1171813c0>,\n",
       " <Element 'way' at 0x10decb450>,\n",
       " <Element 'way' at 0x10decb660>,\n",
       " <Element 'way' at 0x11dc368a0>,\n",
       " <Element 'way' at 0x11dc368d0>,\n",
       " <Element 'way' at 0x11dc36960>,\n",
       " <Element 'way' at 0x10848b090>,\n",
       " <Element 'way' at 0x10848b360>,\n",
       " <Element 'way' at 0x10848b630>,\n",
       " <Element 'way' at 0x10cbf55d0>,\n",
       " <Element 'way' at 0x10cbf58a0>,\n",
       " <Element 'way' at 0x10d128150>,\n",
       " <Element 'way' at 0x118ac0120>,\n",
       " <Element 'way' at 0x118ac0570>,\n",
       " <Element 'way' at 0x1186c81e0>,\n",
       " <Element 'way' at 0x1186c8c60>,\n",
       " <Element 'way' at 0x119d59f60>,\n",
       " <Element 'way' at 0x119d59e40>,\n",
       " <Element 'way' at 0x119d59ea0>,\n",
       " <Element 'way' at 0x1098996c0>,\n",
       " <Element 'way' at 0x109899c30>,\n",
       " <Element 'way' at 0x11df4eab0>,\n",
       " <Element 'way' at 0x11df4e420>,\n",
       " <Element 'way' at 0x11df487e0>,\n",
       " <Element 'way' at 0x11df48f30>,\n",
       " <Element 'way' at 0x10c6a0270>,\n",
       " <Element 'way' at 0x10c6a03f0>,\n",
       " <Element 'way' at 0x118506c30>,\n",
       " <Element 'way' at 0x118506e70>,\n",
       " <Element 'way' at 0x120a4e8d0>,\n",
       " <Element 'way' at 0x120a4ebd0>,\n",
       " <Element 'way' at 0x120a4ed20>,\n",
       " <Element 'way' at 0x11024b420>,\n",
       " <Element 'way' at 0x110248810>,\n",
       " <Element 'way' at 0x110248a20>,\n",
       " <Element 'way' at 0x10d6dd120>,\n",
       " <Element 'way' at 0x10d6dd810>,\n",
       " <Element 'way' at 0x11d5f06c0>,\n",
       " <Element 'way' at 0x11d5f0d20>,\n",
       " <Element 'way' at 0x1095412d0>,\n",
       " <Element 'way' at 0x109541720>,\n",
       " <Element 'way' at 0x11ab8afc0>,\n",
       " <Element 'way' at 0x11ab8a4b0>,\n",
       " <Element 'way' at 0x11a879570>,\n",
       " <Element 'way' at 0x11a879030>,\n",
       " <Element 'way' at 0x103cb1ba0>,\n",
       " <Element 'way' at 0x117f68600>,\n",
       " <Element 'way' at 0x117f688d0>,\n",
       " <Element 'way' at 0x1157d0480>,\n",
       " <Element 'way' at 0x1157d0d20>,\n",
       " <Element 'way' at 0x1184894e0>,\n",
       " <Element 'way' at 0x110257630>,\n",
       " <Element 'way' at 0x1102571e0>,\n",
       " <Element 'way' at 0x10c239c60>,\n",
       " <Element 'way' at 0x10c239d20>,\n",
       " <Element 'way' at 0x11868d900>,\n",
       " <Element 'way' at 0x11737cd80>,\n",
       " <Element 'way' at 0x11737c1b0>,\n",
       " <Element 'way' at 0x11e5b47e0>,\n",
       " <Element 'way' at 0x11e5b4c00>,\n",
       " <Element 'way' at 0x11e5b4300>,\n",
       " <Element 'way' at 0x105298540>,\n",
       " <Element 'way' at 0x105298450>,\n",
       " <Element 'way' at 0x105298480>,\n",
       " <Element 'way' at 0x10f88c120>,\n",
       " <Element 'way' at 0x10f88c960>,\n",
       " <Element 'way' at 0x119ac8c90>,\n",
       " <Element 'way' at 0x119ac88d0>,\n",
       " <Element 'way' at 0x119acff60>,\n",
       " <Element 'way' at 0x1151d1480>,\n",
       " <Element 'way' at 0x118f7f450>,\n",
       " <Element 'way' at 0x118f7fc00>,\n",
       " <Element 'way' at 0x118538390>,\n",
       " <Element 'way' at 0x10a894f30>,\n",
       " <Element 'way' at 0x10daef8d0>,\n",
       " <Element 'way' at 0x10daef510>,\n",
       " <Element 'way' at 0x10747ec00>,\n",
       " <Element 'way' at 0x10747e960>,\n",
       " <Element 'way' at 0x10dc8f840>,\n",
       " <Element 'way' at 0x1095c14e0>,\n",
       " <Element 'way' at 0x1077916f0>,\n",
       " <Element 'way' at 0x10aff9de0>,\n",
       " <Element 'way' at 0x10aff9240>,\n",
       " <Element 'way' at 0x107f40ae0>,\n",
       " <Element 'way' at 0x10d83f630>,\n",
       " <Element 'way' at 0x10d83f030>,\n",
       " <Element 'way' at 0x10d83f240>,\n",
       " <Element 'way' at 0x11042b690>,\n",
       " <Element 'way' at 0x105c1cd20>,\n",
       " <Element 'way' at 0x105c1c600>,\n",
       " <Element 'way' at 0x111c67f00>,\n",
       " <Element 'way' at 0x10afc28d0>,\n",
       " <Element 'way' at 0x109ca0180>,\n",
       " <Element 'way' at 0x109ca0060>,\n",
       " <Element 'way' at 0x10fc95660>,\n",
       " <Element 'way' at 0x10fc95510>,\n",
       " <Element 'way' at 0x10fc95960>,\n",
       " <Element 'way' at 0x10e97ea20>,\n",
       " <Element 'way' at 0x10a360ed0>,\n",
       " <Element 'way' at 0x110421bd0>,\n",
       " <Element 'way' at 0x110421c60>,\n",
       " <Element 'way' at 0x111a69b40>,\n",
       " <Element 'way' at 0x10d47ef90>,\n",
       " <Element 'way' at 0x10e9ec2d0>,\n",
       " <Element 'way' at 0x10d4ad1e0>,\n",
       " <Element 'way' at 0x10bdf67b0>,\n",
       " <Element 'way' at 0x10bdf6c60>,\n",
       " <Element 'way' at 0x10bdf6b70>,\n",
       " <Element 'way' at 0x10e2ec600>,\n",
       " <Element 'way' at 0x10e2ece10>,\n",
       " <Element 'way' at 0x10e09ed80>,\n",
       " <Element 'way' at 0x10e09e2d0>,\n",
       " <Element 'way' at 0x10e09e8a0>,\n",
       " <Element 'way' at 0x10cfdd090>,\n",
       " <Element 'way' at 0x10cfdd8a0>,\n",
       " <Element 'way' at 0x10cfdde40>,\n",
       " <Element 'way' at 0x108c5a150>,\n",
       " <Element 'way' at 0x108c5a630>,\n",
       " <Element 'way' at 0x108c5ae40>,\n",
       " <Element 'way' at 0x10fec8ea0>,\n",
       " <Element 'way' at 0x10fec8810>,\n",
       " <Element 'way' at 0x10b7d1a80>,\n",
       " <Element 'way' at 0x10b7d1ae0>,\n",
       " <Element 'way' at 0x10b7d13f0>,\n",
       " <Element 'way' at 0x112000150>,\n",
       " <Element 'way' at 0x10e91aed0>,\n",
       " <Element 'way' at 0x10d4dd6f0>,\n",
       " <Element 'way' at 0x10cc91b10>,\n",
       " <Element 'way' at 0x10cc51690>,\n",
       " <Element 'way' at 0x10afe4ba0>,\n",
       " <Element 'way' at 0x10a5a2c00>,\n",
       " <Element 'way' at 0x1104d6750>,\n",
       " <Element 'way' at 0x1107d95a0>,\n",
       " <Element 'way' at 0x1107d91b0>,\n",
       " <Element 'way' at 0x1107d51e0>,\n",
       " <Element 'way' at 0x10dae16c0>,\n",
       " <Element 'way' at 0x112654120>,\n",
       " <Element 'way' at 0x105fa8a20>,\n",
       " <Element 'way' at 0x10f07a090>,\n",
       " <Element 'way' at 0x10f07a870>,\n",
       " <Element 'way' at 0x10f07a840>,\n",
       " <Element 'way' at 0x10f07a4e0>,\n",
       " <Element 'way' at 0x110999660>,\n",
       " <Element 'way' at 0x110999c60>,\n",
       " <Element 'way' at 0x110999810>,\n",
       " <Element 'way' at 0x1109a5210>,\n",
       " <Element 'way' at 0x1109a57e0>,\n",
       " <Element 'way' at 0x1109a5990>,\n",
       " <Element 'way' at 0x1107c9e10>,\n",
       " <Element 'way' at 0x1107c9930>,\n",
       " <Element 'way' at 0x1107c9450>,\n",
       " <Element 'way' at 0x11080ae40>,\n",
       " <Element 'way' at 0x11080a720>,\n",
       " <Element 'way' at 0x11080a210>,\n",
       " <Element 'way' at 0x10bdca4b0>,\n",
       " <Element 'way' at 0x10bdcaea0>,\n",
       " <Element 'way' at 0x10bdca600>,\n",
       " <Element 'way' at 0x112112660>,\n",
       " <Element 'way' at 0x112112fc0>,\n",
       " <Element 'way' at 0x10d6197b0>,\n",
       " <Element 'way' at 0x10d619360>,\n",
       " <Element 'way' at 0x10d619d50>,\n",
       " <Element 'way' at 0x11051b090>,\n",
       " <Element 'way' at 0x11051b990>,\n",
       " <Element 'way' at 0x11047ded0>,\n",
       " <Element 'way' at 0x108d2c690>,\n",
       " <Element 'way' at 0x110fc3e40>,\n",
       " <Element 'way' at 0x107fa4f30>,\n",
       " <Element 'way' at 0x10885ede0>,\n",
       " <Element 'way' at 0x1088579f0>,\n",
       " <Element 'way' at 0x108857cf0>,\n",
       " <Element 'way' at 0x10885d120>,\n",
       " <Element 'way' at 0x10885ddb0>,\n",
       " <Element 'way' at 0x10b439450>,\n",
       " <Element 'way' at 0x10b4395a0>,\n",
       " <Element 'way' at 0x10b439e40>,\n",
       " <Element 'way' at 0x10b438ab0>,\n",
       " <Element 'way' at 0x10b4380c0>,\n",
       " <Element 'way' at 0x107c4cc00>,\n",
       " <Element 'way' at 0x107c4c330>,\n",
       " <Element 'way' at 0x107c5afc0>,\n",
       " <Element 'way' at 0x107c5a960>,\n",
       " <Element 'way' at 0x106326330>,\n",
       " <Element 'way' at 0x10d27e300>,\n",
       " <Element 'way' at 0x10d27ed50>,\n",
       " <Element 'way' at 0x109ca73f0>,\n",
       " <Element 'way' at 0x109ca7ea0>,\n",
       " <Element 'way' at 0x107b297b0>,\n",
       " <Element 'way' at 0x10913c060>,\n",
       " <Element 'way' at 0x10913cf90>,\n",
       " <Element 'way' at 0x10913cf60>,\n",
       " <Element 'way' at 0x1091233f0>,\n",
       " <Element 'way' at 0x10ff6eed0>,\n",
       " <Element 'way' at 0x10ff6e720>,\n",
       " <Element 'way' at 0x110ce8930>,\n",
       " <Element 'way' at 0x110ce8150>,\n",
       " <Element 'way' at 0x108175120>,\n",
       " <Element 'way' at 0x108175c60>,\n",
       " <Element 'way' at 0x10c2aadb0>,\n",
       " <Element 'way' at 0x10c2aa030>,\n",
       " <Element 'way' at 0x10be34570>,\n",
       " <Element 'way' at 0x1101fe0f0>,\n",
       " <Element 'way' at 0x1101fe900>,\n",
       " <Element 'way' at 0x10e549b70>,\n",
       " <Element 'way' at 0x10e549b10>,\n",
       " <Element 'way' at 0x10bac96f0>,\n",
       " <Element 'way' at 0x10bac9660>,\n",
       " <Element 'way' at 0x10f136390>,\n",
       " <Element 'way' at 0x10f1366c0>,\n",
       " <Element 'way' at 0x10d5fb180>,\n",
       " <Element 'way' at 0x10d5fb960>,\n",
       " <Element 'way' at 0x10f87e030>,\n",
       " <Element 'way' at 0x10f87e3f0>,\n",
       " <Element 'way' at 0x1083b41e0>,\n",
       " <Element 'way' at 0x10d7105d0>,\n",
       " <Element 'way' at 0x10d710360>,\n",
       " <Element 'way' at 0x10d731090>,\n",
       " <Element 'way' at 0x10d7318a0>,\n",
       " <Element 'way' at 0x10d731750>,\n",
       " <Element 'way' at 0x10f31ca80>,\n",
       " <Element 'way' at 0x10d4a1450>,\n",
       " <Element 'way' at 0x10d4a1360>,\n",
       " <Element 'way' at 0x11154bed0>,\n",
       " <Element 'way' at 0x11154b210>,\n",
       " <Element 'way' at 0x108c94cf0>,\n",
       " <Element 'way' at 0x10a8c9ae0>,\n",
       " <Element 'way' at 0x108394ed0>,\n",
       " <Element 'way' at 0x108394450>,\n",
       " <Element 'way' at 0x10f911030>,\n",
       " <Element 'way' at 0x10f911e10>,\n",
       " <Element 'way' at 0x108ce2600>,\n",
       " <Element 'way' at 0x108ce2090>,\n",
       " <Element 'way' at 0x108c9e630>,\n",
       " <Element 'way' at 0x108c9e270>,\n",
       " <Element 'way' at 0x108c9e870>,\n",
       " <Element 'way' at 0x10ee1a870>,\n",
       " <Element 'way' at 0x10ee1a8d0>,\n",
       " <Element 'way' at 0x109f6aa50>,\n",
       " <Element 'way' at 0x109f6aa80>,\n",
       " <Element 'way' at 0x109f6a4b0>,\n",
       " <Element 'way' at 0x109f596f0>,\n",
       " <Element 'way' at 0x109f59720>,\n",
       " <Element 'way' at 0x109f59d50>,\n",
       " <Element 'way' at 0x110354840>,\n",
       " <Element 'way' at 0x110354570>,\n",
       " <Element 'way' at 0x108db4660>,\n",
       " <Element 'way' at 0x108db4060>,\n",
       " <Element 'way' at 0x108db41b0>,\n",
       " <Element 'way' at 0x10f8ebae0>,\n",
       " <Element 'way' at 0x10f8eb1b0>,\n",
       " <Element 'way' at 0x109f709f0>,\n",
       " <Element 'way' at 0x109f70570>,\n",
       " <Element 'way' at 0x109f70ea0>,\n",
       " <Element 'way' at 0x10c869570>,\n",
       " <Element 'way' at 0x10c8696c0>,\n",
       " <Element 'way' at 0x10c869fc0>,\n",
       " <Element 'way' at 0x10c869e10>,\n",
       " <Element 'way' at 0x10d2f86f0>,\n",
       " <Element 'way' at 0x10d2f8300>,\n",
       " <Element 'way' at 0x10f01a570>,\n",
       " <Element 'way' at 0x10f01ad50>,\n",
       " <Element 'way' at 0x1101161e0>,\n",
       " <Element 'way' at 0x110116330>,\n",
       " <Element 'way' at 0x110116480>,\n",
       " <Element 'way' at 0x10688f960>,\n",
       " <Element 'way' at 0x10688f870>,\n",
       " <Element 'way' at 0x10688ffc0>,\n",
       " <Element 'way' at 0x107161540>,\n",
       " <Element 'way' at 0x107161fc0>,\n",
       " <Element 'way' at 0x10b764510>,\n",
       " <Element 'way' at 0x10b7642d0>,\n",
       " <Element 'way' at 0x10b764fc0>,\n",
       " <Element 'way' at 0x10f394d80>,\n",
       " <Element 'way' at 0x10f394ba0>,\n",
       " <Element 'way' at 0x1114c2630>,\n",
       " <Element 'way' at 0x1114c25a0>,\n",
       " <Element 'way' at 0x10ed5a0f0>,\n",
       " <Element 'way' at 0x10f908090>,\n",
       " <Element 'way' at 0x108da9630>,\n",
       " <Element 'way' at 0x108da9720>,\n",
       " <Element 'way' at 0x10f913090>,\n",
       " <Element 'way' at 0x10f913e70>,\n",
       " <Element 'way' at 0x10f913240>,\n",
       " <Element 'way' at 0x10f913c60>,\n",
       " <Element 'way' at 0x10d2336f0>,\n",
       " <Element 'way' at 0x10d2333c0>,\n",
       " <Element 'way' at 0x10d233a20>,\n",
       " <Element 'way' at 0x10e96e330>,\n",
       " <Element 'way' at 0x10e96e480>,\n",
       " <Element 'way' at 0x10c462f30>,\n",
       " <Element 'way' at 0x10c462a80>,\n",
       " <Element 'way' at 0x10c462780>,\n",
       " <Element 'way' at 0x10fd08840>,\n",
       " <Element 'way' at 0x10fd08cc0>,\n",
       " <Element 'way' at 0x10fd085d0>,\n",
       " <Element 'way' at 0x10fd080c0>,\n",
       " <Element 'way' at 0x10c858150>,\n",
       " <Element 'way' at 0x10c8589c0>,\n",
       " <Element 'way' at 0x10f91c840>]"
      ]
     },
     "execution_count": 215,
     "metadata": {},
     "output_type": "execute_result"
    }
   ],
   "source": [
    "changed_elems"
   ]
  },
  {
   "cell_type": "markdown",
   "metadata": {},
   "source": [
    "So we got some xml elements saved in this findall() returned list, that can be nicely queried :)\n",
    "\n",
    "Maybe this could have saved me lots of work? Well, now I have this, maybe I can work with it!"
   ]
  },
  {
   "cell_type": "code",
   "execution_count": 216,
   "metadata": {
    "collapsed": false
   },
   "outputs": [],
   "source": [
    "changes_dict = {}\n",
    "for elem in changed_elems:\n",
    "    for child in elem:\n",
    "        try:\n",
    "            if child.attrib['k'] == 'name':\n",
    "                changes_dict[elem.attrib['id']] = child.attrib['v']\n",
    "        except:\n",
    "            continue"
   ]
  },
  {
   "cell_type": "code",
   "execution_count": 217,
   "metadata": {
    "collapsed": false,
    "scrolled": false
   },
   "outputs": [
    {
     "name": "stdout",
     "output_type": "stream",
     "text": [
      "{'106135386': 'California Hotel and Casino',\n",
      " '111339081': 'Wynn Employee Parking',\n",
      " '111339188': 'Terminal 1-C Gate Line',\n",
      " '114703386': 'Via del Nord',\n",
      " '116653078': 'Centennial Hills Hospital',\n",
      " '116761428': 'Flamingo Las Vegas',\n",
      " '116770006': 'MGM Grand Las Vegas',\n",
      " '120468643': 'Intake tower',\n",
      " '126301435': 'Bighorn sheep overpass',\n",
      " '128025410': 'Moorea Beach Club Pool',\n",
      " '129474340': 'Las Vegas Creek',\n",
      " '129734760': 'Vons',\n",
      " '129735885': 'Sprouts Farmers Market',\n",
      " '130004759': 'Albertsons',\n",
      " '130208314': 'Lake Mead Hospital Medical Center',\n",
      " '130208335': 'Rancho High School',\n",
      " '130590849': 'Howard Wasden Elementary School',\n",
      " '130590859': 'Crestwood Elementary School',\n",
      " '130628714': 'The Bullring',\n",
      " '130628953': 'Sky Las Vegas',\n",
      " '130776849': 'Community College of Southern Nevada Downtown Learning Center',\n",
      " '130776870': 'Symphony Park Avenue South',\n",
      " '130789327': 'Oran Gragson Elementary School',\n",
      " '130789543': 'William K Moore Elementary School',\n",
      " '131069044': 'Ruth Fyfe Elementary School',\n",
      " '131113277': 'Brian and Teri Cram Middle School',\n",
      " '131797147': 'Harley Harmon Elementary School',\n",
      " '132154069': 'George E Harris Elementary School',\n",
      " '132156997': 'Gym',\n",
      " '132157010': 'The D Las Vegas',\n",
      " '132225801': 'Clark County Detention Center',\n",
      " '133757908': 'Paradise self park',\n",
      " '133879585': 'Monte Carlo Hotel and Casino',\n",
      " '134022112': '8th',\n",
      " '134044965': '17th',\n",
      " '134068318': 'Fountainbleu Las Vegas (On Hold)',\n",
      " '134574757': '6th',\n",
      " '134578069': '16th',\n",
      " '134658998': '11th',\n",
      " '134659902': '15th',\n",
      " '134663089': '18th',\n",
      " '135294141': 'Bonneville Transit Center',\n",
      " '135457469': 'Stratosphere Tower',\n",
      " '135464248': '2nd',\n",
      " '135466065': '10th',\n",
      " '138559541': 'Calanques Terrace',\n",
      " '139159417': 'Interstate 15',\n",
      " '142095339': 'East Leg (Moderate)',\n",
      " '142520702': 'Willow Beach Campground',\n",
      " '142520712': 'Willow Beach Campground',\n",
      " '14292269': 'Whisper Reef',\n",
      " '14292632': 'Nlv Industrial Spur',\n",
      " '14292911': 'Fairway Pines',\n",
      " '14293713': 'Hemenway Cove',\n",
      " '14294054': 'Plaza de Rafael',\n",
      " '14295261': 'Cliff',\n",
      " '14295649': 'Lawana',\n",
      " '14295776': 'Via de Tartaruga',\n",
      " '14295897': 'Camino la Paz',\n",
      " '14296507': 'Red Desert',\n",
      " '14296533': 'Via Renaldo',\n",
      " '14296587': 'Solano',\n",
      " '14296975': 'The Crossing',\n",
      " '14297379': 'Tripoli',\n",
      " '14297402': 'Camino Francisco',\n",
      " '14297418': 'Night Swim',\n",
      " '14297436': 'Ashley Rose Terrace',\n",
      " '14297734': 'Sandy Hook Terrace',\n",
      " '14298500': 'Nevada Industrial Switch',\n",
      " '14298596': 'Twin Creek',\n",
      " '14298868': 'Tucson',\n",
      " '14298952': 'Seashore',\n",
      " '14299263': 'Valley Moss',\n",
      " '14299338': 'Walkingstick',\n",
      " '14299816': 'Desert Green',\n",
      " '14300297': 'Curio Terrace',\n",
      " '14300597': 'Ironside',\n",
      " '14301469': 'Cozy Cottage',\n",
      " '14301905': 'Plaza del Padre',\n",
      " '14302125': 'Pretty Sunset Terrace',\n",
      " '14302788': 'Monte Carlo West',\n",
      " '14303378': 'Grand Sierra',\n",
      " '14303843': 'Plaza de Rosa',\n",
      " '14305462': 'Sawtooth',\n",
      " '14305856': 'Avenida Fiesta',\n",
      " '14306577': 'Old Time',\n",
      " '14306683': 'State Route 41A',\n",
      " '14307294': 'Huntington Crest',\n",
      " '14307741': 'Placita del Rico',\n",
      " '14308119': 'Rising Star',\n",
      " '14308393': 'Perfect Waters',\n",
      " '14308478': 'Scottyboy',\n",
      " '14308603': 'West Serene',\n",
      " '14308629': 'Denali',\n",
      " '14309103': 'Straight Arrow',\n",
      " '14309377': 'Mandy',\n",
      " '14310179': 'South Bonita Vista',\n",
      " '14311444': 'Donna Celina',\n",
      " '14311830': 'Park Way East',\n",
      " '14311963': 'Nellis Oasis',\n",
      " '14312089': 'Camino del Ray',\n",
      " '14313755': 'Red Wing',\n",
      " '14316043': 'Kahala Bay',\n",
      " '14316057': 'Sunset Point',\n",
      " '14316146': 'Concord',\n",
      " '14316674': 'Sutton',\n",
      " '14316748': 'Cork Oak',\n",
      " '14316827': 'Trango',\n",
      " '14317074': 'Strato Jet',\n",
      " '14317309': 'Trails Center',\n",
      " '14317493': 'Las Vegas Jaycees Mhp',\n",
      " '14317747': 'Lauri',\n",
      " '14318548': 'Larey',\n",
      " '14318647': 'Calle de Vega',\n",
      " '14320385': 'Arroya Vista Terrace',\n",
      " '14320479': 'Franklin Chase Terrace',\n",
      " '14321123': 'Avenida Tampico',\n",
      " '14321148': 'Swapp',\n",
      " '14322546': 'Padero',\n",
      " '14322677': 'Seven Oaks',\n",
      " '14322834': 'Islandia',\n",
      " '14323071': 'South Tomsik',\n",
      " '14323087': 'Flippin',\n",
      " '14323550': 'Chelmsford',\n",
      " '14323659': 'Boulder Highway',\n",
      " '14323787': 'Willow Wisp Terrace',\n",
      " '14324141': 'Avenida Arenas',\n",
      " '14324274': 'Legato',\n",
      " '143516553': 'South Via Scula',\n",
      " '144315298': 'Moapa Valley High School',\n",
      " '144316065': 'Clark County Fire Station Number 73',\n",
      " '144461366': 'Pat A Diskin Elementary School',\n",
      " '145226073': 'Lexington  #15',\n",
      " '145383970': 'Hayden Creek Terrace',\n",
      " '145403812': 'Via Barberini',\n",
      " '146370564': 'Lavender Moon Terrace',\n",
      " '146612120': 'Palace Station',\n",
      " '147242168': 'US Social Security Administration',\n",
      " '149070679': 'Mendenhall Center',\n",
      " '149481338': 'Elton M Garrett Middle School',\n",
      " '150567895': 'Las Vegas High School',\n",
      " '156633415': 'Shadow Creek Country Club',\n",
      " '158026640': 'Avenue B',\n",
      " '158777686': 'Interfaith Center',\n",
      " '158927336': 'Central Desert Complex 5',\n",
      " '158936872': 'William S Boyd School of Law',\n",
      " '160310455': 'Concord #13',\n",
      " '160310467': 'Concord #6',\n",
      " '163687211': \"Albertson's\",\n",
      " '163758839': 'Charles and Phyllis Frias Elementary School',\n",
      " '164722957': 'Detrital Valley',\n",
      " '164841516': 'Laura Dearing Elementary School',\n",
      " '166551123': 'Northwest Substation',\n",
      " '168108510': 'Twilight',\n",
      " '170062899': 'Las Vegas Boulevard S',\n",
      " '171194940': 'The Commons at Seven Hills',\n",
      " '172106101': 'Rio Secco Golf Club #14',\n",
      " '172106124': 'Rio Secco Golf Club #7',\n",
      " '172611921': 'Mission Ridge',\n",
      " '172739907': 'AC Pro',\n",
      " '180421753': 'Rue Clark',\n",
      " '180744434': \"Kokomo's\",\n",
      " '180748309': 'Stack',\n",
      " '180764975': 'Sports Bar',\n",
      " '180764987': 'The Roasted Bean',\n",
      " '180771073': 'Magerita Bar',\n",
      " '180776994': 'Love G & P',\n",
      " '180833636': 'Lacoste',\n",
      " '181688602': 'Copilico Terrace',\n",
      " '182464623': 'Historic Fifth Street School',\n",
      " '182527015': u'Terrace Point Caf\\xea',\n",
      " '190938956': \"Lowe's\",\n",
      " '191499601': 'D',\n",
      " '191666236': 'Walmart Supercenter',\n",
      " '191673531': 'Via Firenze',\n",
      " '195231945': 'Via Casa Palmero',\n",
      " '195339640': 'Concierge',\n",
      " '195339663': 'VIP Lounge',\n",
      " '195569712': 'NPS 113',\n",
      " '198401908': 'Avenue L',\n",
      " '200101203': 'La Cima',\n",
      " '200129601': 'Carnegie Hills',\n",
      " '200155002': 'Muddy River',\n",
      " '201072794': 'Castle Rock Estates',\n",
      " '201072804': 'Somerset',\n",
      " '201870280': 'Hidden Ranch Terrace',\n",
      " '202631835': 'Cattlebaron Terrace',\n",
      " '202631851': 'Sonic Terrace',\n",
      " '203313211': 'Pacific Trace',\n",
      " '203323437': 'South Hills',\n",
      " '203447571': 'Wanderlust',\n",
      " '204200767': 'Claremont Cove Terrace',\n",
      " '204345599': 'Jackie Gaughan Plaza',\n",
      " '204683160': 'Juhl',\n",
      " '205419340': 'Andiamo Apartment Homes',\n",
      " '205437365': 'Bella Terra Luxury Apartments',\n",
      " '205592799': 'Calle de Luz',\n",
      " '206128520': 'Downtown Grand',\n",
      " '206147645': 'Federal Courthouse',\n",
      " '206151446': 'Golden Nugget Las Vegas',\n",
      " '206231290': 'Villas at Black Mountain',\n",
      " '208531898': 'Eagle Crest Townhomes',\n",
      " '208802942': 'CVS',\n",
      " '211397769': 'Silver Maple',\n",
      " '214607359': 'West Fenway Park Avenmue',\n",
      " '215027377': 'Paradise',\n",
      " '217308095': 'Seal Cay West',\n",
      " '217616278': 'River Mountain View Estates',\n",
      " '221438814': 'Camping World',\n",
      " '222851965': 'Homestretch',\n",
      " '226454386': 'Henderson City Hall',\n",
      " '227014227': 'Town Terrace Apartments',\n",
      " '227749387': 'Berry Plastics',\n",
      " '227751021': 'Big 5 Sporting Goods',\n",
      " '228172250': 'Arrowhead Estates',\n",
      " '228173837': 'Extra Mile Auto Spa Mobile Car Wash & Detail',\n",
      " '228342716': 'Boulder Highway trail',\n",
      " '228527745': 'Gold & Silver Pawn Shop',\n",
      " '228632299': 'Nevada State Bank',\n",
      " '228919733': 'Las Vegas Boulevard North',\n",
      " '232877310': 'Luck Motel Pool (empty)',\n",
      " '235400923': 'Bird Viewing Pond #8',\n",
      " '235771056': 'Falling Waters',\n",
      " '236789472': 'Almond',\n",
      " '240057533': 'Via Firenze',\n",
      " '240313488': 'East Van Wagenen',\n",
      " '249244326': 'East Windmill Shopping Plaza',\n",
      " '250842798': 'S FLore del Sol',\n",
      " '255579488': 'Regal Colonnade 14',\n",
      " '265375972': 'Lot A',\n",
      " '265733050': 'Infield Tunnel',\n",
      " '265978336': 'The Church of Jesus Christ of Latter-day Saints',\n",
      " '269922628': 'Las Vegas Boulevard North',\n",
      " '269922644': 'Las Vegas Boulevard South',\n",
      " '272699240': 'English Language Program',\n",
      " '273763117': 'Shell',\n",
      " '27443683': 'Ethel W. Staton Elementary School',\n",
      " '27500832': 'Nevada Department of Motor Vehicles',\n",
      " '27504112': 'The Orleans',\n",
      " '27514178': 'Spanish Court Plaza',\n",
      " '27575073': 'Green Valley Country Club',\n",
      " '27620960': 'St. Elizabeth Ann Seton Catholic School',\n",
      " '276425915': 'Palace Station',\n",
      " '276428208': 'Blue Moon',\n",
      " '27726826': 'Tony Alamo Elementary School',\n",
      " '27750003': 'Treem Elementary School',\n",
      " '27750750': 'Faiss Middle School',\n",
      " '27853280': 'Dailey Elementary School',\n",
      " '27856378': 'Silver Bowl Fields',\n",
      " '27960089': 'CSN Access',\n",
      " '27998220': 'Rio Ipanema Tower',\n",
      " '285334976': '9',\n",
      " '285358126': 'Via Cividino',\n",
      " '285365086': 'Via San Matteo',\n",
      " '285374536': '12',\n",
      " '285384428': '3',\n",
      " '285414709': 'Montiano',\n",
      " '289109192': 'Portico',\n",
      " '289954993': 'Via Inspirada',\n",
      " '293552435': 'MountainView Hospital Medical Center',\n",
      " '293552446': 'The Church of Jesus Christ of Latter-day Saints',\n",
      " '294116800': 'Red Rock Resort',\n",
      " '30393936': 'Parking Area 13',\n",
      " '304751790': 'Future I-11 / I-515 / US 93',\n",
      " '304754918': 'Future I-11 / US 93',\n",
      " '305043951': 'Nevada Highway',\n",
      " '309958467': 'Las Vegas Boulevard South',\n",
      " '312344632': \"Las Vegas KOA at Sam's Town\",\n",
      " '320892200': 'Route parking',\n",
      " '321034358': 'Buffet@Asia',\n",
      " '321036672': u'Acc\\xe8s parking',\n",
      " '321044981': u'Acc\\xe8s parking',\n",
      " '321333610': 'Condo Villa Ave',\n",
      " '323560483': 'Las Vegas Wash Trail, Lower',\n",
      " '327205538': 'Grandview at Las Vegas',\n",
      " '33967431': 'Plaza Hotel',\n",
      " '340009541': 'Empty Lot',\n",
      " '342335582': 'Gambler',\n",
      " '342383398': 'The Burbs',\n",
      " '346771253': 'Nottingham Hills',\n",
      " '347190283': 'Coca Cola spur',\n",
      " '350946283': 'Union Pacific',\n",
      " '350962488': 'Three Crowns Drive East',\n",
      " '351025688': 'Nlv Industrial Spur',\n",
      " '351450197': 'Private Chateau Verselles',\n",
      " '353081496': 'El Camino Rd',\n",
      " '357088431': 'Ferguson Motel Bldg 1',\n",
      " '358409810': 'Villa Marsala',\n",
      " '358410794': 'Via Mantova',\n",
      " '359190288': 'Via Pastini',\n",
      " '361468392': 'LeBaron Paseo',\n",
      " '367272421': 'Cerchio Alto',\n",
      " '367815620': 'Inner Loop (Easy);Latenight Loop (Easy)',\n",
      " '367823703': 'Via Laterna',\n",
      " '367824401': 'Via Mancinni',\n",
      " '367826792': 'Via Vicchio',\n",
      " '374247121': 'Access Republic Services',\n",
      " '375028345': 'Las Vegas Wash Trail, Lower',\n",
      " '376921642': 'John Helter Plaza',\n",
      " '376922971': 'B&R Auto Wrecking',\n",
      " '38048174': 'Great Basin Highway',\n",
      " '38134781': 'Tuff Shed',\n",
      " '38618733': 'Crestwood Suites',\n",
      " '388950708': 'Summerlin Hosspital',\n",
      " '46982737': 'Black Island',\n",
      " '49938932': 'Hoover Dam',\n",
      " '51319166': 'Neon Garage',\n",
      " '57124298': 'Loading Docks 2F-2H',\n",
      " '62131251': 'Via Firenze',\n",
      " '67145830': 'Villa Alex',\n",
      " '71320760': '1st Finger (Moderate)',\n",
      " '71804167': '3 Amigos (Difficult)',\n",
      " '73449008': 'Hurl (Difficult)',\n",
      " '73888626': 'Mustang (Easy)',\n",
      " '74867369': 'Moapa Paiute Travel Plaza',\n",
      " '78744558': 'Arnight',\n",
      " '80341614': 'Robert O Gibson Middle School',\n",
      " '82443629': 'Old US 93',\n",
      " '82951035': 'Great Basin Hwy',\n",
      " '85547364': 'Old US 93',\n",
      " '88920155': 'Extended Stay America Hotel',\n",
      " '96972040': 'I-15 Express Lanes',\n",
      " '98572517': 'Wonderful Day Drive',\n",
      " '98834098': 'Shadow Creek Golf Course'}\n"
     ]
    }
   ],
   "source": [
    "pprint(changes_dict)"
   ]
  },
  {
   "cell_type": "code",
   "execution_count": 293,
   "metadata": {
    "collapsed": false
   },
   "outputs": [
    {
     "data": {
      "text/plain": [
       "324"
      ]
     },
     "execution_count": 293,
     "metadata": {},
     "output_type": "execute_result"
    }
   ],
   "source": [
    "len(changes_dict)"
   ]
  },
  {
   "cell_type": "markdown",
   "metadata": {},
   "source": [
    "## Merging the changes and creating a new file"
   ]
  },
  {
   "cell_type": "code",
   "execution_count": 213,
   "metadata": {
    "collapsed": false
   },
   "outputs": [],
   "source": [
    "OSM_FILE = 'LV_truncated.osm'\n",
    "NEW_FILE = 'LV_applied_changes.osm'\n",
    "\n",
    "def merge_changes(osm_file, changes):\n",
    "    '''Merges the changes applied on the street names back into the original OSM file structure, creating a new file.\n",
    "    \n",
    "    '''\n",
    "    context = ET.iterparse(osm_file, events=('start', 'end'))\n",
    "    _, root = next(context)\n",
    "    for event, elem in context:\n",
    "        # had to add event=='end' so it wouldn't find each tag twice!\n",
    "        # i guess because there's a 'start' and an 'end' event, and since i go 'for event, elem ...' finds twice.\n",
    "        if event == 'end' and elem.tag == 'way':\n",
    "            if elem.attrib['id'] in changes.keys():\n",
    "                street_name_tag = elem.find('tag[@k=\"name\"]')\n",
    "                ## revisiting the changes with the below print statement\n",
    "                ##print street_name_tag.attrib['v'], '--->', changes[elem.attrib['id']]\n",
    "                street_name_tag.set('v', changes[elem.attrib['id']])\n",
    "        if event == 'end':\n",
    "            yield elem\n",
    "            root.clear()\n",
    "                \n",
    "with open(NEW_FILE, 'w') as output:\n",
    "    output.write('<?xml version=\"1.0\" encoding=\"UTF-8\"?>\\n')\n",
    "    output.write('<osm>\\n  ')\n",
    "    for i, element in enumerate(merge_changes(OSM_FILE, changes_dict)):\n",
    "        output.write(ET.tostring(element, encoding='utf-8'))\n",
    "    output.write('</osm>')"
   ]
  },
  {
   "cell_type": "markdown",
   "metadata": {},
   "source": [
    "Yay! :D\n",
    "\n",
    "This is now finally working well it seems. Changes are taken from the dictionary and written into the ElementTree and finally also into a new file. So there I end up with a new file that has these attributes changed and will have the pieces of the street names replaced that I'll now have to find and appropriately clean.\n",
    "\n",
    "The structure is set, now comes the little work."
   ]
  },
  {
   "cell_type": "code",
   "execution_count": null,
   "metadata": {
    "collapsed": true
   },
   "outputs": [],
   "source": []
  }
 ],
 "metadata": {
  "kernelspec": {
   "display_name": "Python 2",
   "language": "python",
   "name": "python2"
  },
  "language_info": {
   "codemirror_mode": {
    "name": "ipython",
    "version": 2
   },
   "file_extension": ".py",
   "mimetype": "text/x-python",
   "name": "python",
   "nbconvert_exporter": "python",
   "pygments_lexer": "ipython2",
   "version": "2.7.10"
  }
 },
 "nbformat": 4,
 "nbformat_minor": 0
}
