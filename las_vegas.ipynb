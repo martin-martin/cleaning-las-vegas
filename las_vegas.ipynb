{
 "cells": [
  {
   "cell_type": "markdown",
   "metadata": {},
   "source": [
    "# Cleaning Las Vegas\n",
    "A digital walk to get to know my surroundings through the computer, using Data Wrangling."
   ]
  },
  {
   "cell_type": "markdown",
   "metadata": {},
   "source": [
    "## Getting the data\n",
    "I chose to investigate the **MapZen metro extract** of **Las Vegas, Nevada** found here: https://mapzen.com/data/metro-extracts\n",
    "(probably approximately containing this: https://www.openstreetmap.org/export#map=12/36.1750/-115.1372)\n",
    "\n",
    "My flight to the USA had its destination here. I felt like taking a (for me) new approach to discovering a place that I am staying in. So I've decided to use the dataset of LV, to programmatically investigate and clean the OSM data available.\n",
    "\n",
    "Getting to know which streets are around the place that I am staying. Learning about the size, the sights, and what people find important enough to map in this city.\n",
    "\n",
    "I'll be spending my days here, however mostly inside, take digital walks and discovery tours by diving into the OSM data, and on my way maybe also do something good for this city, by cleaning some of it in such a way, where I can maybe actually contribute a little. :)"
   ]
  },
  {
   "cell_type": "markdown",
   "metadata": {},
   "source": [
    "## Inspecting\n",
    "First I'll take a look at the data I will be working with."
   ]
  },
  {
   "cell_type": "code",
   "execution_count": 7,
   "metadata": {
    "collapsed": false
   },
   "outputs": [
    {
     "name": "stdout",
     "output_type": "stream",
     "text": [
      "File Size in Bytes: 18702424\n",
      "File Size in MB:    17\n"
     ]
    }
   ],
   "source": [
    "import os\n",
    "#las_vegas_osm = 'las-vegas_nevada.osm'\n",
    "# for testing and developing purposes, here's the truncated version:\n",
    "las_vegas_osm = 'LV_truncated.osm'\n",
    "file_size = os.path.getsize(las_vegas_osm)\n",
    "print 'File Size in Bytes:', file_size\n",
    "print 'File Size in MB:   ', file_size / (2**20)"
   ]
  },
  {
   "cell_type": "code",
   "execution_count": 8,
   "metadata": {
    "collapsed": false
   },
   "outputs": [],
   "source": [
    "import xml.etree.cElementTree as ET\n",
    "import pprint\n",
    "\n",
    "def count_tags(filename):\n",
    "    '''Creates a dictionary with the tags present in the dataset, alongside a count for each'''\n",
    "    tag_dict = {}\n",
    "    for event, elem in ET.iterparse(filename):\n",
    "        if elem.tag not in tag_dict:\n",
    "            tag_dict[elem.tag] = 1\n",
    "        elif elem.tag in tag_dict:\n",
    "            tag_dict[elem.tag] += 1\n",
    "    return tag_dict\n",
    "\n",
    "\n",
    "#las_vegas_osm_dict = count_tags('las-vegas_nevada.osm')\n",
    "las_vegas_osm_dict = count_tags(las_vegas_osm)"
   ]
  },
  {
   "cell_type": "markdown",
   "metadata": {},
   "source": [
    "Which tags are present in the dataset, and how many of them?"
   ]
  },
  {
   "cell_type": "code",
   "execution_count": 9,
   "metadata": {
    "collapsed": false
   },
   "outputs": [
    {
     "data": {
      "text/plain": [
       "member         281\n",
       "nd          100995\n",
       "node         82011\n",
       "osm              1\n",
       "relation        31\n",
       "tag          54515\n",
       "way           9187\n",
       "Name: tags and their amounts, dtype: int64"
      ]
     },
     "execution_count": 9,
     "metadata": {},
     "output_type": "execute_result"
    }
   ],
   "source": [
    "import pandas as pd\n",
    "\n",
    "las_vegas_osm_tags = pd.Series(las_vegas_osm_dict, name='tags and their amounts')\n",
    "las_vegas_osm_tags"
   ]
  },
  {
   "cell_type": "code",
   "execution_count": 10,
   "metadata": {
    "collapsed": false,
    "scrolled": true
   },
   "outputs": [],
   "source": [
    "way_keys = {}\n",
    "for event, elem in ET.iterparse(las_vegas_osm, events=('start',)):\n",
    "    if elem.tag == 'way':\n",
    "        for tag in elem.iter('tag'):\n",
    "            if tag.attrib['k'] not in way_keys:\n",
    "                way_keys[tag.attrib['k']] = 1\n",
    "            else:\n",
    "                way_keys[tag.attrib['k']] += 1"
   ]
  },
  {
   "cell_type": "code",
   "execution_count": 11,
   "metadata": {
    "collapsed": false
   },
   "outputs": [],
   "source": [
    "# making a general function for this\n",
    "def counting_attributes(way_or_node):\n",
    "    way_or_node_keys = {}\n",
    "    for event, elem in ET.iterparse(las_vegas_osm, events=('start',)):\n",
    "        if elem.tag == way_or_node:\n",
    "            for tag in elem.iter('tag'):\n",
    "                if tag.attrib['k'] not in way_or_node_keys:\n",
    "                    way_or_node_keys[tag.attrib['k']] = 1\n",
    "                else:\n",
    "                    way_or_node_keys[tag.attrib['k']] += 1\n",
    "    return way_or_node_keys"
   ]
  },
  {
   "cell_type": "code",
   "execution_count": 12,
   "metadata": {
    "collapsed": false
   },
   "outputs": [],
   "source": [
    "all_way_keys = pd.Series(counting_attributes('way'), name='types of tags on ways')"
   ]
  },
  {
   "cell_type": "code",
   "execution_count": 13,
   "metadata": {
    "collapsed": false
   },
   "outputs": [
    {
     "data": {
      "text/plain": [
       "building            583\n",
       "color               557\n",
       "footway             772\n",
       "highway            6793\n",
       "name               4433\n",
       "natural             704\n",
       "oneway              613\n",
       "review             1463\n",
       "source             2370\n",
       "tiger:cfcc         2763\n",
       "tiger:county       2772\n",
       "tiger:name_base    2664\n",
       "tiger:name_type    2518\n",
       "tiger:reviewed     2571\n",
       "tiger:separated    1855\n",
       "tiger:source       1957\n",
       "tiger:tlid         1972\n",
       "tiger:zip_left     2313\n",
       "tiger:zip_right    2262\n",
       "Name: types of tags on ways, dtype: int64"
      ]
     },
     "execution_count": 13,
     "metadata": {},
     "output_type": "execute_result"
    }
   ],
   "source": [
    "# displaying the more common way key attributes in alphabetical order\n",
    "most_used_way_keys = all_way_keys[all_way_keys.values > 500]\n",
    "most_used_way_keys"
   ]
  },
  {
   "cell_type": "markdown",
   "metadata": {},
   "source": [
    "there's a lot of `tiger:` data. I did not know what this is and went to check it up on the OSM wiki:\n",
    "http://wiki.openstreetmap.org/wiki/TIGER\n",
    "\n",
    "So let's check which TIGER data I'm having in my map section, and how much of it:"
   ]
  },
  {
   "cell_type": "code",
   "execution_count": 14,
   "metadata": {
    "collapsed": false
   },
   "outputs": [],
   "source": [
    "def number_of_specific_attribs(way_or_node, regex):\n",
    "    '''Returns the attributes specified through the input and how often they occur\n",
    "    \n",
    "    Takes as input a primary XML tag that holds tags in this dataset (\"way\" or \"node\")\n",
    "    and a regular expression to match the desired attributes of these tags\n",
    "    Returns a pandas Series object mapping the attributes to the amount of their occurence.\n",
    "    '''\n",
    "    import re\n",
    "    import pandas as pd\n",
    "    regex_keys = {}\n",
    "    for event, elem in ET.iterparse(las_vegas_osm, events=('start',)):\n",
    "        if elem.tag == way_or_node:\n",
    "            for tag in elem.iter('tag'):\n",
    "                if re.search(regex, tag.attrib['k']):\n",
    "                    if tag.attrib['k'] not in regex_keys:\n",
    "                        regex_keys[tag.attrib['k']] = 1\n",
    "                    else:\n",
    "                        regex_keys[tag.attrib['k']] += 1\n",
    "    regex_series = pd.Series(regex_keys, name='tag attributes for \"%s\" matching \"%s\"' %(way_or_node, regex.pattern))\n",
    "    return regex_series"
   ]
  },
  {
   "cell_type": "code",
   "execution_count": 15,
   "metadata": {
    "collapsed": false
   },
   "outputs": [
    {
     "data": {
      "text/plain": [
       "tiger:cfcc                     2763\n",
       "tiger:county                   2772\n",
       "tiger:mtfcc                      56\n",
       "tiger:name_base                2664\n",
       "tiger:name_direction_prefix     358\n",
       "tiger:name_direction_suffix       2\n",
       "tiger:name_full                  54\n",
       "tiger:name_type                2518\n",
       "tiger:reviewed                 2571\n",
       "tiger:separated                1855\n",
       "tiger:source                   1957\n",
       "tiger:tlid                     1972\n",
       "tiger:upload_uuid               254\n",
       "tiger:zip_left                 2313\n",
       "tiger:zip_right                2262\n",
       "Name: tag attributes for \"way\" matching \"^tiger:[a-z_]*$\", dtype: int64"
      ]
     },
     "execution_count": 15,
     "metadata": {},
     "output_type": "execute_result"
    }
   ],
   "source": [
    "import re\n",
    "tiger_attribs = re.compile(r'^tiger:[a-z_]*$')\n",
    "all_tiger = number_of_specific_attribs('way', tiger_attribs)\n",
    "all_tiger"
   ]
  },
  {
   "cell_type": "code",
   "execution_count": 16,
   "metadata": {
    "collapsed": false
   },
   "outputs": [],
   "source": [
    "# I've written this function to better inspect what type of data the different attributes contain\n",
    "def get_attrib_values(way_or_node, attribute):\n",
    "    '''Collects all the \"v\" values for the given \"k\" attribute and counts their occurences\n",
    "    \n",
    "    Takes as input a primary XML tag that holds tags in this dataset (\"way\" or \"node\")\n",
    "    and a string pertaining to an existing attribute \n",
    "    Returns a pandas Series object mapping the \"v\" values of the attribute to the amount of their occurence.\n",
    "    '''\n",
    "    attribute_values = {}\n",
    "    for event, elem in ET.iterparse(las_vegas_osm, events=('start',)):\n",
    "        if elem.tag == way_or_node:\n",
    "            for tag in elem.iter('tag'):\n",
    "                if tag.attrib['k'] == attribute:\n",
    "                    if tag.attrib['v'] not in attribute_values:\n",
    "                        attribute_values[tag.attrib['v']] = 1\n",
    "                    else:\n",
    "                        attribute_values[tag.attrib['v']] += 1\n",
    "    attribute_values_series = pd.Series(attribute_values, name='amounts of values for \"%s\"' %(attribute))\n",
    "    return attribute_values_series"
   ]
  },
  {
   "cell_type": "code",
   "execution_count": 17,
   "metadata": {
    "collapsed": false
   },
   "outputs": [
    {
     "data": {
      "text/plain": [
       "Arroyo Grande                4\n",
       "Buffalo                      6\n",
       "Decatur                      5\n",
       "Desert Inn                   4\n",
       "Durango                      4\n",
       "Fort Apache                  5\n",
       "Heritage                     4\n",
       "Jones                        7\n",
       "Martin L King                4\n",
       "Park                         4\n",
       "Pecos                        8\n",
       "Sahara                       7\n",
       "Stewart                      4\n",
       "Tenaya                       5\n",
       "Torrey Pines                 4\n",
       "Town Center                  5\n",
       "Union Pacific Railroad      13\n",
       "United States Highway 95     9\n",
       "Name: amounts of values for \"tiger:name_base\", dtype: int64"
      ]
     },
     "execution_count": 17,
     "metadata": {},
     "output_type": "execute_result"
    }
   ],
   "source": [
    "tiger_values = get_attrib_values('way', 'tiger:name_base')\n",
    "# look at a few of the values\n",
    "tiger_values_top = tiger_values[tiger_values.values > 3]\n",
    "tiger_values_top"
   ]
  },
  {
   "cell_type": "markdown",
   "metadata": {},
   "source": [
    "This does look a bit like street names, or place names (there's also a lake somewhere among them). But none of them has a street ending information associated.\n",
    "\n",
    "But: through reading the information on the OSM Wiki about TIGER data, I know that its way of recording had the street name data organized like this: `\"#{fedirp} #{fename} #{fetype} #{fedirs}\".strip`. When that data got imported to OSM, the aim was to split the road information into more separate attributes.\n",
    "\n",
    "Therefore there exist attributes for `name_direction_prefix`, `name_base`, `name_type` and `name_direction_suffix`, that together can form e.g. a street name."
   ]
  },
  {
   "cell_type": "markdown",
   "metadata": {},
   "source": [
    "I also went to check the length of the set:"
   ]
  },
  {
   "cell_type": "code",
   "execution_count": 18,
   "metadata": {
    "collapsed": false
   },
   "outputs": [
    {
     "name": "stdout",
     "output_type": "stream",
     "text": [
      "2425\n"
     ]
    },
    {
     "data": {
      "text/plain": [
       "True"
      ]
     },
     "execution_count": 18,
     "metadata": {},
     "output_type": "execute_result"
    }
   ],
   "source": [
    "print len(tiger_values)\n",
    "all_tiger['tiger:name_base'] > len(tiger_values)"
   ]
  },
  {
   "cell_type": "markdown",
   "metadata": {},
   "source": [
    "Since this number is lower than the one I found counting all occurances, this means that some were appearing double. I might go and investigate into this further. These doubles might be legitimate, but they could also be redundant."
   ]
  },
  {
   "cell_type": "markdown",
   "metadata": {},
   "source": [
    "So now I went to look at the actual street name endings, to see what is there."
   ]
  },
  {
   "cell_type": "code",
   "execution_count": 19,
   "metadata": {
    "collapsed": true
   },
   "outputs": [],
   "source": [
    "nametype_list = get_attrib_values('way', 'tiger:name_type')"
   ]
  },
  {
   "cell_type": "code",
   "execution_count": 20,
   "metadata": {
    "collapsed": false
   },
   "outputs": [
    {
     "data": {
      "text/plain": [
       "Ave               491\n",
       "Dr                468\n",
       "St                431\n",
       "Ct                376\n",
       "Ln                190\n",
       "Way               165\n",
       "Rd                129\n",
       "Cir               120\n",
       "Blvd               52\n",
       "Pl                 51\n",
       "Pky                18\n",
       "Ter                13\n",
       "Trl                 3\n",
       "Dr; Dr; Dr; Rd      3\n",
       "Ctr                 2\n",
       "Xing                1\n",
       "Cv                  1\n",
       "Way; Rd; Way        1\n",
       "Rd; Blvd            1\n",
       "St:Trl              1\n",
       "Aly                 1\n",
       "Name: amounts of values for \"tiger:name_type\", dtype: int64"
      ]
     },
     "execution_count": 20,
     "metadata": {},
     "output_type": "execute_result"
    }
   ],
   "source": [
    "nametype_list.order(ascending=False)"
   ]
  },
  {
   "cell_type": "markdown",
   "metadata": {},
   "source": [
    "Most of these abbreviations seem to be legitimate (according to the TIGER Appendix D (2000) that I found here: http://cugir.mannlib.cornell.edu/metadata/cens2000/TIGER2000.pdf).\n",
    "However, there are some strange values, such as `Dr; Dr; Dr; Rd`, that might have come through a difference in the representation of ways between TIGER and OSM.\n",
    "\n",
    "My assumption is, that these represent more sections of a way element, since all the individual parts are valid in themselves. Therefore the above mentioned example could represent a Drive leading to a Drive leading to a Drive leading to a Road.\n",
    "\n",
    "Similarly, the again different representation `St:Trl` could stand for a Street leading to a Trail.\n",
    "\n",
    "I don't really know how to deal with these issues, because I am uncertain which of the information to discard and which to keep.\n",
    "\n",
    "---"
   ]
  },
  {
   "cell_type": "markdown",
   "metadata": {},
   "source": [
    "Another attribute that looked interesting to me was `tiger:name_full`, because this isn't mentioned in the OSM wiki and suggests that it would hold all the values that were in the TIGER data in one place (that is, just like other \"normal\" OSM attributes to `addr:street`."
   ]
  },
  {
   "cell_type": "code",
   "execution_count": 21,
   "metadata": {
    "collapsed": false
   },
   "outputs": [
    {
     "data": {
      "text/plain": [
       "Autumn King Ave                    1\n",
       "Bay Course Ct                      1\n",
       "Bethel Mill St:S Bethel Mill St    1\n",
       "Crooked Putter Dr                  1\n",
       "E Blue Rosalie Pl                  2\n",
       "Name: amounts of values for \"tiger:name_full\", dtype: int64"
      ]
     },
     "execution_count": 21,
     "metadata": {},
     "output_type": "execute_result"
    }
   ],
   "source": [
    "namefull_list = get_attrib_values('way', 'tiger:name_full')\n",
    "namefull_list.head()"
   ]
  },
  {
   "cell_type": "markdown",
   "metadata": {},
   "source": [
    "And indeed: they are!"
   ]
  },
  {
   "cell_type": "code",
   "execution_count": 22,
   "metadata": {
    "collapsed": false
   },
   "outputs": [
    {
     "data": {
      "text/plain": [
       "54"
      ]
     },
     "execution_count": 22,
     "metadata": {},
     "output_type": "execute_result"
    }
   ],
   "source": [
    "all_tiger['tiger:name_full']"
   ]
  },
  {
   "cell_type": "markdown",
   "metadata": {},
   "source": [
    "A fast check on how many there are makes it clear to me that it is not a copy of the split-up data. The entries might still be copies of **some** entries that were split up, or they might be unique entries.\n",
    "\n",
    "To determine this, I'll need to investigate further."
   ]
  },
  {
   "cell_type": "markdown",
   "metadata": {},
   "source": [
    "Another thing that I can see here that pertains to the issue with the `tiger:name_type`s above, is the entry `Bethel Mill St:S Bethel Mill St `. I went to check for this street using google maps https://goo.gl/maps/8onJzAYjZoK2 and found it to be leading *S*. Howevere, there seems to be no _S Bethel Mill St_ recorded.\n",
    "\n",
    "This makes me suspect that the `:` notation might be used to indicate **alternative namings** for certain ways.\n",
    "\n",
    "Haha, still don't know what to do with it. :)\n",
    "\n",
    "---"
   ]
  },
  {
   "cell_type": "markdown",
   "metadata": {},
   "source": [
    "Okay. This is too complicated for me. I'll cut it down to cleaning some other part of the dataset.\n",
    "\n",
    "I like nature. So here we go."
   ]
  },
  {
   "cell_type": "markdown",
   "metadata": {},
   "source": [
    "## Cleaning nature"
   ]
  },
  {
   "cell_type": "code",
   "execution_count": 23,
   "metadata": {
    "collapsed": false
   },
   "outputs": [
    {
     "data": {
      "text/plain": [
       "leisure    18\n",
       "Name: tag attributes for \"node\" matching \"leisure\", dtype: int64"
      ]
     },
     "execution_count": 23,
     "metadata": {},
     "output_type": "execute_result"
    }
   ],
   "source": [
    "leisure = re.compile(r'leisure')\n",
    "number_of_specific_attribs('node', leisure)"
   ]
  },
  {
   "cell_type": "code",
   "execution_count": 24,
   "metadata": {
    "collapsed": false
   },
   "outputs": [
    {
     "data": {
      "text/plain": [
       "park             12\n",
       "picnic_table      1\n",
       "playground        1\n",
       "sports_centre     1\n",
       "swimming_pool     3\n",
       "Name: amounts of values for \"leisure\", dtype: int64"
      ]
     },
     "execution_count": 24,
     "metadata": {},
     "output_type": "execute_result"
    }
   ],
   "source": [
    "get_attrib_values('node', leisure.pattern)"
   ]
  },
  {
   "cell_type": "code",
   "execution_count": 25,
   "metadata": {
    "collapsed": false
   },
   "outputs": [
    {
     "data": {
      "text/plain": [
       "leisure    162\n",
       "Name: tag attributes for \"way\" matching \"leisure\", dtype: int64"
      ]
     },
     "execution_count": 25,
     "metadata": {},
     "output_type": "execute_result"
    }
   ],
   "source": [
    "number_of_specific_attribs('way', leisure)"
   ]
  },
  {
   "cell_type": "code",
   "execution_count": 26,
   "metadata": {
    "collapsed": false
   },
   "outputs": [
    {
     "data": {
      "text/plain": [
       "common                1\n",
       "garden                2\n",
       "golf_course           1\n",
       "hockey                1\n",
       "nature_reserve        1\n",
       "park                 50\n",
       "pitch                71\n",
       "playground            7\n",
       "recreation_ground     1\n",
       "stadium               3\n",
       "swimming_pool        23\n",
       "track                 1\n",
       "Name: amounts of values for \"leisure\", dtype: int64"
      ]
     },
     "execution_count": 26,
     "metadata": {},
     "output_type": "execute_result"
    }
   ],
   "source": [
    "get_attrib_values('way', leisure.pattern)"
   ]
  },
  {
   "cell_type": "markdown",
   "metadata": {},
   "source": [
    "---\n",
    "\n",
    "Ah, made mistake. The attributes I was looking for are called \"natural\", not \"nature\". Try again."
   ]
  },
  {
   "cell_type": "code",
   "execution_count": 27,
   "metadata": {
    "collapsed": false
   },
   "outputs": [
    {
     "data": {
      "text/plain": [
       "natural    95\n",
       "Name: tag attributes for \"node\" matching \"natural\", dtype: int64"
      ]
     },
     "execution_count": 27,
     "metadata": {},
     "output_type": "execute_result"
    }
   ],
   "source": [
    "natural = re.compile(r'natural')\n",
    "number_of_specific_attribs('node', natural)"
   ]
  },
  {
   "cell_type": "code",
   "execution_count": 28,
   "metadata": {
    "collapsed": false
   },
   "outputs": [
    {
     "data": {
      "text/plain": [
       "bay       11\n",
       "beach      2\n",
       "cliff      1\n",
       "peak       2\n",
       "spring     6\n",
       "tree      73\n",
       "Name: amounts of values for \"natural\", dtype: int64"
      ]
     },
     "execution_count": 28,
     "metadata": {},
     "output_type": "execute_result"
    }
   ],
   "source": [
    "get_attrib_values('node', natural.pattern)"
   ]
  },
  {
   "cell_type": "code",
   "execution_count": 29,
   "metadata": {
    "collapsed": false
   },
   "outputs": [
    {
     "data": {
      "text/plain": [
       "natural    704\n",
       "Name: tag attributes for \"way\" matching \"natural\", dtype: int64"
      ]
     },
     "execution_count": 29,
     "metadata": {},
     "output_type": "execute_result"
    }
   ],
   "source": [
    "number_of_specific_attribs('way', natural)"
   ]
  },
  {
   "cell_type": "code",
   "execution_count": 30,
   "metadata": {
    "collapsed": false
   },
   "outputs": [
    {
     "data": {
      "text/plain": [
       "beach         1\n",
       "cliff       558\n",
       "desert       21\n",
       "heath         9\n",
       "mud           1\n",
       "sand         62\n",
       "scrub         9\n",
       "tree_row      1\n",
       "water        38\n",
       "wetland       2\n",
       "wood          2\n",
       "Name: amounts of values for \"natural\", dtype: int64"
      ]
     },
     "execution_count": 30,
     "metadata": {},
     "output_type": "execute_result"
    }
   ],
   "source": [
    "get_attrib_values('way', natural.pattern)"
   ]
  },
  {
   "cell_type": "markdown",
   "metadata": {},
   "source": [
    "... :')\n",
    "This all looks good, nothing to clean here..."
   ]
  },
  {
   "cell_type": "code",
   "execution_count": 31,
   "metadata": {
    "collapsed": true
   },
   "outputs": [],
   "source": [
    "def get_coord_of_values(value):\n",
    "    '''Computes the geographical location of the specific thing described with the entered value'''\n",
    "    coordinates = []\n",
    "    for event, elem in ET.iterparse(las_vegas_osm, events=('start',)):\n",
    "        if elem.tag == 'node':\n",
    "            for tag in elem.iter('tag'):\n",
    "                if tag.attrib['v'] == value:\n",
    "                    coordinates.append([elem.attrib['lat'], elem.attrib['lon']])\n",
    "    return coordinates"
   ]
  },
  {
   "cell_type": "code",
   "execution_count": 32,
   "metadata": {
    "collapsed": false
   },
   "outputs": [
    {
     "data": {
      "text/plain": [
       "[['36.1158199', '-115.0314977']]"
      ]
     },
     "execution_count": 32,
     "metadata": {},
     "output_type": "execute_result"
    }
   ],
   "source": [
    "get_coord_of_values('picnic_table')"
   ]
  },
  {
   "cell_type": "code",
   "execution_count": 33,
   "metadata": {
    "collapsed": false
   },
   "outputs": [
    {
     "data": {
      "text/plain": [
       "[['36.0385906', '-114.791374'], ['36.4302555', '-114.3635864']]"
      ]
     },
     "execution_count": 33,
     "metadata": {},
     "output_type": "execute_result"
    }
   ],
   "source": [
    "get_coord_of_values('beach')"
   ]
  },
  {
   "cell_type": "markdown",
   "metadata": {},
   "source": [
    "I'm really wondering what are the **bay**s around Las Vegas, so I go get their coordinates to take a look."
   ]
  },
  {
   "cell_type": "code",
   "execution_count": 34,
   "metadata": {
    "collapsed": false
   },
   "outputs": [
    {
     "data": {
      "text/plain": [
       "[['36.1105386', '-114.4069172'],\n",
       " ['36.0052641', '-114.2452436'],\n",
       " ['36.1091485', '-114.5171988'],\n",
       " ['36.1274801', '-114.6202586'],\n",
       " ['36.4469221', '-114.3344185'],\n",
       " ['36.2991464', '-114.4124759'],\n",
       " ['36.1647032', '-114.499977'],\n",
       " ['35.8244294', '-114.7013665'],\n",
       " ['36.0919224', '-114.8174876'],\n",
       " ['36.1235891', '-114.7824871'],\n",
       " ['36.2760918', '-114.373863']]"
      ]
     },
     "execution_count": 34,
     "metadata": {},
     "output_type": "execute_result"
    }
   ],
   "source": [
    "get_coord_of_values('bay')"
   ]
  },
  {
   "cell_type": "markdown",
   "metadata": {},
   "source": [
    "Okay, these are all bays in the lake that came to be through the **Colorada River** being tapped for electricity by the **Hoover Dam**. Some are actually already in Arizona, since the State border runs at the original way of the Colorada River.\n",
    "\n",
    "---"
   ]
  },
  {
   "cell_type": "markdown",
   "metadata": {},
   "source": [
    "Okay. Figured that I'll find the roads and streets all under the attribute 'highway'. So I'll take another look at it.\n",
    "\n",
    "(Currently sitting next to a tiny stream next to the huge Hard Rock Hotel Complex...), sunshine on my back :)"
   ]
  },
  {
   "cell_type": "code",
   "execution_count": 35,
   "metadata": {
    "collapsed": false
   },
   "outputs": [
    {
     "data": {
      "text/plain": [
       "highway    6793\n",
       "Name: tag attributes for \"way\" matching \"highway\", dtype: int64"
      ]
     },
     "execution_count": 35,
     "metadata": {},
     "output_type": "execute_result"
    }
   ],
   "source": [
    "number_of_specific_attribs('way', re.compile('highway'))"
   ]
  },
  {
   "cell_type": "code",
   "execution_count": 36,
   "metadata": {
    "collapsed": true
   },
   "outputs": [],
   "source": [
    "all_paths = get_attrib_values('way', 'highway')"
   ]
  },
  {
   "cell_type": "code",
   "execution_count": 37,
   "metadata": {
    "collapsed": true
   },
   "outputs": [],
   "source": [
    "all_paths.sort(ascending=False)"
   ]
  },
  {
   "cell_type": "code",
   "execution_count": 38,
   "metadata": {
    "collapsed": false
   },
   "outputs": [
    {
     "data": {
      "text/plain": [
       "residential       3975\n",
       "service           1014\n",
       "footway            894\n",
       "path               165\n",
       "tertiary           157\n",
       "track              151\n",
       "secondary          144\n",
       "motorway_link       96\n",
       "motorway            56\n",
       "unclassified        33\n",
       "cycleway            26\n",
       "secondary_link      15\n",
       "construction        14\n",
       "trunk               11\n",
       "pedestrian           8\n",
       "steps                7\n",
       "proposed             7\n",
       "bridleway            5\n",
       "tertiary_link        5\n",
       "road                 3\n",
       "raceway              3\n",
       "trunk_link           2\n",
       "primary              1\n",
       "primary_link         1\n",
       "Name: amounts of values for \"highway\", dtype: int64"
      ]
     },
     "execution_count": 38,
     "metadata": {},
     "output_type": "execute_result"
    }
   ],
   "source": [
    "all_paths"
   ]
  },
  {
   "cell_type": "code",
   "execution_count": 39,
   "metadata": {
    "collapsed": false
   },
   "outputs": [
    {
     "data": {
      "text/plain": [
       "highway    1499\n",
       "Name: tag attributes for \"node\" matching \"highway\", dtype: int64"
      ]
     },
     "execution_count": 39,
     "metadata": {},
     "output_type": "execute_result"
    }
   ],
   "source": [
    "number_of_specific_attribs('node', re.compile('highway'))"
   ]
  },
  {
   "cell_type": "code",
   "execution_count": 40,
   "metadata": {
    "collapsed": true
   },
   "outputs": [],
   "source": [
    "all_node_paths = get_attrib_values('node', 'highway')"
   ]
  },
  {
   "cell_type": "code",
   "execution_count": 41,
   "metadata": {
    "collapsed": false
   },
   "outputs": [
    {
     "data": {
      "text/plain": [
       "crossing             705\n",
       "turning_circle       692\n",
       "traffic_signals       59\n",
       "motorway_junction     22\n",
       "street_lamp            8\n",
       "stop                   5\n",
       "bus_stop               5\n",
       "passing_place          1\n",
       "overhead_sign          1\n",
       "intersection           1\n",
       "Name: amounts of values for \"highway\", dtype: int64"
      ]
     },
     "execution_count": 41,
     "metadata": {},
     "output_type": "execute_result"
    }
   ],
   "source": [
    "all_node_paths.sort(ascending=False)\n",
    "all_node_paths"
   ]
  },
  {
   "cell_type": "markdown",
   "metadata": {},
   "source": [
    "I'm kinda confused as to where to find the street names (if there are others than the TIGER coded ones)."
   ]
  },
  {
   "cell_type": "code",
   "execution_count": 42,
   "metadata": {
    "collapsed": false
   },
   "outputs": [
    {
     "data": {
      "text/plain": [
       "Series([], name: amounts of values for \"attrib:street_name\", dtype: float64)"
      ]
     },
     "execution_count": 42,
     "metadata": {},
     "output_type": "execute_result"
    }
   ],
   "source": [
    "get_attrib_values('node', 'attrib:street_name')"
   ]
  },
  {
   "cell_type": "code",
   "execution_count": 43,
   "metadata": {
    "collapsed": false
   },
   "outputs": [
    {
     "data": {
      "text/plain": [
       "addr:street    33\n",
       "Name: tag attributes for \"way\" matching \"[a-z0-9_:]*street[a-z0-9_:]*\", dtype: int64"
      ]
     },
     "execution_count": 43,
     "metadata": {},
     "output_type": "execute_result"
    }
   ],
   "source": [
    "street = re.compile(r'[a-z0-9_:]*street[a-z0-9_:]*')\n",
    "number_of_specific_attribs('way', street)"
   ]
  },
  {
   "cell_type": "code",
   "execution_count": 44,
   "metadata": {
    "collapsed": false
   },
   "outputs": [
    {
     "data": {
      "text/plain": [
       "Birtcher Drive                1\n",
       "Boulder Highway               1\n",
       "Conestoga Way                 1\n",
       "East Horizon Drive            1\n",
       "East Horizon Ridge Parkway    1\n",
       "El Camino Rd                  1\n",
       "Fremont Street                2\n",
       "Humboldt North Drive          1\n",
       "Las Vegas Blvd. South         1\n",
       "Las Vegas Boulevard South     2\n",
       "Losee Rd                      1\n",
       "Main Street                   1\n",
       "Nevada Highway                1\n",
       "South 4th Street              1\n",
       "South 7th Street              1\n",
       "South Boulder Highway         4\n",
       "South Durango Drive           1\n",
       "South Las Vegas Boulevard     1\n",
       "South Rainbow Boulevard       1\n",
       "Syracuse Drive                1\n",
       "West Charleston Boulevard     1\n",
       "West Flamingo Road            1\n",
       "West Hacienda Avenue          1\n",
       "West Horizon Ridge Parkway    1\n",
       "West Lake Mead Blvd.          1\n",
       "West Smoke Ranch Road         1\n",
       "Wild Chive Avenue             2\n",
       "Name: amounts of values for \"addr:street\", dtype: int64"
      ]
     },
     "execution_count": 44,
     "metadata": {},
     "output_type": "execute_result"
    }
   ],
   "source": [
    "get_attrib_values('way', 'addr:street')"
   ]
  },
  {
   "cell_type": "code",
   "execution_count": 45,
   "metadata": {
    "collapsed": false
   },
   "outputs": [
    {
     "data": {
      "text/plain": [
       "addr:street    33\n",
       "Name: tag attributes for \"node\" matching \"[a-z0-9_:]*street[a-z0-9_:]*\", dtype: int64"
      ]
     },
     "execution_count": 45,
     "metadata": {},
     "output_type": "execute_result"
    }
   ],
   "source": [
    "number_of_specific_attribs('node', street)"
   ]
  },
  {
   "cell_type": "code",
   "execution_count": 46,
   "metadata": {
    "collapsed": false
   },
   "outputs": [
    {
     "data": {
      "text/plain": [
       "A Sahara Avenue               1\n",
       "Arville Street                1\n",
       "Boulder Highway               2\n",
       "Citadel Circle                1\n",
       "Dean Martin Drive             1\n",
       "East Desert Inn Road          1\n",
       "East Flamingo Road            2\n",
       "East Sahara Avenue            1\n",
       "East Tropicana Avenue         1\n",
       "Executive Airport Drive       1\n",
       "Fremont Street                1\n",
       "Industrial Road               1\n",
       "Nevada Way                    1\n",
       "North Green Valley Parkway    1\n",
       "Paradise Road                 1\n",
       "Polaris Avenue                1\n",
       "S Las Vegas Blvd Suite 390    1\n",
       "S Paradise Road               1\n",
       "S. Eastern Ave                1\n",
       "South Decatur Boulevard       1\n",
       "South Durango Drive           1\n",
       "South Jones Boulevard         1\n",
       "South Las Vegas Boulevard     1\n",
       "South Nellis Boulevard        1\n",
       "Spiced Wine Avenue            1\n",
       "Via Bel Canto                 1\n",
       "West Charleston Boulevard     1\n",
       "West Cheyenne Avenue          1\n",
       "West Sahara Avenue            1\n",
       "West Tropicana Avenue         1\n",
       "Wetlands Park Lane            1\n",
       "Name: amounts of values for \"addr:street\", dtype: int64"
      ]
     },
     "execution_count": 46,
     "metadata": {},
     "output_type": "execute_result"
    }
   ],
   "source": [
    "get_attrib_values('node', 'addr:street')"
   ]
  },
  {
   "cell_type": "markdown",
   "metadata": {},
   "source": [
    "Whoa! So strange! There are both times 33 nodes and 33 ways that have the `addr:street`. At first I assumed that there is a mistake in my code, but the results show different street names!\n",
    "\n",
    "Weird. So what should I do with this?"
   ]
  },
  {
   "cell_type": "markdown",
   "metadata": {},
   "source": [
    "Well, one thing that is obvious (and that I came to check), is that most street names seem to be **only** coded within the TIGER data format.\n",
    "\n",
    "Thinking to do something good for the dataset, I'm considering to scoop up all this data and insert it unified into the XML under the suggested attribute `addr:street`.\n",
    "I guess I could do this both for the nodes and for the ways. The TIGER data I would leave untouched otherwise, because maybe there's actually a use in having it (the page mentions something about GPS tracking something)."
   ]
  },
  {
   "cell_type": "raw",
   "metadata": {},
   "source": [
    "\t<node changeset=\"7454914\" id=\"993706163\" lat=\"36.122044\" lon=\"-115.1545162\" timestamp=\"2011-03-04T14:43:40Z\" uid=\"236412\" user=\"dcs\" version=\"3\">\n",
    "\t\t<tag k=\"name\" v=\"McDonald's\" />\n",
    "\t\t<tag k=\"phone\" v=\"702-731-5756\" />\n",
    "\t\t<tag k=\"amenity\" v=\"fast_food\" />\n",
    "\t\t<tag k=\"cuisine\" v=\"burger\" />\n",
    "\t\t<tag k=\"website\" v=\"http://www.mcdonalds.com\" />\n",
    "\t\t<tag k=\"addr:city\" v=\"Las Vegas\" />\n",
    "\t\t<tag k=\"addr:state\" v=\"NV\" />\n",
    "\t\t<tag k=\"addr:street\" v=\"S Paradise Road\" />\n",
    "\t\t<tag k=\"addr:postcode\" v=\"89109\" />\n",
    "\t\t<tag k=\"drive_through\" v=\"yes\" />\n",
    "\t\t<tag k=\"addr:housenumber\" v=\"3700\" />\n",
    "\t</node>"
   ]
  },
  {
   "cell_type": "markdown",
   "metadata": {},
   "source": [
    "Yep. This could do. I could enter all the street name information gathered from the TIGER data back into the nodes and ways, by simply adding a tag with the corresponding k and v values.\n",
    "\n",
    "Now just the question how to do it :)"
   ]
  },
  {
   "cell_type": "markdown",
   "metadata": {},
   "source": [
    "## Cleaning\n",
    "After having defined my aims in this, I will now go forth and improve the dataset, by adding the tags with the `addr:street` attribute. For this I will need to load the ElementTree."
   ]
  },
  {
   "cell_type": "code",
   "execution_count": 47,
   "metadata": {
    "collapsed": false
   },
   "outputs": [
    {
     "data": {
      "text/plain": [
       "Index([u'tiger:cfcc', u'tiger:county', u'tiger:mtfcc', u'tiger:name_base', u'tiger:name_direction_prefix', u'tiger:name_direction_suffix', u'tiger:name_full', u'tiger:name_type', u'tiger:reviewed', u'tiger:separated', u'tiger:source', u'tiger:tlid', u'tiger:upload_uuid', u'tiger:zip_left', u'tiger:zip_right'], dtype='object')"
      ]
     },
     "execution_count": 47,
     "metadata": {},
     "output_type": "execute_result"
    }
   ],
   "source": [
    "all_tiger.keys()"
   ]
  },
  {
   "cell_type": "code",
   "execution_count": 48,
   "metadata": {
    "collapsed": false
   },
   "outputs": [
    {
     "data": {
      "text/plain": [
       "['tiger:name_base',\n",
       " 'tiger:name_direction_prefix',\n",
       " 'tiger:name_direction_suffix',\n",
       " 'tiger:name_full',\n",
       " 'tiger:name_type']"
      ]
     },
     "execution_count": 48,
     "metadata": {},
     "output_type": "execute_result"
    }
   ],
   "source": [
    "all_street_tiger = list(all_tiger.keys()[3:8])\n",
    "all_street_tiger"
   ]
  },
  {
   "cell_type": "code",
   "execution_count": 49,
   "metadata": {
    "collapsed": false
   },
   "outputs": [],
   "source": [
    "# locate the values for all existing TIGER tags\n",
    "def write_addr_street_tags(outfile):\n",
    "    '''Writes the street name values of TIGER attributes as OSM \"addr:street\" values into a new tag.\n",
    "    \n",
    "    Collects all the \"v\" values for the TIGER street attributes in a dict\n",
    "    Calls \"create_OSM_street_name_tag()\" which calls \"make_street_name()\".\n",
    "    The latter concatenates the tiger information into a string\n",
    "    And the former creates a \"tag\" SubElement into the \"way\" or \"node\" tag.\n",
    "    Finally, the function writes the XML into a new file.\n",
    "    '''\n",
    "    for event, elem in ET.iterparse(las_vegas_osm, events=('start',)):\n",
    "        if elem.tag == 'way' or elem.tag == 'node':\n",
    "            street_name_dict = {}\n",
    "            for tag in elem.iter('tag'):\n",
    "                if tag.attrib['k'] in all_street_tiger:\n",
    "                    street_name_dict[tag.attrib['k']] = tag.attrib['v']\n",
    "            if street_name_dict != {}:\n",
    "                create_OSM_street_name_tag(elem, make_street_name(street_name_dict))\n",
    "        outfile.write(ET.tostring(elem) + '\\n')"
   ]
  },
  {
   "cell_type": "code",
   "execution_count": 50,
   "metadata": {
    "collapsed": true
   },
   "outputs": [],
   "source": [
    "# put them into the right order and concatenate as a string\n",
    "def make_street_name(name_dict):\n",
    "    '''Concatenates the TIGER street name information into a string.\n",
    "    \n",
    "    Takes as input a dictionary containing TIGER street attributes and corresponding values\n",
    "    Concatenates all values into a properly ordered string that it returns.\n",
    "    '''\n",
    "    street_name = \"\"\n",
    "    if 'tiger:name_full' in name_dict.keys():\n",
    "        street_name += name_dict['tiger:name_full']\n",
    "    else:\n",
    "        if 'tiger:name_direction_prefix' in name_dict.keys():\n",
    "            street_name += name_dict['tiger:name_direction_prefix'] +' '\n",
    "        if 'tiger:name_base' in name_dict.keys():\n",
    "            street_name += name_dict['tiger:name_base'] +' '\n",
    "        if 'tiger:name_type' in name_dict.keys():\n",
    "            street_name += name_dict['tiger:name_type'] +' '\n",
    "        if 'tiger:name_direction_suffix' in name_dict.keys():\n",
    "            street_name += ' ' + name_dict['tiger:name_direction_suffix']\n",
    "    return street_name.rstrip()"
   ]
  },
  {
   "cell_type": "code",
   "execution_count": 51,
   "metadata": {
    "collapsed": true
   },
   "outputs": [],
   "source": [
    "# create this structure: <tag k=\"addr:street\" v=\"concatenated_TIGER_street_name\" />\n",
    "def create_OSM_street_name_tag(parent, street_name):\n",
    "    '''Creates a string representing a valid OSM tag containing street name information'''\n",
    "    tag = ET.SubElement(parent, 'tag', k=\"addr:street\", v=street_name)"
   ]
  },
  {
   "cell_type": "code",
   "execution_count": 52,
   "metadata": {
    "collapsed": false
   },
   "outputs": [],
   "source": [
    "outfile = open('testfile.osm', 'w')\n",
    "write_addr_street_tags(outfile)"
   ]
  },
  {
   "cell_type": "markdown",
   "metadata": {},
   "source": [
    "Some problems happen in this! E.g.: `<tag k=\"addr:street\" v=\"S; N Lamb Blvd\" />`.\n",
    "\n",
    "Seems that some TIGER data has more than one value for some of the attributes listed, resulting in stuff like `S; N`.\n",
    "Maybe I'm not gonna deal with this... :)\n",
    "\n",
    "But I guess it should be noted!\n",
    "\n",
    "I could make a check in the end that adds a flag `todo` or `fixme` offer themselves, with a little explanation of the issue."
   ]
  },
  {
   "cell_type": "markdown",
   "metadata": {},
   "source": [
    "## I want some pizza\n",
    "I've been wanting to eat a real American Pizza for a while. You know, one with a fat crust and a fat layer of toppings, and well, generally just kind of fat, I guess :)\n",
    "\n",
    "So now that I am here, I thought I'll be sure to find one around. There's one place across the street, but it's a bit too expensive on weekends, so I'll rather look into the data for another place."
   ]
  },
  {
   "cell_type": "code",
   "execution_count": 53,
   "metadata": {
    "collapsed": true
   },
   "outputs": [],
   "source": [
    "def find_something(regex):\n",
    "    '''Prints all XML elements matching the specified regex somewhere in their tags. Returns None.'''\n",
    "    import re\n",
    "    for event, elem in ET.iterparse(las_vegas_osm, events=('start',)):\n",
    "        if elem.tag == 'way' or elem.tag == 'node':\n",
    "            for tag in elem.iter('tag'):\n",
    "                if re.search(regex, ET.tostring(tag)):\n",
    "                    ET.dump(elem)"
   ]
  },
  {
   "cell_type": "code",
   "execution_count": 54,
   "metadata": {
    "collapsed": false
   },
   "outputs": [
    {
     "name": "stdout",
     "output_type": "stream",
     "text": [
      "<node changeset=\"14990151\" id=\"2148184438\" lat=\"36.1689735\" lon=\"-115.1404268\" timestamp=\"2013-02-11T06:10:26Z\" uid=\"236172\" user=\"saikofish\" version=\"3\">\n",
      "\t\t<tag k=\"name\" v=\"Uncle Joe's\" />\n",
      "\t\t<tag k=\"amenity\" v=\"restaurant\" />\n",
      "\t\t<tag k=\"cuisine\" v=\"pizza\" />\n",
      "\t\t<tag k=\"addr:street\" v=\"Fremont Street\" />\n",
      "\t\t<tag k=\"addr:housenumber\" v=\"505\" />\n",
      "\t</node>\n",
      "\t\n",
      "<node changeset=\"28434674\" id=\"2782284309\" lat=\"36.1004332\" lon=\"-115.3047247\" timestamp=\"2015-01-27T04:35:12Z\" uid=\"1836471\" user=\"Blobo123\" version=\"2\">\n",
      "\t\t<tag k=\"name\" v=\"Sunset Pizzeria\" />\n",
      "\t\t<tag k=\"phone\" v=\"702-778-4444\" />\n",
      "\t\t<tag k=\"amenity\" v=\"restaurant\" />\n",
      "\t\t<tag k=\"cuisine\" v=\"pizza\" />\n",
      "\t\t<tag k=\"website\" v=\"http://www.sunsetpizzeriatropicana.com\" />\n",
      "\t\t<tag k=\"capacity\" v=\"50\" />\n",
      "\t\t<tag k=\"addr:city\" v=\"Las Vegas\" />\n",
      "\t\t<tag k=\"addr:street\" v=\"West Tropicana Avenue\" />\n",
      "\t\t<tag k=\"addr:postcode\" v=\"89147\" />\n",
      "\t\t<tag k=\"opening_hours\" v=\"11-9\" />\n",
      "\t\t<tag k=\"payment:bitcoin\" v=\"yes\" />\n",
      "\t\t<tag k=\"addr:housenumber\" v=\"9730\" />\n",
      "\t</node>\n",
      "\t\n",
      "<node changeset=\"21876115\" id=\"2810237817\" lat=\"36.1300481\" lon=\"-115.1413294\" timestamp=\"2014-04-23T00:46:40Z\" uid=\"2043636\" user=\"Las Vegas Guy\" version=\"1\">\n",
      "\t\t<tag k=\"name\" v=\"Papa John's\" />\n",
      "\t\t<tag k=\"amenity\" v=\"restaurant\" />\n",
      "\t\t<tag k=\"cuisine\" v=\"pizza\" />\n",
      "\t</node>\n",
      "\t\n",
      "<node changeset=\"27987952\" id=\"3275521926\" lat=\"36.0832279\" lon=\"-115.0322377\" timestamp=\"2015-01-08T00:03:21Z\" uid=\"2559158\" user=\"picou mana\" version=\"1\">\n",
      "\t\t<tag k=\"name\" v=\"Pizza Hut\" />\n",
      "\t\t<tag k=\"phone\" v=\"+1 702-433-3371\" />\n",
      "\t\t<tag k=\"amenity\" v=\"restaurant\" />\n",
      "\t\t<tag k=\"cuisine\" v=\"pizza\" />\n",
      "\t\t<tag k=\"addr:city\" v=\"Las Vegas\" />\n",
      "\t\t<tag k=\"addr:state\" v=\"NV\" />\n",
      "\t\t<tag k=\"addr:street\" v=\"Boulder Highway\" />\n",
      "\t\t<tag k=\"addr:postcode\" v=\"89122\" />\n",
      "\t\t<tag k=\"opening_hours\" v=\"10:30 &#8211; 23:00\" />\n",
      "\t\t<tag k=\"addr:housenumber\" v=\"6510\" />\n",
      "\t</node>\n",
      "\t\n",
      "<way changeset=\"35025698\" id=\"321034358\" timestamp=\"2015-11-02T04:57:16Z\" uid=\"633750\" user=\"samuelestabrook\" version=\"4\">\n",
      "\t\t<nd ref=\"3277486717\" />\n",
      "\t\t<nd ref=\"3277486718\" />\n",
      "\t\t<nd ref=\"3277486719\" />\n",
      "\t\t<nd ref=\"3277486720\" />\n",
      "\t\t<nd ref=\"3277486717\" />\n",
      "\t\t<tag k=\"name\" v=\"Buffet@Asia\" />\n",
      "\t\t<tag k=\"note\" v=\"Tr&#232;s vari&#233;s,bon prix\" />\n",
      "\t\t<tag k=\"phone\" v=\"+1 702-307-8800\" />\n",
      "\t\t<tag k=\"amenity\" v=\"restaurant\" />\n",
      "\t\t<tag k=\"cuisine\" v=\"chinese,asia,pizza,crab_All_you_can_eat\" />\n",
      "\t\t<tag k=\"building\" v=\"yes\" />\n",
      "\t\t<tag k=\"addr:city\" v=\"Las Vegas\" />\n",
      "\t\t<tag k=\"addr:state\" v=\"NV\" />\n",
      "\t\t<tag k=\"addr:street\" v=\"South Rainbow Boulevard\" />\n",
      "\t\t<tag k=\"addr:postcode\" v=\"89146\" />\n",
      "\t\t<tag k=\"opening_hours\" v=\"11:00-21:30\" />\n",
      "\t\t<tag k=\"addr:housenumber\" v=\"2380\" />\n",
      "\t</way>\n",
      "\t\n"
     ]
    }
   ],
   "source": [
    "find_something(re.compile(r'pizza'))"
   ]
  },
  {
   "cell_type": "markdown",
   "metadata": {},
   "source": [
    "Ah! Even though this worked out nicely, the places it returned were not especially exciting...\n",
    "\n",
    "There's one _Papa John's_ and one _Pizza Hut_, both of these have actually franchises all over the city.\n",
    "\n",
    "There's a _Sunset Pizzeria_ that has even a website information attached that directs to the right place, however the name has changed to _Pizzeria Rustica_ and the prices are out of my range.\n",
    "\n",
    "Then there's one interesting find, _Uncle John's_, a somewhat locally famous pizzeria downtown. However, I found out that also this information is not actual anymore and the place has recently closed down: http://vitalvegas.com/uncle-joes-pizza-downtown-las-vegas-institution-closes/\n",
    "\n",
    "And finally there's the _Buffet@Asia_, that seems to be actually called _Buffet Asia_ (while the former name refers to a different restaurant located elsewhere in the city). Hm... yes, they also have \"pizza\" listed, but among the _Appetizers_ http://bit.ly/1nrxBTw And how it's hanging there between _Mayonnaise Squid_ and _Fried Calamari_ somehow makes me think that this is not the place I'm looking for.\n",
    "\n",
    "---\n",
    "\n",
    "So my search was not very successful in terms of filling my belly, but at least there are a few informations I can correct."
   ]
  },
  {
   "cell_type": "code",
   "execution_count": 55,
   "metadata": {
    "collapsed": true
   },
   "outputs": [],
   "source": [
    "def change_one_thing(before, after):\n",
    "    '''Replaces one text piece with another.\n",
    "    \n",
    "    Takes as input two regex, one for the piece to locate, the second for the replacement.\n",
    "    Searches for the given regex. If there are more than one occurence, it returns an Error.\n",
    "    If there is only one, it replaces the text with the given string.'''\n",
    "    import re\n",
    "    for event, elem in ET.iterparse(las_vegas_osm, events=('start',)):\n",
    "        count = 0\n",
    "        if elem.tag == 'way' or elem.tag == 'node':\n",
    "            for tag in elem.iter('tag'):\n",
    "                if re.search(before, ET.tostring(tag)):\n",
    "                    count += 1\n",
    "                    ET.dump(elem)"
   ]
  },
  {
   "cell_type": "code",
   "execution_count": 57,
   "metadata": {
    "collapsed": true
   },
   "outputs": [],
   "source": [
    "def change_XML_and_log_changes(before, after):\n",
    "    '''Replaces all occurances of one text piece with another and records the changes.\n",
    "    \n",
    "    Takes as input two regex, one for the piece to locate, the second for the replacement.\n",
    "    Searches for the given regex (before) and replaces the existing text with the given regex pattern (after).\n",
    "    Creates a new .osm file containing all the changed elements and\n",
    "    prints a count of the number of changes that took place, to keep an overview.\n",
    "    '''\n",
    "    import re\n",
    "    import time\n",
    "    \n",
    "    ##### TRACKING CHANGES SECTION START #####\n",
    "    filename = 'changes%s.osm' %(str(time.time()))\n",
    "    outfile = open(filename, 'w')\n",
    "    # creating an XML root to record the Elements that were changed\n",
    "    replace_root = ET.Element('root')\n",
    "    # counter to keep track of amount of changes\n",
    "    count = 0\n",
    "    ##### TRACKING CHANGES SECTION END #####\n",
    "    \n",
    "    for event, elem in ET.iterparse(las_vegas_osm, events=('start',)):\n",
    "        if elem.tag == 'way' or elem.tag == 'node':\n",
    "            for tag in elem.iter('tag'):\n",
    "                if re.search(before, ET.tostring(tag)):\n",
    "                    \n",
    "                    ##### TRACKING CHANGES SECTION START #####\n",
    "                    count += 1\n",
    "                    ET.SubElement(replace_root, elem)\n",
    "                    # this probably doesn't work because what gets changed is the object returned\n",
    "                    # by tostring() and I'd have to re-insert this?\n",
    "                    line = tag.text\n",
    "                    re.sub(before, after, line)\n",
    "                    # would have to slice string and create ET element and then re-insert.\n",
    "                    # there should be an easier way...\n",
    "                    outfile.write(ET.tostring(elem) + '\\n')\n",
    "                    ##### TRACKING CHANGES SECTION START #####\n",
    "                    \n",
    "                    # replace the occurrence\n",
    "                    #tag.text = after.pattern\n",
    "    print \"There were %s changes in the Element Tree\" %(count)"
   ]
  },
  {
   "cell_type": "code",
   "execution_count": 80,
   "metadata": {
    "collapsed": true
   },
   "outputs": [],
   "source": [
    "def change_XML_attrib_value(before, after, attrib_key):\n",
    "    '''Replaces all occurrences of an attribute value with a new string.\n",
    "    \n",
    "    Takes as input two strings, one for the attribute value to locate, the second for the replacement,\n",
    "    and the key of the attribute to be changed.\n",
    "    Searches for string \"before\" and replaces the existing value with string \"after\".\n",
    "    '''\n",
    "    import re\n",
    "    \n",
    "    for event, elem in ET.iterparse(las_vegas_osm, events=('start',)):\n",
    "        if elem.tag == 'way' or elem.tag == 'node':\n",
    "            for tag in elem.iter('tag'):\n",
    "                if re.search(before, ET.tostring(tag)):\n",
    "                    print tag.attrib[attrib_key]\n",
    "                    tag.set(attrib_key, after)\n",
    "                    print tag.attrib[attrib_key]"
   ]
  },
  {
   "cell_type": "code",
   "execution_count": 81,
   "metadata": {
    "collapsed": false
   },
   "outputs": [
    {
     "name": "stdout",
     "output_type": "stream",
     "text": [
      "Buffet@Asia\n",
      "Buffet Asia\n"
     ]
    }
   ],
   "source": [
    "change_XML_attrib_value(r'Buffet@Asia', r'Buffet Asia', 'v')"
   ]
  },
  {
   "cell_type": "code",
   "execution_count": 82,
   "metadata": {
    "collapsed": false
   },
   "outputs": [
    {
     "name": "stdout",
     "output_type": "stream",
     "text": [
      "<node changeset=\"35297746\" id=\"2735776351\" lat=\"36.1625227\" lon=\"-115.0625771\" timestamp=\"2015-11-14T00:36:39Z\" uid=\"496923\" user=\"abellaofernandez\" version=\"2\">\n",
      "\t\t<tag k=\"name\" v=\"Buffet @ Asia\" />\n",
      "\t\t<tag k=\"amenity\" v=\"restaurant\" />\n",
      "\t\t<tag k=\"cuisine\" v=\"asian\" />\n",
      "\t</node>\n",
      "\t\n",
      "<way changeset=\"35025698\" id=\"321034358\" timestamp=\"2015-11-02T04:57:16Z\" uid=\"633750\" user=\"samuelestabrook\" version=\"4\">\n",
      "\t\t<nd ref=\"3277486717\" />\n",
      "\t\t<nd ref=\"3277486718\" />\n",
      "\t\t<nd ref=\"3277486719\" />\n",
      "\t\t<nd ref=\"3277486720\" />\n",
      "\t\t<nd ref=\"3277486717\" />\n",
      "\t\t<tag k=\"name\" v=\"Buffet@Asia\" />\n",
      "\t\t<tag k=\"note\" v=\"Tr&#232;s vari&#233;s,bon prix\" />\n",
      "\t\t<tag k=\"phone\" v=\"+1 702-307-8800\" />\n",
      "\t\t<tag k=\"amenity\" v=\"restaurant\" />\n",
      "\t\t<tag k=\"cuisine\" v=\"chinese,asia,pizza,crab_All_you_can_eat\" />\n",
      "\t\t<tag k=\"building\" v=\"yes\" />\n",
      "\t\t<tag k=\"addr:city\" v=\"Las Vegas\" />\n",
      "\t\t<tag k=\"addr:state\" v=\"NV\" />\n",
      "\t\t<tag k=\"addr:street\" v=\"South Rainbow Boulevard\" />\n",
      "\t\t<tag k=\"addr:postcode\" v=\"89146\" />\n",
      "\t\t<tag k=\"opening_hours\" v=\"11:00-21:30\" />\n",
      "\t\t<tag k=\"addr:housenumber\" v=\"2380\" />\n",
      "\t</way>\n",
      "\t\n"
     ]
    }
   ],
   "source": [
    "find_something(r'Asia')"
   ]
  },
  {
   "cell_type": "code",
   "execution_count": null,
   "metadata": {
    "collapsed": true
   },
   "outputs": [],
   "source": []
  }
 ],
 "metadata": {
  "kernelspec": {
   "display_name": "Python 2",
   "language": "python",
   "name": "python2"
  },
  "language_info": {
   "codemirror_mode": {
    "name": "ipython",
    "version": 2
   },
   "file_extension": ".py",
   "mimetype": "text/x-python",
   "name": "python",
   "nbconvert_exporter": "python",
   "pygments_lexer": "ipython2",
   "version": "2.7.10"
  }
 },
 "nbformat": 4,
 "nbformat_minor": 0
}
