{
 "cells": [
  {
   "cell_type": "markdown",
   "metadata": {},
   "source": [
    "# Cleaning the streets of Las Vegas\n",
    "A digital walk to get to know my surroundings through the computer, using Data Wrangling."
   ]
  },
  {
   "cell_type": "markdown",
   "metadata": {},
   "source": [
    "## Getting the data\n",
    "I chose to investigate the **MapZen metro extract** of **Las Vegas, Nevada** found here: https://mapzen.com/data/metro-extracts\n",
    "(probably approximately containing this: https://www.openstreetmap.org/export#map=12/36.1750/-115.1372)\n",
    "\n",
    "My flight to the USA had its destination here. I felt like taking a (for me) new approach to discovering a place that I am staying in. So I've decided to use the dataset of LV, to programmatically investigate and clean the OSM data available.\n",
    "\n",
    "Getting to know which streets are around the place that I am staying. Learning about the size, the sights, and what people find important enough to map in this city.\n",
    "\n",
    "I'll be spending my days here, however mostly inside, take digital walks and discovery tours by diving into the OSM data, and on my way maybe also do something good for this city, by cleaning its streets in such a way, where I can maybe actually contribute a little. :)"
   ]
  },
  {
   "cell_type": "markdown",
   "metadata": {},
   "source": [
    "## Inspecting\n",
    "First I'll take a look at the data I will be working with."
   ]
  },
  {
   "cell_type": "code",
   "execution_count": 29,
   "metadata": {
    "collapsed": false
   },
   "outputs": [
    {
     "name": "stdout",
     "output_type": "stream",
     "text": [
      "File Size in Bytes: 18702424\n",
      "File Size in MB:    17\n"
     ]
    }
   ],
   "source": [
    "import os\n",
    "#las_vegas_osm = 'las-vegas_nevada.osm'\n",
    "# for testing and developing purposes, here's the truncated version:\n",
    "las_vegas_osm = 'LV_truncated.osm'\n",
    "file_size = os.path.getsize(las_vegas_osm)\n",
    "print 'File Size in Bytes:', file_size\n",
    "print 'File Size in MB:   ', file_size / (2**20)"
   ]
  },
  {
   "cell_type": "code",
   "execution_count": 25,
   "metadata": {
    "collapsed": false
   },
   "outputs": [],
   "source": [
    "import xml.etree.cElementTree as ET\n",
    "import pprint\n",
    "\n",
    "def count_tags(filename):\n",
    "    '''Creates a dictionary with the tags present in the dataset, alongside a count for each'''\n",
    "    tag_dict = {}\n",
    "    for event, elem in ET.iterparse(filename):\n",
    "        if elem.tag not in tag_dict:\n",
    "            tag_dict[elem.tag] = 1\n",
    "        elif elem.tag in tag_dict:\n",
    "            tag_dict[elem.tag] += 1\n",
    "    return tag_dict\n",
    "\n",
    "\n",
    "#las_vegas_osm_dict = count_tags('las-vegas_nevada.osm')\n",
    "las_vegas_osm_dict = count_tags(las_vegas_osm)"
   ]
  },
  {
   "cell_type": "markdown",
   "metadata": {},
   "source": [
    "Which tags are present in the dataset, and how many of them?"
   ]
  },
  {
   "cell_type": "code",
   "execution_count": 26,
   "metadata": {
    "collapsed": false
   },
   "outputs": [
    {
     "data": {
      "text/plain": [
       "member         281\n",
       "nd          100995\n",
       "node         82011\n",
       "osm              1\n",
       "relation        31\n",
       "tag          54515\n",
       "way           9187\n",
       "Name: tags and their amounts, dtype: int64"
      ]
     },
     "execution_count": 26,
     "metadata": {},
     "output_type": "execute_result"
    }
   ],
   "source": [
    "import pandas as pd\n",
    "\n",
    "las_vegas_osm = pd.Series(las_vegas_osm_dict, name='tags and their amounts')\n",
    "las_vegas_osm"
   ]
  },
  {
   "cell_type": "code",
   "execution_count": 30,
   "metadata": {
    "collapsed": false,
    "scrolled": true
   },
   "outputs": [],
   "source": [
    "way_keys = {}\n",
    "for event, elem in ET.iterparse(las_vegas_osm, events=('start',)):\n",
    "    if elem.tag == 'way':\n",
    "        for tag in elem.iter('tag'):\n",
    "            if tag.attrib['k'] not in way_keys:\n",
    "                way_keys[tag.attrib['k']] = 1\n",
    "            else:\n",
    "                way_keys[tag.attrib['k']] += 1"
   ]
  },
  {
   "cell_type": "code",
   "execution_count": 50,
   "metadata": {
    "collapsed": false
   },
   "outputs": [],
   "source": [
    "# making a general function for this\n",
    "def counting_attributes(way_or_node):\n",
    "    way_or_node_keys = {}\n",
    "    for event, elem in ET.iterparse(las_vegas_osm, events=('start',)):\n",
    "        if elem.tag == way_or_node:\n",
    "            for tag in elem.iter('tag'):\n",
    "                if tag.attrib['k'] not in way_or_node_keys:\n",
    "                    way_or_node_keys[tag.attrib['k']] = 1\n",
    "                else:\n",
    "                    way_or_node_keys[tag.attrib['k']] += 1\n",
    "    return way_or_node_keys"
   ]
  },
  {
   "cell_type": "code",
   "execution_count": 54,
   "metadata": {
    "collapsed": false
   },
   "outputs": [],
   "source": [
    "all_way_keys = pd.Series(counting_attributes('way'), name='types of tags on ways')"
   ]
  },
  {
   "cell_type": "code",
   "execution_count": 55,
   "metadata": {
    "collapsed": false
   },
   "outputs": [
    {
     "data": {
      "text/plain": [
       "building            583\n",
       "color               557\n",
       "footway             772\n",
       "highway            6793\n",
       "name               4433\n",
       "natural             704\n",
       "oneway              613\n",
       "review             1463\n",
       "source             2370\n",
       "tiger:cfcc         2763\n",
       "tiger:county       2772\n",
       "tiger:name_base    2664\n",
       "tiger:name_type    2518\n",
       "tiger:reviewed     2571\n",
       "tiger:separated    1855\n",
       "tiger:source       1957\n",
       "tiger:tlid         1972\n",
       "tiger:zip_left     2313\n",
       "tiger:zip_right    2262\n",
       "Name: types of tags on ways, dtype: int64"
      ]
     },
     "execution_count": 55,
     "metadata": {},
     "output_type": "execute_result"
    }
   ],
   "source": [
    "# displaying the more common way key attributes in alphabetical order\n",
    "most_used_way_keys = all_way_keys[all_way_keys.values > 500]\n",
    "most_used_way_keys"
   ]
  },
  {
   "cell_type": "markdown",
   "metadata": {},
   "source": [
    "there's a lot of `tiger:` data. I did not know what this is and went to check it up on the OSM wiki:\n",
    "http://wiki.openstreetmap.org/wiki/TIGER\n",
    "\n",
    "So let's check which TIGER data I'm having in my map section, and how much of it:"
   ]
  },
  {
   "cell_type": "code",
   "execution_count": 76,
   "metadata": {
    "collapsed": false
   },
   "outputs": [],
   "source": [
    "def number_of_specific_attribs(way_or_node, regex):\n",
    "    '''Returns the attributes specified through the input and how often they occur\n",
    "    \n",
    "    Takes as input a primary XML tag that holds tags in this dataset (\"way\" or \"node\")\n",
    "    and a regular expression to match the desired attributes of these tags\n",
    "    Returns a pandas Series object mapping the attributes to the amount of their occurence.\n",
    "    '''\n",
    "    import re\n",
    "    import pandas as pd\n",
    "    regex_keys = {}\n",
    "    for event, elem in ET.iterparse(las_vegas_osm, events=('start',)):\n",
    "        if elem.tag == way_or_node:\n",
    "            for tag in elem.iter('tag'):\n",
    "                if re.search(regex, tag.attrib['k']):\n",
    "                    if tag.attrib['k'] not in regex_keys:\n",
    "                        regex_keys[tag.attrib['k']] = 1\n",
    "                    else:\n",
    "                        regex_keys[tag.attrib['k']] += 1\n",
    "    regex_series = pd.Series(regex_keys, name='tag attributes for \"%s\" matching \"%s\"' %(way_or_node, regex.pattern))\n",
    "    return regex_series"
   ]
  },
  {
   "cell_type": "code",
   "execution_count": 77,
   "metadata": {
    "collapsed": false
   },
   "outputs": [
    {
     "data": {
      "text/plain": [
       "tiger:cfcc                     2763\n",
       "tiger:county                   2772\n",
       "tiger:mtfcc                      56\n",
       "tiger:name_base                2664\n",
       "tiger:name_direction_prefix     358\n",
       "tiger:name_direction_suffix       2\n",
       "tiger:name_full                  54\n",
       "tiger:name_type                2518\n",
       "tiger:reviewed                 2571\n",
       "tiger:separated                1855\n",
       "tiger:source                   1957\n",
       "tiger:tlid                     1972\n",
       "tiger:upload_uuid               254\n",
       "tiger:zip_left                 2313\n",
       "tiger:zip_right                2262\n",
       "Name: tag attributes for \"way\" matching \"^tiger:[a-z_]*$\", dtype: int64"
      ]
     },
     "execution_count": 77,
     "metadata": {},
     "output_type": "execute_result"
    }
   ],
   "source": [
    "import re\n",
    "tiger_attribs = re.compile(r'^tiger:[a-z_]*$')\n",
    "all_tiger = number_of_specific_attribs('way', tiger_attribs)\n",
    "all_tiger"
   ]
  },
  {
   "cell_type": "code",
   "execution_count": 78,
   "metadata": {
    "collapsed": false
   },
   "outputs": [],
   "source": [
    "# I've written this function to better inspect what type of data the different attributes contain\n",
    "def get_attrib_values(way_or_node, attribute):\n",
    "    '''Collects all the \"v\" values for the given \"k\" attribute and counts their occurences\n",
    "    \n",
    "    Takes as input a primary XML tag that holds tags in this dataset (\"way\" or \"node\")\n",
    "    and a string pertaining to an existing attribute \n",
    "    Returns a pandas Series object mapping the \"v\" values of the attribute to the amount of their occurence.\n",
    "    '''\n",
    "    attribute_values = {}\n",
    "    for event, elem in ET.iterparse(las_vegas_osm, events=('start',)):\n",
    "        if elem.tag == way_or_node:\n",
    "            for tag in elem.iter('tag'):\n",
    "                if tag.attrib['k'] == attribute:\n",
    "                    if tag.attrib['v'] not in attribute_values:\n",
    "                        attribute_values[tag.attrib['v']] = 1\n",
    "                    else:\n",
    "                        attribute_values[tag.attrib['v']] += 1\n",
    "    attribute_values_series = pd.Series(attribute_values, name='amounts of values for \"%s\"' %(attribute))\n",
    "    return attribute_values_series"
   ]
  },
  {
   "cell_type": "code",
   "execution_count": 80,
   "metadata": {
    "collapsed": false
   },
   "outputs": [
    {
     "data": {
      "text/plain": [
       "Arroyo Grande                4\n",
       "Buffalo                      6\n",
       "Decatur                      5\n",
       "Desert Inn                   4\n",
       "Durango                      4\n",
       "Fort Apache                  5\n",
       "Heritage                     4\n",
       "Jones                        7\n",
       "Martin L King                4\n",
       "Park                         4\n",
       "Pecos                        8\n",
       "Sahara                       7\n",
       "Stewart                      4\n",
       "Tenaya                       5\n",
       "Torrey Pines                 4\n",
       "Town Center                  5\n",
       "Union Pacific Railroad      13\n",
       "United States Highway 95     9\n",
       "Name: amounts of values for \"tiger:name_base\", dtype: int64"
      ]
     },
     "execution_count": 80,
     "metadata": {},
     "output_type": "execute_result"
    }
   ],
   "source": [
    "tiger_values = get_attrib_values('way', 'tiger:name_base')\n",
    "# look at a few of the values\n",
    "tiger_values_top = tiger_values[tiger_values.values > 3]\n",
    "tiger_values_top"
   ]
  },
  {
   "cell_type": "markdown",
   "metadata": {},
   "source": [
    "This does look a bit like street names, or place names (there's also a lake somewhere among them). But none of them has a street ending information associated.\n",
    "\n",
    "But: through reading the information on the OSM Wiki about TIGER data, I know that its way of recording had the street name data organized like this: `\"#{fedirp} #{fename} #{fetype} #{fedirs}\".strip`. When that data got imported to OSM, the aim was to split the road information into more separate attributes.\n",
    "\n",
    "Therefore there exist attributes for `name_direction_prefix_1`, `name_base_1`, `name_type_1` and `name_direction_suffix_1`, that together can form e.g. a street name."
   ]
  },
  {
   "cell_type": "markdown",
   "metadata": {},
   "source": [
    "I also went to check the length of the set:"
   ]
  },
  {
   "cell_type": "code",
   "execution_count": 81,
   "metadata": {
    "collapsed": false
   },
   "outputs": [
    {
     "name": "stdout",
     "output_type": "stream",
     "text": [
      "2425\n"
     ]
    },
    {
     "data": {
      "text/plain": [
       "True"
      ]
     },
     "execution_count": 81,
     "metadata": {},
     "output_type": "execute_result"
    }
   ],
   "source": [
    "print len(tiger_values)\n",
    "tiger_keys['tiger:name_base'] > len(tiger_values)"
   ]
  },
  {
   "cell_type": "markdown",
   "metadata": {},
   "source": [
    "Since this number is lower than the one I found counting all occurances, this means that some were appearing double. I might go and investigate into this further. These doubles might be legitimate, but they could also be redundant."
   ]
  },
  {
   "cell_type": "markdown",
   "metadata": {},
   "source": [
    "So now I went to look at the actual street name endings, to see what is there."
   ]
  },
  {
   "cell_type": "code",
   "execution_count": 82,
   "metadata": {
    "collapsed": true
   },
   "outputs": [],
   "source": [
    "nametype_list = get_attrib_values('way', 'tiger:name_type')"
   ]
  },
  {
   "cell_type": "code",
   "execution_count": 90,
   "metadata": {
    "collapsed": false
   },
   "outputs": [
    {
     "data": {
      "text/plain": [
       "Ave               491\n",
       "Dr                468\n",
       "St                431\n",
       "Ct                376\n",
       "Ln                190\n",
       "Way               165\n",
       "Rd                129\n",
       "Cir               120\n",
       "Blvd               52\n",
       "Pl                 51\n",
       "Pky                18\n",
       "Ter                13\n",
       "Trl                 3\n",
       "Dr; Dr; Dr; Rd      3\n",
       "Ctr                 2\n",
       "Xing                1\n",
       "Cv                  1\n",
       "Way; Rd; Way        1\n",
       "Rd; Blvd            1\n",
       "St:Trl              1\n",
       "Aly                 1\n",
       "Name: amounts of values for \"tiger:name_type\", dtype: int64"
      ]
     },
     "execution_count": 90,
     "metadata": {},
     "output_type": "execute_result"
    }
   ],
   "source": [
    "nametype_list.order(ascending=False)"
   ]
  },
  {
   "cell_type": "markdown",
   "metadata": {},
   "source": [
    "Most of these abbreviations seem to be legitimate (according to the TIGER Appendix D (2000) that I found here: http://cugir.mannlib.cornell.edu/metadata/cens2000/TIGER2000.pdf).\n",
    "However, there are some strange values, such as `Dr; Dr; Dr; Rd`, that might have come through a difference in the representation of ways between TIGER and OSM.\n",
    "\n",
    "My assumption is, that these represent more sections of a way element, since all the individual parts are valid in themselves. Therefore the above mentioned example could represent a Drive leading to a Drive leading to a Drive leading to a Road.\n",
    "\n",
    "Similarly, the again different representation `St:Trl` could stand for a Street leading to a Trail.\n",
    "\n",
    "I don't really know how to deal with these issues, because I am uncertain which of the information to discard and which to keep.\n",
    "\n",
    "---"
   ]
  },
  {
   "cell_type": "markdown",
   "metadata": {},
   "source": [
    "Another attribute that looked interesting to me was `tiger:name_full`, because this isn't mentioned in the OSM wiki and suggests that it would hold all the values that were in the TIGER data in one place (that is, just like other \"normal\" OSM attributes to `addr:street`."
   ]
  },
  {
   "cell_type": "code",
   "execution_count": 91,
   "metadata": {
    "collapsed": false
   },
   "outputs": [
    {
     "data": {
      "text/plain": [
       "Autumn King Ave                    1\n",
       "Bay Course Ct                      1\n",
       "Bethel Mill St:S Bethel Mill St    1\n",
       "Crooked Putter Dr                  1\n",
       "E Blue Rosalie Pl                  2\n",
       "Name: amounts of values for \"tiger:name_full\", dtype: int64"
      ]
     },
     "execution_count": 91,
     "metadata": {},
     "output_type": "execute_result"
    }
   ],
   "source": [
    "namefull_list = get_attrib_values('way', 'tiger:name_full')\n",
    "namefull_list.head()"
   ]
  },
  {
   "cell_type": "markdown",
   "metadata": {},
   "source": [
    "And indeed: they are!"
   ]
  },
  {
   "cell_type": "code",
   "execution_count": 92,
   "metadata": {
    "collapsed": false
   },
   "outputs": [
    {
     "data": {
      "text/plain": [
       "54"
      ]
     },
     "execution_count": 92,
     "metadata": {},
     "output_type": "execute_result"
    }
   ],
   "source": [
    "tiger_keys['tiger:name_full']"
   ]
  },
  {
   "cell_type": "markdown",
   "metadata": {},
   "source": [
    "A fast check on how many there are makes it clear to me that it is not a copy of the split-up data. The entries might still be copies of **some** entries that were split up, or they might be unique entries.\n",
    "\n",
    "To determine this, I'll need to investigate further."
   ]
  },
  {
   "cell_type": "markdown",
   "metadata": {},
   "source": [
    "Another thing that I can see here that pertains to the issue with the `tiger:name_type`s above, is the entry `Bethel Mill St:S Bethel Mill St `. I went to check for this street using google maps https://goo.gl/maps/8onJzAYjZoK2 and found it to be leading *S*. Howevere, there seems to be no _S Bethel Mill St_ recorded.\n",
    "\n",
    "This makes me suspect that the `:` notation might be used to indicate **alternative namings** for certain ways.\n",
    "\n",
    "Haha, still don't know what to do with it. :)\n",
    "\n",
    "---"
   ]
  },
  {
   "cell_type": "markdown",
   "metadata": {},
   "source": [
    "Okay. This is too complicated for me. I'll cut it down to cleaning some other part of the dataset.\n",
    "\n",
    "I like nature. So here we go."
   ]
  },
  {
   "cell_type": "markdown",
   "metadata": {},
   "source": [
    "## Cleaning nature"
   ]
  },
  {
   "cell_type": "code",
   "execution_count": 96,
   "metadata": {
    "collapsed": false
   },
   "outputs": [
    {
     "data": {
      "text/plain": [
       "leisure    18\n",
       "Name: tag attributes for \"node\" matching \"leisure\", dtype: int64"
      ]
     },
     "execution_count": 96,
     "metadata": {},
     "output_type": "execute_result"
    }
   ],
   "source": [
    "leisure = re.compile(r'leisure')\n",
    "number_of_specific_attribs('node', leisure)"
   ]
  },
  {
   "cell_type": "code",
   "execution_count": 97,
   "metadata": {
    "collapsed": false
   },
   "outputs": [
    {
     "data": {
      "text/plain": [
       "park             12\n",
       "picnic_table      1\n",
       "playground        1\n",
       "sports_centre     1\n",
       "swimming_pool     3\n",
       "Name: amounts of values for \"leisure\", dtype: int64"
      ]
     },
     "execution_count": 97,
     "metadata": {},
     "output_type": "execute_result"
    }
   ],
   "source": [
    "get_attrib_values('node', leisure.pattern)"
   ]
  },
  {
   "cell_type": "code",
   "execution_count": 98,
   "metadata": {
    "collapsed": false
   },
   "outputs": [
    {
     "data": {
      "text/plain": [
       "leisure    162\n",
       "Name: tag attributes for \"way\" matching \"leisure\", dtype: int64"
      ]
     },
     "execution_count": 98,
     "metadata": {},
     "output_type": "execute_result"
    }
   ],
   "source": [
    "number_of_specific_attribs('way', leisure)"
   ]
  },
  {
   "cell_type": "code",
   "execution_count": 99,
   "metadata": {
    "collapsed": false
   },
   "outputs": [
    {
     "data": {
      "text/plain": [
       "common                1\n",
       "garden                2\n",
       "golf_course           1\n",
       "hockey                1\n",
       "nature_reserve        1\n",
       "park                 50\n",
       "pitch                71\n",
       "playground            7\n",
       "recreation_ground     1\n",
       "stadium               3\n",
       "swimming_pool        23\n",
       "track                 1\n",
       "Name: amounts of values for \"leisure\", dtype: int64"
      ]
     },
     "execution_count": 99,
     "metadata": {},
     "output_type": "execute_result"
    }
   ],
   "source": [
    "get_attrib_values('way', leisure.pattern)"
   ]
  },
  {
   "cell_type": "code",
   "execution_count": null,
   "metadata": {
    "collapsed": true
   },
   "outputs": [],
   "source": []
  }
 ],
 "metadata": {
  "kernelspec": {
   "display_name": "Python 2",
   "language": "python",
   "name": "python2"
  },
  "language_info": {
   "codemirror_mode": {
    "name": "ipython",
    "version": 2
   },
   "file_extension": ".py",
   "mimetype": "text/x-python",
   "name": "python",
   "nbconvert_exporter": "python",
   "pygments_lexer": "ipython2",
   "version": "2.7.10"
  }
 },
 "nbformat": 4,
 "nbformat_minor": 0
}
