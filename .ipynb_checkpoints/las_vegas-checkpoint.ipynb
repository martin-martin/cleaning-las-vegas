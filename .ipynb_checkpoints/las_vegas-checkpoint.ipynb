{
 "cells": [
  {
   "cell_type": "markdown",
   "metadata": {},
   "source": [
    "# Cleaning the streets of Las Vegas\n",
    "A digital walk to get to know my surroundings through the computer, using Data Wrangling."
   ]
  },
  {
   "cell_type": "markdown",
   "metadata": {},
   "source": [
    "## Getting the data\n",
    "I chose to investigate the **MapZen metro extract** of **Las Vegas, Nevada** found here: https://mapzen.com/data/metro-extracts\n",
    "(probably approximately containing this: https://www.openstreetmap.org/export#map=12/36.1750/-115.1372)\n",
    "\n",
    "My flight to the USA had its destination here. I felt like taking a (for me) new approach to discovering a place that I am staying in. So I've decided to use the dataset of LV, to programmatically investigate and clean the OSM data available.\n",
    "\n",
    "Getting to know which streets are around the place that I am staying. Learning about the size, the sights, and what people find important enough to map in this city.\n",
    "\n",
    "I'll be spending my days here, however mostly inside, take digital walks and discovery tours by diving into the OSM data, and on my way maybe also do something good for this city, by cleaning its streets in such a way where I can maybe actually contribute a little. :)"
   ]
  },
  {
   "cell_type": "markdown",
   "metadata": {},
   "source": [
    "## Inspecting\n",
    "First I'll take a look at the data I will be working with."
   ]
  },
  {
   "cell_type": "code",
   "execution_count": 29,
   "metadata": {
    "collapsed": false
   },
   "outputs": [
    {
     "name": "stdout",
     "output_type": "stream",
     "text": [
      "File Size in Bytes: 18702424\n",
      "File Size in MB:    17\n"
     ]
    }
   ],
   "source": [
    "import os\n",
    "#las_vegas_osm = 'las-vegas_nevada.osm'\n",
    "# for testing and developing purposes, here's the truncated version:\n",
    "las_vegas_osm = 'LV_truncated.osm'\n",
    "file_size = os.path.getsize(las_vegas_osm)\n",
    "print 'File Size in Bytes:', file_size\n",
    "print 'File Size in MB:   ', file_size / (2**20)"
   ]
  },
  {
   "cell_type": "code",
   "execution_count": 25,
   "metadata": {
    "collapsed": false
   },
   "outputs": [],
   "source": [
    "import xml.etree.cElementTree as ET\n",
    "import pprint\n",
    "\n",
    "def count_tags(filename):\n",
    "    '''Creates a dictionary with the tags present in the dataset, alongside a count for each'''\n",
    "    tag_dict = {}\n",
    "    for event, elem in ET.iterparse(filename):\n",
    "        if elem.tag not in tag_dict:\n",
    "            tag_dict[elem.tag] = 1\n",
    "        elif elem.tag in tag_dict:\n",
    "            tag_dict[elem.tag] += 1\n",
    "    return tag_dict\n",
    "\n",
    "\n",
    "#las_vegas_osm_dict = count_tags('las-vegas_nevada.osm')\n",
    "las_vegas_osm_dict = count_tags(las_vegas_osm)"
   ]
  },
  {
   "cell_type": "markdown",
   "metadata": {},
   "source": [
    "Which tags are present in the dataset, and how many of them?"
   ]
  },
  {
   "cell_type": "code",
   "execution_count": 26,
   "metadata": {
    "collapsed": false
   },
   "outputs": [
    {
     "data": {
      "text/plain": [
       "member         281\n",
       "nd          100995\n",
       "node         82011\n",
       "osm              1\n",
       "relation        31\n",
       "tag          54515\n",
       "way           9187\n",
       "Name: tags and their amounts, dtype: int64"
      ]
     },
     "execution_count": 26,
     "metadata": {},
     "output_type": "execute_result"
    }
   ],
   "source": [
    "import pandas as pd\n",
    "\n",
    "las_vegas_osm = pd.Series(las_vegas_osm_dict, name='tags and their amounts')\n",
    "las_vegas_osm"
   ]
  },
  {
   "cell_type": "code",
   "execution_count": 30,
   "metadata": {
    "collapsed": false,
    "scrolled": true
   },
   "outputs": [],
   "source": [
    "way_keys = {}\n",
    "for event, elem in ET.iterparse(las_vegas_osm, events=('start',)):\n",
    "    if elem.tag == 'way':\n",
    "        for tag in elem.iter('tag'):\n",
    "            if tag.attrib['k'] not in way_keys:\n",
    "                way_keys[tag.attrib['k']] = 1\n",
    "            else:\n",
    "                way_keys[tag.attrib['k']] += 1"
   ]
  },
  {
   "cell_type": "code",
   "execution_count": 31,
   "metadata": {
    "collapsed": false
   },
   "outputs": [
    {
     "name": "stdout",
     "output_type": "stream",
     "text": [
      "building : 583\n",
      "color : 557\n",
      "footway : 772\n",
      "highway : 6793\n",
      "name : 4433\n",
      "natural : 704\n",
      "oneway : 613\n",
      "review : 1463\n",
      "source : 2370\n",
      "tiger:cfcc : 2763\n",
      "tiger:county : 2772\n",
      "tiger:name_base : 2664\n",
      "tiger:name_type : 2518\n",
      "tiger:reviewed : 2571\n",
      "tiger:separated : 1855\n",
      "tiger:source : 1957\n",
      "tiger:tlid : 1972\n",
      "tiger:zip_left : 2313\n",
      "tiger:zip_right : 2262\n"
     ]
    }
   ],
   "source": [
    "all_way_keys = pd.Series(way_keys, name='types of tags on ways')\n",
    "for key, value in sorted(way_keys.items()):\n",
    "    if value > 500:\n",
    "        print key, ':', value"
   ]
  },
  {
   "cell_type": "markdown",
   "metadata": {},
   "source": [
    "there's a lot of `tiger:` data. I did not know what this is and went to check it up on the OSM wiki:\n",
    "http://wiki.openstreetmap.org/wiki/TIGER\n",
    "\n",
    "So let's check which TIGER data I'm having in my map section, and how much of it:"
   ]
  },
  {
   "cell_type": "code",
   "execution_count": 39,
   "metadata": {
    "collapsed": false
   },
   "outputs": [
    {
     "data": {
      "text/plain": [
       "{'tiger:cfcc': 2763,\n",
       " 'tiger:county': 2772,\n",
       " 'tiger:mtfcc': 56,\n",
       " 'tiger:name_base': 2664,\n",
       " 'tiger:name_direction_prefix': 358,\n",
       " 'tiger:name_direction_suffix': 2,\n",
       " 'tiger:name_full': 54,\n",
       " 'tiger:name_type': 2518,\n",
       " 'tiger:reviewed': 2571,\n",
       " 'tiger:separated': 1855,\n",
       " 'tiger:source': 1957,\n",
       " 'tiger:tlid': 1972,\n",
       " 'tiger:upload_uuid': 254,\n",
       " 'tiger:zip_left': 2313,\n",
       " 'tiger:zip_right': 2262}"
      ]
     },
     "execution_count": 39,
     "metadata": {},
     "output_type": "execute_result"
    }
   ],
   "source": [
    "import re\n",
    "\n",
    "tiger_keys = {}\n",
    "for event, elem in ET.iterparse(las_vegas_osm, events=('start',)):\n",
    "    if elem.tag == 'way':\n",
    "        for tag in elem.iter('tag'):\n",
    "            if re.search(r'^tiger:[a-z_]*$', tag.attrib['k']):\n",
    "                if tag.attrib['k'] not in tiger_keys:\n",
    "                    tiger_keys[tag.attrib['k']] = 1\n",
    "                else:\n",
    "                    tiger_keys[tag.attrib['k']] += 1\n",
    "tiger_keys"
   ]
  },
  {
   "cell_type": "code",
   "execution_count": 44,
   "metadata": {
    "collapsed": false
   },
   "outputs": [
    {
     "data": {
      "text/plain": [
       "['Villa Granada', 'Cross Creek', 'Rutland', 'Hibbetts', 'Grand Anacapri']"
      ]
     },
     "execution_count": 44,
     "metadata": {},
     "output_type": "execute_result"
    }
   ],
   "source": [
    "# I've written this function to better inspect what type of data the different attributes contain\n",
    "def get_attrib_values(attribute):\n",
    "    '''Collects all the \"v\" values for the given \"k\" attribute in a list'''\n",
    "    attribute_values = set()\n",
    "    for event, elem in ET.iterparse(las_vegas_osm, events=('start',)):\n",
    "        if elem.tag == 'way':\n",
    "            for tag in elem.iter('tag'):\n",
    "                if tag.attrib['k'] == attribute:\n",
    "                    attribute_values.add(tag.attrib['v'])\n",
    "    return attribute_values\n",
    "\n",
    "name_list = get_attrib_values('tiger:name_base')\n",
    "# look at a few of the values\n",
    "list(name_list)[:5]"
   ]
  },
  {
   "cell_type": "markdown",
   "metadata": {},
   "source": [
    "This does look a bit like street names, or place names (there's also a lake somewhere among them). But none of them has a street ending information associated.\n",
    "\n",
    "But: through reading the information on the OSM Wiki about TIGER data, I know that its way of recording had the street name data organized like this: `\"#{fedirp} #{fename} #{fetype} #{fedirs}\".strip`. When that data got imported to OSM, the aim was to split the road information into more separate attributes.\n",
    "\n",
    "Therefore there exist attributes for `name_direction_prefix_1`, `name_base_1`, `name_type_1` and `name_direction_suffix_1`, that together can form e.g. a street name."
   ]
  },
  {
   "cell_type": "code",
   "execution_count": null,
   "metadata": {
    "collapsed": true
   },
   "outputs": [],
   "source": []
  },
  {
   "cell_type": "code",
   "execution_count": null,
   "metadata": {
    "collapsed": true
   },
   "outputs": [],
   "source": []
  },
  {
   "cell_type": "code",
   "execution_count": 35,
   "metadata": {
    "collapsed": false
   },
   "outputs": [
    {
     "data": {
      "text/plain": [
       "2425"
      ]
     },
     "execution_count": 35,
     "metadata": {},
     "output_type": "execute_result"
    }
   ],
   "source": [
    "len(name_list)"
   ]
  },
  {
   "cell_type": "code",
   "execution_count": 37,
   "metadata": {
    "collapsed": true
   },
   "outputs": [],
   "source": [
    "nametype_list = get_attrib_values('tiger:name_type')"
   ]
  },
  {
   "cell_type": "code",
   "execution_count": 38,
   "metadata": {
    "collapsed": false
   },
   "outputs": [
    {
     "data": {
      "text/plain": [
       "{'Aly',\n",
       " 'Ave',\n",
       " 'Blvd',\n",
       " 'Cir',\n",
       " 'Ct',\n",
       " 'Ctr',\n",
       " 'Cv',\n",
       " 'Dr',\n",
       " 'Dr; Dr; Dr; Rd',\n",
       " 'Ln',\n",
       " 'Pky',\n",
       " 'Pl',\n",
       " 'Rd',\n",
       " 'Rd; Blvd',\n",
       " 'St',\n",
       " 'St:Trl',\n",
       " 'Ter',\n",
       " 'Trl',\n",
       " 'Way',\n",
       " 'Way; Rd; Way',\n",
       " 'Xing'}"
      ]
     },
     "execution_count": 38,
     "metadata": {},
     "output_type": "execute_result"
    }
   ],
   "source": [
    "nametype_list"
   ]
  },
  {
   "cell_type": "code",
   "execution_count": 40,
   "metadata": {
    "collapsed": false
   },
   "outputs": [
    {
     "data": {
      "text/plain": [
       "{'Autumn King Ave',\n",
       " 'Bay Course Ct',\n",
       " 'Bethel Mill St:S Bethel Mill St',\n",
       " 'Crooked Putter Dr',\n",
       " 'E Blue Rosalie Pl',\n",
       " 'E Cantabria Heights Ave',\n",
       " 'E Cortez Bank Way',\n",
       " 'E Erie Ave',\n",
       " 'E Grand Cerritos Ave',\n",
       " 'E Jasmine Grove Way',\n",
       " 'E Levi St',\n",
       " 'E Liberty Heights Ave',\n",
       " 'E Oak Village Ave',\n",
       " 'E Quaint Acres Ave',\n",
       " 'E Sheerwater Ave',\n",
       " 'E Siddall Ave',\n",
       " 'E Socorro Song Ln',\n",
       " 'E Tillman Falls Ave',\n",
       " 'E Via Greca Ave',\n",
       " 'Edwardian St',\n",
       " 'Even Par Dr',\n",
       " 'Glen Iris St',\n",
       " 'Green Falls Ave',\n",
       " 'Haplin Ave',\n",
       " 'Jeffreys St',\n",
       " 'Laying Up Ct',\n",
       " 'Osterville St',\n",
       " 'Real Long Way',\n",
       " 'Rusty Springs Ct',\n",
       " 'S Adams Chase St',\n",
       " 'S African Sunset St',\n",
       " 'S Amigo St',\n",
       " 'S Arcadia Sunrise Dr',\n",
       " 'S Cassleman Ct',\n",
       " 'S Cherry Brook St',\n",
       " 'S Corte Sierra St',\n",
       " 'S Gwynns Falls St',\n",
       " 'S Ledroit St',\n",
       " 'S Montana Mountain St',\n",
       " 'S Orchard St',\n",
       " 'S Phesant Brook St',\n",
       " 'S Sunshine Village Pl',\n",
       " 'S Tawny Buck Ct',\n",
       " 'S Timber Stand St',\n",
       " 'S Tranquil Breeze St',\n",
       " 'S Via Scula',\n",
       " 'S Viterbo Ave',\n",
       " 'Spansih Sky Ave',\n",
       " 'Spruce Pine Ct',\n",
       " 'Toscanella Ave',\n",
       " 'Tristan Flower Ave'}"
      ]
     },
     "execution_count": 40,
     "metadata": {},
     "output_type": "execute_result"
    }
   ],
   "source": [
    "namefull_list = get_attrib_values('tiger:name_full')\n",
    "namefull_list"
   ]
  },
  {
   "cell_type": "code",
   "execution_count": null,
   "metadata": {
    "collapsed": true
   },
   "outputs": [],
   "source": [
    "def is_street_name():\n",
    "    return (elem.attrib['k'] == )\n",
    "\n",
    "def audit_tag(tag_name):\n",
    "    '''\n",
    "    \n",
    "    '''\n",
    "    for event, elem in ET.iterparse(las_vegas_osm, events=('start',)):\n",
    "        if elem.tag == tag_name:\n",
    "            for tag in elem.iter('tag'):\n",
    "                if is_street_name(tag):\n",
    "                    audit_street_types(street_types, tag.attrib['v'])\n",
    "    "
   ]
  }
 ],
 "metadata": {
  "kernelspec": {
   "display_name": "Python 2",
   "language": "python",
   "name": "python2"
  },
  "language_info": {
   "codemirror_mode": {
    "name": "ipython",
    "version": 2
   },
   "file_extension": ".py",
   "mimetype": "text/x-python",
   "name": "python",
   "nbconvert_exporter": "python",
   "pygments_lexer": "ipython2",
   "version": "2.7.10"
  }
 },
 "nbformat": 4,
 "nbformat_minor": 0
}
